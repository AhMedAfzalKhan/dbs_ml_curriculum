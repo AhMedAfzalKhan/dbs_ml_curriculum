{
 "cells": [
  {
   "cell_type": "markdown",
   "metadata": {
    "slideshow": {
     "slide_type": "slide"
    }
   },
   "source": [
    "# Modifying Linear Regression"
   ]
  },
  {
   "cell_type": "markdown",
   "metadata": {
    "slideshow": {
     "slide_type": "subslide"
    }
   },
   "source": [
    "> Q: What if my dataset isn't \"linear\"?\n",
    "\n",
    "> A: We can still use OLS LR by modifying our data to linearize it!"
   ]
  },
  {
   "cell_type": "code",
   "execution_count": null,
   "metadata": {
    "ExecuteTime": {
     "end_time": "2018-11-16T16:33:26.416446Z",
     "start_time": "2018-11-16T16:33:22.806Z"
    },
    "scrolled": false,
    "slideshow": {
     "slide_type": "slide"
    }
   },
   "outputs": [],
   "source": [
    "# plot \n",
    "sns.lmplot('x', 'y', df2);"
   ]
  },
  {
   "cell_type": "markdown",
   "metadata": {
    "slideshow": {
     "slide_type": "subslide"
    }
   },
   "source": [
    "It's clear this dataset needs a line that \"bends\"! We only need one \"turn\" and this can be accomplished by a quadratic model. This can be created with packages, but can also be done by hand."
   ]
  },
  {
   "cell_type": "code",
   "execution_count": null,
   "metadata": {
    "ExecuteTime": {
     "end_time": "2018-11-16T16:33:26.418346Z",
     "start_time": "2018-11-16T16:33:22.810Z"
    },
    "slideshow": {
     "slide_type": "slide"
    }
   },
   "outputs": [],
   "source": [
    "df2['x2'] = df2.x**2 # create a feature which is the square of x\n",
    "df2['intercept'] = 1 # creates an intercept column of just 1's"
   ]
  },
  {
   "cell_type": "code",
   "execution_count": null,
   "metadata": {
    "ExecuteTime": {
     "end_time": "2018-11-16T16:33:26.421386Z",
     "start_time": "2018-11-16T16:33:22.813Z"
    },
    "slideshow": {
     "slide_type": "subslide"
    }
   },
   "outputs": [],
   "source": [
    "# specify features and target\n",
    "y = df2.y\n",
    "X = df2.loc[:,['x', 'x2', 'intercept']]"
   ]
  },
  {
   "cell_type": "code",
   "execution_count": null,
   "metadata": {
    "ExecuteTime": {
     "end_time": "2018-11-16T16:33:26.423441Z",
     "start_time": "2018-11-16T16:33:22.817Z"
    },
    "slideshow": {
     "slide_type": "slide"
    }
   },
   "outputs": [],
   "source": [
    "# build a model\n",
    "model = sm.OLS(y, X, data=df2)\n",
    "\n",
    "results = model.fit()\n",
    "\n",
    "# summarize our model\n",
    "results.summary()"
   ]
  },
  {
   "cell_type": "markdown",
   "metadata": {
    "slideshow": {
     "slide_type": "slide"
    }
   },
   "source": [
    "Now let's plot our original data points against our line that can curve!"
   ]
  },
  {
   "cell_type": "code",
   "execution_count": null,
   "metadata": {
    "ExecuteTime": {
     "end_time": "2018-11-16T16:33:26.426678Z",
     "start_time": "2018-11-16T16:33:22.823Z"
    },
    "slideshow": {
     "slide_type": "slide"
    }
   },
   "outputs": [],
   "source": [
    "# generate x-values for your regression line (two is sufficient)\n",
    "points = np.linspace(3, 15)\n",
    "\n",
    "# pull parameters\n",
    "p = results.params # this is how we get model parameters\n",
    "\n",
    "# scatter-plot data\n",
    "ax = df2.plot(x='x', y='y', kind='scatter')\n",
    "\n",
    "# plot regression line on the same axes, set x-axis limits\n",
    "ax.plot(points, p.intercept + p.x * points + p.x2 * points**2);"
   ]
  },
  {
   "cell_type": "markdown",
   "metadata": {
    "slideshow": {
     "slide_type": "slide"
    }
   },
   "source": [
    "We have a perfect fit!!\n",
    "\n",
    "This modification of features and target can be done with log, power, and other transformations to give linear models better performance. The model stays linear cause the coefficients are scalars; it's the data that gets modified."
   ]
  },
  {
   "cell_type": "markdown",
   "metadata": {
    "slideshow": {
     "slide_type": "subslide"
    }
   },
   "source": [
    "![Polynomial Regression](https://upload.wikimedia.org/wikipedia/commons/thumb/8/8b/Polyreg_scheffe.svg/341px-Polyreg_scheffe.svg.png)"
   ]
  },
  {
   "cell_type": "markdown",
   "metadata": {
    "slideshow": {
     "slide_type": "subslide"
    }
   },
   "source": [
    "![](https://scikit-learn.org/stable/_images/sphx_glr_plot_polynomial_interpolation_001.png)"
   ]
  },
  {
   "cell_type": "markdown",
   "metadata": {
    "slideshow": {
     "slide_type": "subslide"
    }
   },
   "source": [
    "More on [sklearn polynomial fitting here](https://scikit-learn.org/stable/auto_examples/linear_model/plot_polynomial_interpolation.html#sphx-glr-auto-examples-linear-model-plot-polynomial-interpolation-py)"
   ]
  },
  {
   "cell_type": "code",
   "execution_count": null,
   "metadata": {},
   "outputs": [],
   "source": []
  },
  {
   "cell_type": "code",
   "execution_count": null,
   "metadata": {},
   "outputs": [],
   "source": []
  }
 ],
 "metadata": {
  "kernelspec": {
   "display_name": "Python 3",
   "language": "python",
   "name": "python3"
  },
  "language_info": {
   "codemirror_mode": {
    "name": "ipython",
    "version": 3
   },
   "file_extension": ".py",
   "mimetype": "text/x-python",
   "name": "python",
   "nbconvert_exporter": "python",
   "pygments_lexer": "ipython3",
   "version": "3.6.6"
  }
 },
 "nbformat": 4,
 "nbformat_minor": 2
}
