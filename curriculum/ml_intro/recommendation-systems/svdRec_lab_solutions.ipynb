{
 "cells": [
  {
   "cell_type": "markdown",
   "metadata": {},
   "source": [
    "# Demo of [svdRec](https://github.com/ZWMiller/svdRec), a Python3 module for Recommenders"
   ]
  },
  {
   "cell_type": "markdown",
   "metadata": {},
   "source": [
    "The `ratings.csv` file we'll use is 20M rows and can take a while to process. The following will download the file and process it in bash for you:"
   ]
  },
  {
   "cell_type": "code",
   "execution_count": null,
   "metadata": {},
   "outputs": [],
   "source": [
    "! mkdir -p ~/.surprise_data/ml-20m\n",
    "! wget http://files.grouplens.org/datasets/movielens/ml-20m.zip -nc -P ~/.surprise_data/ml-20m\n",
    "! unzip -n ~/.surprise_data/ml-20m/ml-20m.zip -d ~/.surprise_data/ml-20m\n",
    "! cat ~/.surprise_data/ml-20m/ml-20m/ratings.csv | head -100000 > ~/.surprise_data/ml-20m/ml-20m/ratings_small.csv"
   ]
  },
  {
   "cell_type": "code",
   "execution_count": null,
   "metadata": {},
   "outputs": [],
   "source": [
    "! pip install svdRec -U"
   ]
  },
  {
   "cell_type": "markdown",
   "metadata": {},
   "source": [
    "We'll also load in the movies.csv file to a DataFrame - this will act as a dictionary to translate between MovieID and Movie Titles."
   ]
  },
  {
   "cell_type": "code",
   "execution_count": null,
   "metadata": {},
   "outputs": [],
   "source": [
    "from svdRec import svdRec\n",
    "import pandas as pd\n",
    "from pathlib import Path\n",
    "\n",
    "svd = svdRec.svdRec()\n",
    "svd.load_csv_sparse(Path.home()/'.surprise_data/ml-20m/ml-20m/ratings_small.csv', delimiter=',', skiprows=1) # update this path\n",
    "svd.SVD(num_dim=100) # we create 100 latent features"
   ]
  },
  {
   "cell_type": "code",
   "execution_count": null,
   "metadata": {},
   "outputs": [],
   "source": [
    "# load and convert movie info to dictionary format\n",
    "movies = pd.read_table('recommenders/ml-20m/movies.csv', sep=',',names = ['movieId',\"Title\",\"genres\"])\n",
    "movie_dict = {}\n",
    "for i, row in movies.iterrows():\n",
    "    movie_dict.update({row['movieId']: row['Title']})\n",
    "svd.load_item_encoder(movie_dict)"
   ]
  },
  {
   "cell_type": "code",
   "execution_count": null,
   "metadata": {},
   "outputs": [],
   "source": [
    "MOVIE_ID = 3114 # Toy Story 2\n",
    "for item in svd.get_similar_items(MOVIE_ID,show_similarity=True):\n",
    "    print(item)\n",
    "    print(svd.get_item_name(item[0]),'\\n')"
   ]
  },
  {
   "cell_type": "markdown",
   "metadata": {},
   "source": [
    "As expected, Toy Story 2 is most like itself based on the hidden dimensions we derive via *Collaborative Filtering*, or using human ratings to understand movie themes. The other recommendations make sense also."
   ]
  },
  {
   "cell_type": "code",
   "execution_count": null,
   "metadata": {},
   "outputs": [],
   "source": [
    "# find the top recommendations for user 25\n",
    "\n",
    "USERID=25\n",
    "for item in svd.recommends_for_user(USERID, num_recom=5, show_similarity=False):\n",
    "    print(\"ID: \", item)\n",
    "    print(\"Actual Rating: \", svd.mat.toarray()[USERID][item])\n",
    "    print(\"Title: \",svd.get_item_name(item),'\\n')"
   ]
  },
  {
   "cell_type": "markdown",
   "metadata": {},
   "source": [
    "Note that the \"Actual Rating: 0.0\" means the user has not seen or rated those movies. This also looks good!"
   ]
  },
  {
   "cell_type": "code",
   "execution_count": null,
   "metadata": {},
   "outputs": [],
   "source": [
    "# find user 3's most similar person\n",
    "# generate list of movie IDs for user 3 to watch\n",
    "\n",
    "user_to_rec = 3\n",
    "print(\"Items for User %s to check out based on similar user:\\n\"% user_to_rec, svd.recs_from_closest_user(user_to_rec))"
   ]
  },
  {
   "cell_type": "markdown",
   "metadata": {},
   "source": [
    "## Discussion:\n",
    "\n",
    "- How could we recommend solely using Content-Based methods?\n",
    "- Are there issues with this approach?\n",
    "- What would a hybrid setup look like?\n",
    "- What are the pros and cons of a hybrid approach over just Collaborative Filtering?"
   ]
  }
 ],
 "metadata": {
  "language_info": {
   "codemirror_mode": {
    "name": "ipython",
    "version": 3
   },
   "file_extension": ".py",
   "mimetype": "text/x-python",
   "name": "python",
   "nbconvert_exporter": "python",
   "pygments_lexer": "ipython3",
   "version": "3.6.6"
  }
 },
 "nbformat": 4,
 "nbformat_minor": 2
}
