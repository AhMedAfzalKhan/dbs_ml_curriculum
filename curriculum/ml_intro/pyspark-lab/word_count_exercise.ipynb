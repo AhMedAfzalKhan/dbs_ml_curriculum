{
 "cells": [
  {
   "cell_type": "markdown",
   "metadata": {},
   "source": [
    "# Playing with Spark API: Exercise"
   ]
  },
  {
   "cell_type": "markdown",
   "metadata": {},
   "source": [
    "Let's create pyspark and get it ready to do things."
   ]
  },
  {
   "cell_type": "code",
   "execution_count": null,
   "metadata": {},
   "outputs": [],
   "source": [
    "import pyspark\n",
    "\n",
    "spark = pyspark.sql.SparkSession.builder.getOrCreate()"
   ]
  },
  {
   "cell_type": "code",
   "execution_count": null,
   "metadata": {},
   "outputs": [],
   "source": [
    "documents = ['This is a document',\n",
    "             'This is another document',\n",
    "             'This is yet a third document',\n",
    "             'When will this list of document end',\n",
    "             'This is the last document']"
   ]
  },
  {
   "cell_type": "code",
   "execution_count": null,
   "metadata": {},
   "outputs": [],
   "source": [
    "doc_df = spark.createDataFrame([(d,) for d in documents], ['word'])"
   ]
  },
  {
   "cell_type": "code",
   "execution_count": null,
   "metadata": {},
   "outputs": [],
   "source": [
    "doc_df.show(truncate=False)"
   ]
  },
  {
   "cell_type": "markdown",
   "metadata": {},
   "source": [
    "Let's get a few useful functions ready to go."
   ]
  },
  {
   "cell_type": "code",
   "execution_count": null,
   "metadata": {},
   "outputs": [],
   "source": [
    "from pyspark.sql.functions import split, explode, col, lower, sort_array\n",
    "\n",
    "doc_df.withColumn('word', split(lower(col('word')), \"\\s\")).show(10, truncate=False)"
   ]
  },
  {
   "cell_type": "code",
   "execution_count": null,
   "metadata": {},
   "outputs": [],
   "source": [
    "doc_df.withColumn('word', explode(split(lower(col('word')), \"\\s\"))).show(10, truncate=False)"
   ]
  },
  {
   "cell_type": "code",
   "execution_count": null,
   "metadata": {},
   "outputs": [],
   "source": [
    "doc_df.withColumn('word', explode(split(lower(col('word')), \"\\s\")))\\\n",
    "      .where('word != \"\"')\\\n",
    "      .groupBy('word')\\\n",
    "      .count()\\\n",
    "      .orderBy('count', ascending=False)\\\n",
    "      .show()"
   ]
  },
  {
   "cell_type": "markdown",
   "metadata": {},
   "source": [
    "## Words with friends - finding anagrams\n",
    "\n",
    "In the file \"data/words.txt\", there is a list of words. Our goal is to group together words that are anagrams of each other (e.g. ACT and CAT).\n",
    "\n",
    "This will show us how to load from a file, and a cool \"canonical representation\" trick.\n"
   ]
  },
  {
   "cell_type": "code",
   "execution_count": null,
   "metadata": {},
   "outputs": [],
   "source": [
    "word_df = spark.read.text('data/words.txt')\n",
    "word_df.show(10)"
   ]
  },
  {
   "cell_type": "markdown",
   "metadata": {},
   "source": [
    "First step, let's take every word and split it out into a list of characters and store that as a new column. So we want to go from:\n",
    "\n",
    "```\n",
    "| value |\n",
    "---------\n",
    "| AA    |\n",
    "| AAH   |\n",
    "| ...   |\n",
    "```\n",
    "\n",
    "Will become:\n",
    "\n",
    "```\n",
    "| value |     key     |\n",
    "-----------------------\n",
    "| AA    | [, A, A]    |\n",
    "| AAH   | [, A, A, H] |\n",
    "| ...   | ...         |\n",
    "```"
   ]
  },
  {
   "cell_type": "markdown",
   "metadata": {},
   "source": [
    "Now take that new list of characters you created and treat that as a key and group on that and see how many times those keys occur."
   ]
  },
  {
   "cell_type": "code",
   "execution_count": null,
   "metadata": {},
   "outputs": [],
   "source": []
  },
  {
   "cell_type": "markdown",
   "metadata": {},
   "source": [
    "What if we want to actually see all the anagrams? Hint: Check out the `collect_list` function."
   ]
  },
  {
   "cell_type": "code",
   "execution_count": null,
   "metadata": {},
   "outputs": [],
   "source": []
  },
  {
   "cell_type": "code",
   "execution_count": null,
   "metadata": {},
   "outputs": [],
   "source": []
  }
 ],
 "metadata": {
  "kernelspec": {
   "display_name": "Python [default]",
   "language": "python",
   "name": "python3"
  },
  "language_info": {
   "codemirror_mode": {
    "name": "ipython",
    "version": 3
   },
   "file_extension": ".py",
   "mimetype": "text/x-python",
   "name": "python",
   "nbconvert_exporter": "python",
   "pygments_lexer": "ipython3",
   "version": "3.6.6"
  },
  "toc": {
   "nav_menu": {},
   "number_sections": true,
   "sideBar": true,
   "skip_h1_title": false,
   "toc_cell": false,
   "toc_position": {},
   "toc_section_display": "block",
   "toc_window_display": false
  }
 },
 "nbformat": 4,
 "nbformat_minor": 2
}
