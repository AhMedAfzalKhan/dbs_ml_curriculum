{
 "cells": [
  {
   "cell_type": "code",
   "execution_count": null,
   "metadata": {},
   "outputs": [],
   "source": [
    "%pylab inline\n",
    "\n",
    "import sklearn\n",
    "import pandas as pd\n",
    "import seaborn as sns\n",
    "import arrow\n",
    "\n",
    "%config InlineBackend.figure_formats = ['retina']\n",
    "sns.set_style(\"white\")\n",
    "\n",
    "for lib in (sklearn, np, sns): # seaborn should be .9+ and sklearn .20+\n",
    "    print(f'{lib.__name__} Version: {lib.__version__}')"
   ]
  },
  {
   "cell_type": "markdown",
   "metadata": {},
   "source": [
    "Theoretical complexity is one thing, but what about empirical complexity? Let's look at the models we might use for classification and see how they do on large datasets.\n",
    "\n",
    "This is a short lesson meant to get you thinking about *real world, practical* complexity."
   ]
  },
  {
   "cell_type": "code",
   "execution_count": null,
   "metadata": {},
   "outputs": [],
   "source": [
    "import keras # we're just using this to grab the dataset for now\n",
    "from sklearn import preprocessing"
   ]
  },
  {
   "cell_type": "markdown",
   "metadata": {},
   "source": [
    "# We're going to need bigger data!\n",
    "\n",
    "In order to see important differences between models, we'll want to look at them as they handle datasets that are much bigger than what we've used so far in class.\n",
    "\n",
    "In order to do that, we'll use the full MNIST dataset ([more info](http://yann.lecun.com/exdb/mnist/)). This classic dataset contains 70,000 images of hand written digits. Each image is 28x28 pixels. Just like we saw in the KNN digits demo, we'll perform image recognition by flattening each image so that each of the 784 pixels are treated like a feature.\n",
    "\n",
    "In total, this gives us about 60MB of data. It may not sound like much, but you'll see this amount cause trouble for several of the algorithms we've discussed."
   ]
  },
  {
   "cell_type": "code",
   "execution_count": null,
   "metadata": {},
   "outputs": [],
   "source": [
    "# Load in the data and measure its size \n",
    "\n",
    "(x, y), (x_test, y_test) = keras.datasets.mnist.load_data()\n",
    "\n",
    "mb = (x.size + x_test.size + y.size + y_test.size)/1e6\n",
    "\n",
    "print(f\"dataset size: {mb}MB\")"
   ]
  },
  {
   "cell_type": "code",
   "execution_count": null,
   "metadata": {},
   "outputs": [],
   "source": [
    "# Reshape each observation to be 784 features instead of a 28x28 matrix \n",
    "x = preprocessing.MinMaxScaler().fit_transform(x.reshape(-1,784).astype(\"float64\"))\n",
    "\n",
    "# MNIST isn't shuffled by default so let's shuffle x and y\n",
    "indices = np.random.choice(len(y), size=len(y), replace=False)\n",
    "x = x[indices, :]; y = y[indices]"
   ]
  },
  {
   "cell_type": "markdown",
   "metadata": {},
   "source": [
    "## Exercise\n",
    "\n",
    "What's the time complexity of K-nearest neighbors?\n",
    "\n",
    "Specifically, given the number of samples ($n$) and the number of features for each sample ($f$), find \n",
    "1. the big-O time complexity for **training** KNN given a set of samples `x` and their labels `y`\n",
    "2. the big-O time complexity for using KNN to **predict** a class `y` given a single sample `x_i`"
   ]
  },
  {
   "cell_type": "markdown",
   "metadata": {},
   "source": [
    "## Solution\n",
    "\n"
   ]
  },
  {
   "cell_type": "code",
   "execution_count": null,
   "metadata": {},
   "outputs": [],
   "source": []
  },
  {
   "cell_type": "code",
   "execution_count": null,
   "metadata": {},
   "outputs": [],
   "source": [
    "# Let's import a few more algorithms so we can time time on different sized samples\n",
    "from sklearn import svm, ensemble, linear_model, neighbors, naive_bayes"
   ]
  },
  {
   "cell_type": "code",
   "execution_count": null,
   "metadata": {},
   "outputs": [],
   "source": [
    "knn = neighbors.KNeighborsClassifier()"
   ]
  },
  {
   "cell_type": "code",
   "execution_count": null,
   "metadata": {},
   "outputs": [],
   "source": [
    "# What's the time right now? \n",
    "lap_time = arrow.now()"
   ]
  },
  {
   "cell_type": "code",
   "execution_count": null,
   "metadata": {},
   "outputs": [],
   "source": [
    "# Has it been 30 seconds since we ran the last cell? This is how we'll keep track of how much time has passed\n",
    "lap_time.shift(seconds=30) < arrow.now()"
   ]
  },
  {
   "cell_type": "code",
   "execution_count": null,
   "metadata": {},
   "outputs": [],
   "source": [
    "import timeit # We'll use this package to run each simulation multiple times and take the fastest runtime \n",
    "\n",
    "num_loops = 5\n",
    "num_repeats = 1\n",
    "num_tests = 20\n",
    "max_samples = 1500\n",
    "max_features = 100\n",
    "max_sec = 30\n",
    "\n",
    "# my favorite way to build a datafrom on the fly is \n",
    "# to start with a list of dictionaries\n",
    "complexity_lod = []\n",
    "\n",
    "\n",
    "# Each time we run our algorithm, we'll want to use a larger sample size to test the effect of sample size on runtime\n",
    "# Set up the list of sample sizes we'll use\n",
    "samples = np.linspace(50,max_samples, num=num_tests, dtype=int)\n",
    "\n",
    "# We'll want to test multiple algorithms \n",
    "model_dict = {\n",
    "    \"svm-linearSVC\": svm.LinearSVC(),\n",
    "    \"svm-rbf\": svm.SVC(gamma=\"auto\"),\n",
    "    \"svm-poly3\": svm.SVC(kernel=\"poly\", gamma=\"auto\"),\n",
    "    \"random-forest\": ensemble.RandomForestClassifier(n_estimators=100),\n",
    "    \"logistic\": linear_model.LogisticRegression(solver=\"lbfgs\", multi_class=\"auto\"),\n",
    "    \"knn\": neighbors.KNeighborsClassifier(),\n",
    "    \"nb\": naive_bayes.GaussianNB()\n",
    "}\n",
    "\n",
    "\n",
    "# Run all of our models, increasing the sample size each time (from samples list we made above)\n",
    "for n_samp in samples:\n",
    "    print(f\"Running for {n_samp} samples. \", end=\"\")\n",
    "    lap_time = arrow.now()\n",
    "    \n",
    "    # Loop through each algorithm \n",
    "    for model_key in model_dict:\n",
    "        \n",
    "        model = model_dict[model_key]\n",
    "    \n",
    "        # we take the min of the repeats because variation is likely due not to python execution \n",
    "        # but other operations https://docs.python.org/3/library/timeit.html#timeit.Timer.repeat\n",
    "        train_time = np.min(\n",
    "            timeit.repeat(\n",
    "                f'model.fit(x[:n_samp,:max_features],y[:n_samp])',\n",
    "                globals=globals(),\n",
    "                repeat=num_repeats,\n",
    "                number=num_loops))\n",
    "\n",
    "        test_time = np.min(\n",
    "            timeit.repeat(\n",
    "                f'model.predict(x[:n_samp,:max_features])',\n",
    "                globals=globals(),\n",
    "                repeat=num_repeats,\n",
    "                number=num_loops))\n",
    "\n",
    "        complexity_lod.append({\n",
    "                \"model\": model_key,\n",
    "                \"train_time\": train_time,\n",
    "                \"test_time\": test_time,\n",
    "                \"n_samples\": n_samp\n",
    "            })\n",
    "    print(f\"Time: {(arrow.now() -lap_time).seconds} seconds.\")\n",
    "    if lap_time.shift(seconds=max_sec) < arrow.now():\n",
    "        print(\"breaking\")\n",
    "        break\n",
    "        \n",
    "complexity_df = pd.DataFrame(complexity_lod)"
   ]
  },
  {
   "cell_type": "code",
   "execution_count": null,
   "metadata": {},
   "outputs": [],
   "source": [
    "sns.lineplot(x=\"n_samples\", y=\"train_time\", hue=\"model\", data=complexity_df)"
   ]
  },
  {
   "cell_type": "code",
   "execution_count": null,
   "metadata": {},
   "outputs": [],
   "source": [
    "sns.lineplot(x=\"n_samples\", y=\"test_time\", hue=\"model\", data=complexity_df)"
   ]
  },
  {
   "cell_type": "markdown",
   "metadata": {},
   "source": [
    "## Exercise\n",
    "\n",
    "What do these results tell us about which models would be feasible to use in practice?\n",
    "\n",
    "* When would selecting a model with **low train complexity** be a priority?\n",
    "* When would selecting a model with **low test complexity** be a priority?"
   ]
  },
  {
   "cell_type": "markdown",
   "metadata": {},
   "source": [
    "# Now without the slowpokes"
   ]
  },
  {
   "cell_type": "code",
   "execution_count": null,
   "metadata": {},
   "outputs": [],
   "source": [
    "num_loops = 5\n",
    "num_repeats = 1\n",
    "num_tests = 20\n",
    "max_samples = 1500\n",
    "max_features = 100\n",
    "max_sec = 30\n",
    "\n",
    "# my favorite way to build a datafrom on the fly is \n",
    "# to start with a list of dictionaries\n",
    "complexity_lod = []\n",
    "\n",
    "\n",
    "# Each time we run our algorithm, we'll want to use a larger sample size to test the effect of sample size on runtime\n",
    "# Set up the list of sample sizes we'll use\n",
    "samples = np.linspace(50,max_samples, num=num_tests, dtype=int)\n",
    "\n",
    "# We'll want to test multiple algorithms \n",
    "model_dict = {\n",
    "    \"svm-linearSVC\": svm.LinearSVC(),\n",
    "#     \"svm-rbf\": svm.SVC(gamma=\"auto\"),\n",
    "#     \"svm-poly3\": svm.SVC(kernel=\"poly\", gamma=\"auto\"),\n",
    "    \"random-forest\": ensemble.RandomForestClassifier(n_estimators=100),\n",
    "    \"logistic\": linear_model.LogisticRegression(solver=\"lbfgs\", multi_class=\"auto\"),\n",
    "#     \"knn\": neighbors.KNeighborsClassifier(),\n",
    "    \"nb\": naive_bayes.GaussianNB()\n",
    "}\n",
    "\n",
    "\n",
    "# loop through each training/test set size\n",
    "for n_samp in samples:\n",
    "    print(f\"Running for {n_samp} samples. \", end=\"\")\n",
    "    lap_time = arrow.now()\n",
    "    for model_key in model_dict:\n",
    "        \n",
    "        model = model_dict[model_key]\n",
    "    \n",
    "        # we take the min of the repeats because variation is likely due not to python execution \n",
    "        # but other operations https://docs.python.org/3/library/timeit.html#timeit.Timer.repeat\n",
    "        train_time = np.min(\n",
    "            timeit.repeat(\n",
    "                f'model.fit(x[:n_samp,:max_features],y[:n_samp])',\n",
    "                globals=globals(),\n",
    "                repeat=num_repeats,\n",
    "                number=num_loops))\n",
    "\n",
    "        test_time = np.min(\n",
    "            timeit.repeat(\n",
    "                f'model.predict(x[:n_samp,:max_features])',\n",
    "                globals=globals(),\n",
    "                repeat=num_repeats,\n",
    "                number=num_loops))\n",
    "\n",
    "        complexity_lod.append({\n",
    "                \"model\": model_key,\n",
    "                \"train_time\": train_time,\n",
    "                \"test_time\": test_time,\n",
    "                \"n_samples\": n_samp\n",
    "            })\n",
    "    print(f\"Time: {(arrow.now() -lap_time).seconds} seconds.\")\n",
    "    if lap_time.shift(seconds=max_sec) < arrow.now():\n",
    "        print(\"breaking\")\n",
    "        break\n",
    "complexity_df = pd.DataFrame(complexity_lod)"
   ]
  },
  {
   "cell_type": "code",
   "execution_count": null,
   "metadata": {
    "keep_output": true
   },
   "outputs": [],
   "source": [
    "sns.lineplot(x=\"n_samples\", y=\"train_time\", hue=\"model\", data=complexity_df)"
   ]
  },
  {
   "cell_type": "code",
   "execution_count": null,
   "metadata": {
    "keep_output": true
   },
   "outputs": [],
   "source": [
    "sns.lineplot(x=\"n_samples\", y=\"test_time\", hue=\"model\", data=complexity_df)"
   ]
  },
  {
   "cell_type": "markdown",
   "metadata": {},
   "source": [
    "# Takeaways\n",
    "\n",
    "What does this tell us? These analyses don't give us hard-and-fast answers. We decided to teach these models at Metis because every one of them is either important to understand or likely to be used in industry, and often both. \n",
    "\n",
    "Two of these in particular are worth noting: KNN and Random Forests. Both of these models are strong performers on benchmark tasks, where we have a fixed dataset and we want to see which model performs best (these are often derisively referred to as \"bake offs\").\n",
    "\n",
    "But (as they are implemented in sklearn) they both have a weakness: Prediction time scales linearly with the number of examples in our training set. This is important because often *the only or easiest way to improve a model is to add more and better training data*. For these two, more data might lead to better predictions, but also leads to slower performance. You'll find that this is always true of KNN but you might be able to tweak the hyperparameters of Random Forests to get improved performance."
   ]
  },
  {
   "cell_type": "code",
   "execution_count": null,
   "metadata": {},
   "outputs": [],
   "source": []
  },
  {
   "cell_type": "markdown",
   "metadata": {},
   "source": [
    "## Optional Exercise\n",
    "\n",
    "Modify the above code block to benchmark models in terms of the number of features."
   ]
  },
  {
   "cell_type": "code",
   "execution_count": null,
   "metadata": {},
   "outputs": [],
   "source": []
  }
 ],
 "metadata": {
  "celltoolbar": "Edit Metadata",
  "kernelspec": {
   "display_name": "Python 3",
   "language": "python",
   "name": "python3"
  },
  "language_info": {
   "codemirror_mode": {
    "name": "ipython",
    "version": 3
   },
   "file_extension": ".py",
   "mimetype": "text/x-python",
   "name": "python",
   "nbconvert_exporter": "python",
   "pygments_lexer": "ipython3",
   "version": "3.6.5"
  },
  "toc": {
   "nav_menu": {},
   "number_sections": true,
   "sideBar": true,
   "skip_h1_title": false,
   "toc_cell": false,
   "toc_position": {},
   "toc_section_display": "block",
   "toc_window_display": false
  },
  "varInspector": {
   "cols": {
    "lenName": 16,
    "lenType": 16,
    "lenVar": 40
   },
   "kernels_config": {
    "python": {
     "delete_cmd_postfix": "",
     "delete_cmd_prefix": "del ",
     "library": "var_list.py",
     "varRefreshCmd": "print(var_dic_list())"
    },
    "r": {
     "delete_cmd_postfix": ") ",
     "delete_cmd_prefix": "rm(",
     "library": "var_list.r",
     "varRefreshCmd": "cat(var_dic_list()) "
    }
   },
   "types_to_exclude": [
    "module",
    "function",
    "builtin_function_or_method",
    "instance",
    "_Feature"
   ],
   "window_display": false
  }
 },
 "nbformat": 4,
 "nbformat_minor": 2
}
