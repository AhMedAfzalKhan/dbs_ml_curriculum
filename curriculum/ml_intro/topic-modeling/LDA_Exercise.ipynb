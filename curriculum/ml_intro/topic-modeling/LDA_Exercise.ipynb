{
 "cells": [
  {
   "cell_type": "markdown",
   "metadata": {
    "run_control": {
     "frozen": false,
     "read_only": false
    }
   },
   "source": [
    "# Topic Modeling with gensim\n",
    "We'll try out [Latent Dirichlet Allocation (LDA)](https://en.wikipedia.org/wiki/Latent_Dirichlet_allocation) in [gensim](http://radimrehurek.com/gensim/index.html) on the [20 Newsgroups dataset](http://scikit-learn.org/stable/modules/generated/sklearn.datasets.fetch_20newsgroups.html) with some simple preprocessing."
   ]
  },
  {
   "cell_type": "markdown",
   "metadata": {
    "run_control": {
     "frozen": false,
     "read_only": false
    }
   },
   "source": [
    "#### Install gensim"
   ]
  },
  {
   "cell_type": "code",
   "execution_count": 3,
   "metadata": {
    "ExecuteTime": {
     "end_time": "2018-12-07T00:00:09.700543Z",
     "start_time": "2018-12-07T00:00:09.695535Z"
    },
    "run_control": {
     "frozen": false,
     "read_only": false
    }
   },
   "outputs": [],
   "source": [
    "# !conda install gensim -y"
   ]
  },
  {
   "cell_type": "markdown",
   "metadata": {
    "run_control": {
     "frozen": false,
     "read_only": false
    }
   },
   "source": [
    "##### imports"
   ]
  },
  {
   "cell_type": "code",
   "execution_count": 4,
   "metadata": {
    "ExecuteTime": {
     "end_time": "2018-12-07T00:00:14.292575Z",
     "start_time": "2018-12-07T00:00:12.052271Z"
    },
    "run_control": {
     "frozen": false,
     "read_only": false
    }
   },
   "outputs": [],
   "source": [
    "# gensim\n",
    "from gensim import corpora, models, similarities, matutils\n",
    "\n",
    "# sklearn\n",
    "from sklearn import datasets\n",
    "from sklearn.feature_extraction.text import CountVectorizer\n",
    "\n",
    "# logging for gensim (set to INFO)\n",
    "import logging\n",
    "logging.basicConfig(format='%(asctime)s : %(levelname)s : %(message)s', level=logging.INFO)"
   ]
  },
  {
   "cell_type": "markdown",
   "metadata": {
    "run_control": {
     "frozen": false,
     "read_only": false
    }
   },
   "source": [
    "Let's retain only a subset of the 20 categories in the original 20 Newsgroups Dataset."
   ]
  },
  {
   "cell_type": "code",
   "execution_count": 5,
   "metadata": {
    "ExecuteTime": {
     "end_time": "2018-12-07T00:00:55.103839Z",
     "start_time": "2018-12-07T00:00:27.959067Z"
    },
    "run_control": {
     "frozen": false,
     "read_only": false
    }
   },
   "outputs": [
    {
     "name": "stderr",
     "output_type": "stream",
     "text": [
      "Downloading 20news dataset. This may take a few minutes.\n",
      "2018-12-06 19:00:27,966 : INFO : Downloading 20news dataset. This may take a few minutes.\n",
      "Downloading dataset from https://ndownloader.figshare.com/files/5975967 (14 MB)\n",
      "2018-12-06 19:00:27,971 : INFO : Downloading dataset from https://ndownloader.figshare.com/files/5975967 (14 MB)\n"
     ]
    }
   ],
   "source": [
    "# Set categories\n",
    "categories = ['alt.atheism', 'comp.graphics', 'rec.sport.baseball', \n",
    "              'rec.motorcycles', 'sci.space', 'talk.politics.mideast']\n",
    "\n",
    "# Download the training subset of the 20 NG dataset, with headers, footers, quotes removed\n",
    "# Only keep docs from the 6 categories above\n",
    "ng_train = datasets.fetch_20newsgroups(subset='train', categories=categories, \n",
    "                                      remove=('headers', 'footers', 'quotes'))"
   ]
  },
  {
   "cell_type": "code",
   "execution_count": 6,
   "metadata": {
    "ExecuteTime": {
     "end_time": "2018-12-07T00:00:58.690292Z",
     "start_time": "2018-12-07T00:00:58.662527Z"
    },
    "run_control": {
     "frozen": false,
     "read_only": false
    }
   },
   "outputs": [
    {
     "data": {
      "text/plain": [
       "'Well, the Red Sox have apparenly resigned Herm Winningham to a AAA contract.\\nTed \"Larry\" Simmons signed him to a AAA contract then released him from\\nBuffalo, allowing Lou \"Curly\" Gorman to circumvent the rule about not\\nresigning free agents until May 1. Clearly, neither of these guys is bright\\nenough to be Moe.\\n\\n Mike Jones | AIX High-End Development | mjones@donald.aix.kingston.ibm.com'"
      ]
     },
     "execution_count": 6,
     "metadata": {},
     "output_type": "execute_result"
    }
   ],
   "source": [
    "# Take a look at the first doc\n",
    "ng_train.data[0]"
   ]
  },
  {
   "cell_type": "markdown",
   "metadata": {
    "run_control": {
     "frozen": false,
     "read_only": false
    }
   },
   "source": [
    "## Document Preprocessing\n",
    "We'll need to generate a term-document matrix of word (token) counts for use in LDA.\n",
    "\n",
    "We'll use `sklearn`'s `CountVectorizer` to generate our term-document matrix of counts. We'll make use of a few parameters to accomplish the following preprocessing of the text documents all within the `CountVectorizer`:\n",
    "* `analyzer=word`: Tokenize by word\n",
    "* `ngram_range=(1,2)`: Keep all 1 and 2-word grams\n",
    "* `stop_words=english`: Remove all English stop words\n",
    "* `token_pattern=\\\\b[a-z][a-z]+\\\\b`: Match all tokens with 2 or more (strictly) alphabet characters"
   ]
  },
  {
   "cell_type": "code",
   "execution_count": 8,
   "metadata": {
    "ExecuteTime": {
     "end_time": "2018-12-07T00:04:41.250147Z",
     "start_time": "2018-12-07T00:04:38.900639Z"
    },
    "run_control": {
     "frozen": false,
     "read_only": false
    }
   },
   "outputs": [
    {
     "data": {
      "text/plain": [
       "CountVectorizer(analyzer='word', binary=False, decode_error='strict',\n",
       "        dtype=<class 'numpy.int64'>, encoding='utf-8', input='content',\n",
       "        lowercase=True, max_df=1.0, max_features=None, min_df=1,\n",
       "        ngram_range=(1, 2), preprocessor=None, stop_words='english',\n",
       "        strip_accents=None, token_pattern='\\\\b[a-z][a-z]+\\\\b',\n",
       "        tokenizer=None, vocabulary=None)"
      ]
     },
     "execution_count": 8,
     "metadata": {},
     "output_type": "execute_result"
    }
   ],
   "source": [
    "# Create a CountVectorizer for parsing/counting words\n",
    "count_vectorizer = CountVectorizer(ngram_range=(1, 2),  \n",
    "                                   stop_words='english', token_pattern=\"\\\\b[a-z][a-z]+\\\\b\")\n",
    "\n",
    "count_vectorizer.fit(ng_train.data)"
   ]
  },
  {
   "cell_type": "code",
   "execution_count": 12,
   "metadata": {
    "ExecuteTime": {
     "end_time": "2018-12-07T00:05:32.052674Z",
     "start_time": "2018-12-07T00:05:31.107335Z"
    },
    "run_control": {
     "frozen": false,
     "read_only": false
    }
   },
   "outputs": [],
   "source": [
    "# Create the term-document matrix\n",
    "# Transpose it so the terms are the rows\n",
    "doc_word = count_vectorizer.transform(ng_train.data).transpose()"
   ]
  },
  {
   "cell_type": "code",
   "execution_count": 13,
   "metadata": {
    "ExecuteTime": {
     "end_time": "2018-12-07T00:05:33.799270Z",
     "start_time": "2018-12-07T00:05:32.562027Z"
    }
   },
   "outputs": [
    {
     "data": {
      "text/html": [
       "<div>\n",
       "<style scoped>\n",
       "    .dataframe tbody tr th:only-of-type {\n",
       "        vertical-align: middle;\n",
       "    }\n",
       "\n",
       "    .dataframe tbody tr th {\n",
       "        vertical-align: top;\n",
       "    }\n",
       "\n",
       "    .dataframe thead th {\n",
       "        text-align: right;\n",
       "    }\n",
       "</style>\n",
       "<table border=\"1\" class=\"dataframe\">\n",
       "  <thead>\n",
       "    <tr style=\"text-align: right;\">\n",
       "      <th></th>\n",
       "      <th>0</th>\n",
       "      <th>1</th>\n",
       "      <th>2</th>\n",
       "      <th>3</th>\n",
       "      <th>4</th>\n",
       "      <th>5</th>\n",
       "      <th>6</th>\n",
       "      <th>7</th>\n",
       "      <th>8</th>\n",
       "      <th>9</th>\n",
       "      <th>...</th>\n",
       "      <th>3406</th>\n",
       "      <th>3407</th>\n",
       "      <th>3408</th>\n",
       "      <th>3409</th>\n",
       "      <th>3410</th>\n",
       "      <th>3411</th>\n",
       "      <th>3412</th>\n",
       "      <th>3413</th>\n",
       "      <th>3414</th>\n",
       "      <th>3415</th>\n",
       "    </tr>\n",
       "  </thead>\n",
       "  <tbody>\n",
       "    <tr>\n",
       "      <th>aa</th>\n",
       "      <td>0</td>\n",
       "      <td>0</td>\n",
       "      <td>0</td>\n",
       "      <td>0</td>\n",
       "      <td>0</td>\n",
       "      <td>0</td>\n",
       "      <td>0</td>\n",
       "      <td>0</td>\n",
       "      <td>0</td>\n",
       "      <td>0</td>\n",
       "      <td>...</td>\n",
       "      <td>0</td>\n",
       "      <td>0</td>\n",
       "      <td>0</td>\n",
       "      <td>0</td>\n",
       "      <td>0</td>\n",
       "      <td>0</td>\n",
       "      <td>0</td>\n",
       "      <td>0</td>\n",
       "      <td>0</td>\n",
       "      <td>0</td>\n",
       "    </tr>\n",
       "    <tr>\n",
       "      <th>aa aaa</th>\n",
       "      <td>0</td>\n",
       "      <td>0</td>\n",
       "      <td>0</td>\n",
       "      <td>0</td>\n",
       "      <td>0</td>\n",
       "      <td>0</td>\n",
       "      <td>0</td>\n",
       "      <td>0</td>\n",
       "      <td>0</td>\n",
       "      <td>0</td>\n",
       "      <td>...</td>\n",
       "      <td>0</td>\n",
       "      <td>0</td>\n",
       "      <td>0</td>\n",
       "      <td>0</td>\n",
       "      <td>0</td>\n",
       "      <td>0</td>\n",
       "      <td>0</td>\n",
       "      <td>0</td>\n",
       "      <td>0</td>\n",
       "      <td>0</td>\n",
       "    </tr>\n",
       "    <tr>\n",
       "      <th>aa albany</th>\n",
       "      <td>0</td>\n",
       "      <td>0</td>\n",
       "      <td>0</td>\n",
       "      <td>0</td>\n",
       "      <td>0</td>\n",
       "      <td>0</td>\n",
       "      <td>0</td>\n",
       "      <td>0</td>\n",
       "      <td>0</td>\n",
       "      <td>0</td>\n",
       "      <td>...</td>\n",
       "      <td>0</td>\n",
       "      <td>0</td>\n",
       "      <td>0</td>\n",
       "      <td>0</td>\n",
       "      <td>0</td>\n",
       "      <td>0</td>\n",
       "      <td>0</td>\n",
       "      <td>0</td>\n",
       "      <td>0</td>\n",
       "      <td>0</td>\n",
       "    </tr>\n",
       "    <tr>\n",
       "      <th>aa atlanta</th>\n",
       "      <td>0</td>\n",
       "      <td>0</td>\n",
       "      <td>0</td>\n",
       "      <td>0</td>\n",
       "      <td>0</td>\n",
       "      <td>0</td>\n",
       "      <td>0</td>\n",
       "      <td>0</td>\n",
       "      <td>0</td>\n",
       "      <td>0</td>\n",
       "      <td>...</td>\n",
       "      <td>0</td>\n",
       "      <td>0</td>\n",
       "      <td>0</td>\n",
       "      <td>0</td>\n",
       "      <td>0</td>\n",
       "      <td>0</td>\n",
       "      <td>0</td>\n",
       "      <td>0</td>\n",
       "      <td>0</td>\n",
       "      <td>0</td>\n",
       "    </tr>\n",
       "    <tr>\n",
       "      <th>aa does</th>\n",
       "      <td>0</td>\n",
       "      <td>0</td>\n",
       "      <td>0</td>\n",
       "      <td>0</td>\n",
       "      <td>0</td>\n",
       "      <td>0</td>\n",
       "      <td>0</td>\n",
       "      <td>0</td>\n",
       "      <td>0</td>\n",
       "      <td>0</td>\n",
       "      <td>...</td>\n",
       "      <td>0</td>\n",
       "      <td>0</td>\n",
       "      <td>0</td>\n",
       "      <td>0</td>\n",
       "      <td>0</td>\n",
       "      <td>0</td>\n",
       "      <td>0</td>\n",
       "      <td>0</td>\n",
       "      <td>0</td>\n",
       "      <td>0</td>\n",
       "    </tr>\n",
       "  </tbody>\n",
       "</table>\n",
       "<p>5 rows × 3416 columns</p>\n",
       "</div>"
      ],
      "text/plain": [
       "            0     1     2     3     4     5     6     7     8     9     ...   \\\n",
       "aa             0     0     0     0     0     0     0     0     0     0  ...    \n",
       "aa aaa         0     0     0     0     0     0     0     0     0     0  ...    \n",
       "aa albany      0     0     0     0     0     0     0     0     0     0  ...    \n",
       "aa atlanta     0     0     0     0     0     0     0     0     0     0  ...    \n",
       "aa does        0     0     0     0     0     0     0     0     0     0  ...    \n",
       "\n",
       "            3406  3407  3408  3409  3410  3411  3412  3413  3414  3415  \n",
       "aa             0     0     0     0     0     0     0     0     0     0  \n",
       "aa aaa         0     0     0     0     0     0     0     0     0     0  \n",
       "aa albany      0     0     0     0     0     0     0     0     0     0  \n",
       "aa atlanta     0     0     0     0     0     0     0     0     0     0  \n",
       "aa does        0     0     0     0     0     0     0     0     0     0  \n",
       "\n",
       "[5 rows x 3416 columns]"
      ]
     },
     "execution_count": 13,
     "metadata": {},
     "output_type": "execute_result"
    }
   ],
   "source": [
    "import pandas as pd\n",
    "\n",
    "pd.DataFrame(doc_word.toarray(), count_vectorizer.get_feature_names()).head()"
   ]
  },
  {
   "cell_type": "code",
   "execution_count": 16,
   "metadata": {
    "ExecuteTime": {
     "end_time": "2018-12-07T00:06:08.918700Z",
     "start_time": "2018-12-07T00:06:08.911353Z"
    }
   },
   "outputs": [
    {
     "data": {
      "text/plain": [
       "(272502, 3416)"
      ]
     },
     "execution_count": 16,
     "metadata": {},
     "output_type": "execute_result"
    }
   ],
   "source": [
    "doc_word.shape"
   ]
  },
  {
   "cell_type": "markdown",
   "metadata": {
    "run_control": {
     "frozen": false,
     "read_only": false
    }
   },
   "source": [
    "##### Convert to gensim\n",
    "We need to convert our sparse `scipy` matrix to a `gensim`-friendly object called a Corpus:"
   ]
  },
  {
   "cell_type": "code",
   "execution_count": 17,
   "metadata": {
    "ExecuteTime": {
     "end_time": "2018-12-07T00:06:09.865592Z",
     "start_time": "2018-12-07T00:06:09.859446Z"
    },
    "run_control": {
     "frozen": false,
     "read_only": false
    }
   },
   "outputs": [],
   "source": [
    "# Convert sparse matrix of counts to a gensim corpus\n",
    "corpus = matutils.Sparse2Corpus(doc_word)"
   ]
  },
  {
   "cell_type": "markdown",
   "metadata": {
    "run_control": {
     "frozen": false,
     "read_only": false
    }
   },
   "source": [
    "##### Map matrix rows to words (tokens)\n",
    "We need to save a mapping (dict) of row id to word (token) for later use by gensim:"
   ]
  },
  {
   "cell_type": "code",
   "execution_count": 18,
   "metadata": {
    "ExecuteTime": {
     "end_time": "2018-12-07T00:06:13.940495Z",
     "start_time": "2018-12-07T00:06:13.803927Z"
    },
    "run_control": {
     "frozen": false,
     "read_only": false
    }
   },
   "outputs": [],
   "source": [
    "id2word = dict((v, k) for k, v in count_vectorizer.vocabulary_.items())"
   ]
  },
  {
   "cell_type": "code",
   "execution_count": 19,
   "metadata": {
    "ExecuteTime": {
     "end_time": "2018-12-07T00:06:17.929201Z",
     "start_time": "2018-12-07T00:06:17.919178Z"
    },
    "run_control": {
     "frozen": false,
     "read_only": false
    }
   },
   "outputs": [
    {
     "data": {
      "text/plain": [
       "272502"
      ]
     },
     "execution_count": 19,
     "metadata": {},
     "output_type": "execute_result"
    }
   ],
   "source": [
    "len(id2word)"
   ]
  },
  {
   "cell_type": "markdown",
   "metadata": {
    "run_control": {
     "frozen": false,
     "read_only": false
    }
   },
   "source": [
    "## LDA\n",
    "At this point we can simply plow ahead in creating an LDA model.  It requires our corpus of word counts, mapping of row ids to words, and the number of topics (3)."
   ]
  },
  {
   "cell_type": "code",
   "execution_count": 20,
   "metadata": {
    "ExecuteTime": {
     "end_time": "2018-12-07T00:06:53.886625Z",
     "start_time": "2018-12-07T00:06:24.334681Z"
    },
    "run_control": {
     "frozen": false,
     "read_only": false
    }
   },
   "outputs": [
    {
     "name": "stderr",
     "output_type": "stream",
     "text": [
      "2018-12-06 19:06:24,352 : INFO : using symmetric alpha at 0.3333333333333333\n",
      "2018-12-06 19:06:24,354 : INFO : using symmetric eta at 0.3333333333333333\n",
      "2018-12-06 19:06:24,438 : INFO : using serial LDA version on this node\n",
      "2018-12-06 19:06:24,619 : INFO : running online (multi-pass) LDA training, 3 topics, 5 passes over the supplied corpus of 3416 documents, updating model once every 2000 documents, evaluating perplexity every 3416 documents, iterating 50x with a convergence threshold of 0.001000\n",
      "2018-12-06 19:06:24,620 : WARNING : too few updates, training might not converge; consider increasing the number of passes or iterations to improve accuracy\n",
      "2018-12-06 19:06:24,734 : INFO : PROGRESS: pass 0, at document #2000/3416\n",
      "2018-12-06 19:06:26,714 : INFO : merging changes from 2000 documents into a model of 3416 documents\n",
      "2018-12-06 19:06:26,809 : INFO : topic #0 (0.333): 0.002*\"people\" + 0.002*\"don\" + 0.001*\"know\" + 0.001*\"like\" + 0.001*\"space\" + 0.001*\"just\" + 0.001*\"time\" + 0.001*\"think\" + 0.001*\"edu\" + 0.001*\"does\"\n",
      "2018-12-06 19:06:26,816 : INFO : topic #1 (0.333): 0.002*\"people\" + 0.001*\"just\" + 0.001*\"edu\" + 0.001*\"don\" + 0.001*\"like\" + 0.001*\"know\" + 0.001*\"time\" + 0.001*\"space\" + 0.001*\"think\" + 0.001*\"armenian\"\n",
      "2018-12-06 19:06:26,819 : INFO : topic #2 (0.333): 0.002*\"like\" + 0.002*\"just\" + 0.002*\"space\" + 0.001*\"know\" + 0.001*\"think\" + 0.001*\"don\" + 0.001*\"time\" + 0.001*\"people\" + 0.001*\"good\" + 0.001*\"said\"\n",
      "2018-12-06 19:06:26,823 : INFO : topic diff=1.347585, rho=1.000000\n",
      "2018-12-06 19:06:30,354 : INFO : -13.151 per-word bound, 9095.7 perplexity estimate based on a held-out corpus of 1416 documents with 254128 words\n",
      "2018-12-06 19:06:30,355 : INFO : PROGRESS: pass 0, at document #3416/3416\n",
      "2018-12-06 19:06:31,768 : INFO : merging changes from 1416 documents into a model of 3416 documents\n",
      "2018-12-06 19:06:31,858 : INFO : topic #0 (0.333): 0.002*\"people\" + 0.002*\"don\" + 0.001*\"image\" + 0.001*\"like\" + 0.001*\"know\" + 0.001*\"just\" + 0.001*\"jpeg\" + 0.001*\"space\" + 0.001*\"time\" + 0.001*\"think\"\n",
      "2018-12-06 19:06:31,861 : INFO : topic #1 (0.333): 0.002*\"people\" + 0.001*\"just\" + 0.001*\"don\" + 0.001*\"armenian\" + 0.001*\"like\" + 0.001*\"armenians\" + 0.001*\"time\" + 0.001*\"said\" + 0.001*\"think\" + 0.001*\"know\"\n",
      "2018-12-06 19:06:31,865 : INFO : topic #2 (0.333): 0.002*\"space\" + 0.002*\"like\" + 0.002*\"just\" + 0.002*\"don\" + 0.001*\"think\" + 0.001*\"people\" + 0.001*\"know\" + 0.001*\"time\" + 0.001*\"god\" + 0.001*\"said\"\n",
      "2018-12-06 19:06:31,868 : INFO : topic diff=1.456791, rho=0.707107\n",
      "2018-12-06 19:06:32,006 : INFO : PROGRESS: pass 1, at document #2000/3416\n",
      "2018-12-06 19:06:33,533 : INFO : merging changes from 2000 documents into a model of 3416 documents\n",
      "2018-12-06 19:06:33,622 : INFO : topic #0 (0.333): 0.002*\"people\" + 0.002*\"don\" + 0.001*\"know\" + 0.001*\"like\" + 0.001*\"just\" + 0.001*\"edu\" + 0.001*\"time\" + 0.001*\"space\" + 0.001*\"image\" + 0.001*\"think\"\n",
      "2018-12-06 19:06:33,626 : INFO : topic #1 (0.333): 0.002*\"people\" + 0.001*\"armenian\" + 0.001*\"just\" + 0.001*\"don\" + 0.001*\"like\" + 0.001*\"turkish\" + 0.001*\"armenians\" + 0.001*\"think\" + 0.001*\"know\" + 0.001*\"said\"\n",
      "2018-12-06 19:06:33,631 : INFO : topic #2 (0.333): 0.002*\"space\" + 0.002*\"like\" + 0.002*\"just\" + 0.001*\"don\" + 0.001*\"think\" + 0.001*\"know\" + 0.001*\"people\" + 0.001*\"time\" + 0.001*\"said\" + 0.001*\"god\"\n",
      "2018-12-06 19:06:33,634 : INFO : topic diff=0.644973, rho=0.519314\n",
      "2018-12-06 19:06:36,834 : INFO : -11.886 per-word bound, 3783.9 perplexity estimate based on a held-out corpus of 1416 documents with 254128 words\n",
      "2018-12-06 19:06:36,835 : INFO : PROGRESS: pass 1, at document #3416/3416\n",
      "2018-12-06 19:06:37,674 : INFO : merging changes from 1416 documents into a model of 3416 documents\n",
      "2018-12-06 19:06:37,763 : INFO : topic #0 (0.333): 0.002*\"image\" + 0.001*\"jpeg\" + 0.001*\"people\" + 0.001*\"don\" + 0.001*\"like\" + 0.001*\"know\" + 0.001*\"edu\" + 0.001*\"just\" + 0.001*\"space\" + 0.001*\"file\"\n",
      "2018-12-06 19:06:37,766 : INFO : topic #1 (0.333): 0.002*\"people\" + 0.002*\"armenian\" + 0.001*\"don\" + 0.001*\"just\" + 0.001*\"like\" + 0.001*\"said\" + 0.001*\"armenians\" + 0.001*\"think\" + 0.001*\"know\" + 0.001*\"time\"\n",
      "2018-12-06 19:06:37,771 : INFO : topic #2 (0.333): 0.002*\"space\" + 0.002*\"like\" + 0.002*\"just\" + 0.002*\"don\" + 0.001*\"people\" + 0.001*\"god\" + 0.001*\"think\" + 0.001*\"know\" + 0.001*\"time\" + 0.001*\"does\"\n",
      "2018-12-06 19:06:37,774 : INFO : topic diff=0.532021, rho=0.519314\n",
      "2018-12-06 19:06:37,909 : INFO : PROGRESS: pass 2, at document #2000/3416\n",
      "2018-12-06 19:06:38,968 : INFO : merging changes from 2000 documents into a model of 3416 documents\n",
      "2018-12-06 19:06:39,059 : INFO : topic #0 (0.333): 0.002*\"people\" + 0.001*\"don\" + 0.001*\"know\" + 0.001*\"edu\" + 0.001*\"like\" + 0.001*\"image\" + 0.001*\"just\" + 0.001*\"time\" + 0.001*\"space\" + 0.001*\"graphics\"\n",
      "2018-12-06 19:06:39,063 : INFO : topic #1 (0.333): 0.002*\"people\" + 0.002*\"armenian\" + 0.001*\"just\" + 0.001*\"don\" + 0.001*\"turkish\" + 0.001*\"like\" + 0.001*\"armenians\" + 0.001*\"said\" + 0.001*\"know\" + 0.001*\"think\"\n",
      "2018-12-06 19:06:39,067 : INFO : topic #2 (0.333): 0.002*\"space\" + 0.002*\"like\" + 0.002*\"just\" + 0.001*\"don\" + 0.001*\"think\" + 0.001*\"people\" + 0.001*\"god\" + 0.001*\"know\" + 0.001*\"time\" + 0.001*\"does\"\n",
      "2018-12-06 19:06:39,070 : INFO : topic diff=0.390318, rho=0.460874\n",
      "2018-12-06 19:06:41,894 : INFO : -11.668 per-word bound, 3253.0 perplexity estimate based on a held-out corpus of 1416 documents with 254128 words\n",
      "2018-12-06 19:06:41,895 : INFO : PROGRESS: pass 2, at document #3416/3416\n",
      "2018-12-06 19:06:42,769 : INFO : merging changes from 1416 documents into a model of 3416 documents\n",
      "2018-12-06 19:06:42,881 : INFO : topic #0 (0.333): 0.002*\"image\" + 0.001*\"jpeg\" + 0.001*\"don\" + 0.001*\"edu\" + 0.001*\"people\" + 0.001*\"like\" + 0.001*\"know\" + 0.001*\"space\" + 0.001*\"just\" + 0.001*\"file\"\n",
      "2018-12-06 19:06:42,885 : INFO : topic #1 (0.333): 0.002*\"people\" + 0.002*\"armenian\" + 0.002*\"don\" + 0.001*\"just\" + 0.001*\"said\" + 0.001*\"like\" + 0.001*\"armenians\" + 0.001*\"think\" + 0.001*\"know\" + 0.001*\"time\"\n",
      "2018-12-06 19:06:42,895 : INFO : topic #2 (0.333): 0.002*\"space\" + 0.002*\"like\" + 0.002*\"just\" + 0.002*\"don\" + 0.001*\"god\" + 0.001*\"people\" + 0.001*\"think\" + 0.001*\"time\" + 0.001*\"know\" + 0.001*\"does\"\n",
      "2018-12-06 19:06:42,901 : INFO : topic diff=0.351211, rho=0.460874\n",
      "2018-12-06 19:06:43,076 : INFO : PROGRESS: pass 3, at document #2000/3416\n",
      "2018-12-06 19:06:44,268 : INFO : merging changes from 2000 documents into a model of 3416 documents\n",
      "2018-12-06 19:06:44,365 : INFO : topic #0 (0.333): 0.001*\"don\" + 0.001*\"people\" + 0.001*\"edu\" + 0.001*\"image\" + 0.001*\"know\" + 0.001*\"like\" + 0.001*\"just\" + 0.001*\"space\" + 0.001*\"time\" + 0.001*\"graphics\"\n",
      "2018-12-06 19:06:44,369 : INFO : topic #1 (0.333): 0.002*\"people\" + 0.002*\"armenian\" + 0.001*\"just\" + 0.001*\"don\" + 0.001*\"turkish\" + 0.001*\"said\" + 0.001*\"armenians\" + 0.001*\"like\" + 0.001*\"know\" + 0.001*\"think\"\n",
      "2018-12-06 19:06:44,375 : INFO : topic #2 (0.333): 0.002*\"space\" + 0.002*\"like\" + 0.002*\"just\" + 0.001*\"don\" + 0.001*\"people\" + 0.001*\"think\" + 0.001*\"god\" + 0.001*\"know\" + 0.001*\"time\" + 0.001*\"does\"\n",
      "2018-12-06 19:06:44,378 : INFO : topic diff=0.291333, rho=0.418560\n",
      "2018-12-06 19:06:47,502 : INFO : -11.596 per-word bound, 3094.8 perplexity estimate based on a held-out corpus of 1416 documents with 254128 words\n",
      "2018-12-06 19:06:47,503 : INFO : PROGRESS: pass 3, at document #3416/3416\n",
      "2018-12-06 19:06:48,200 : INFO : merging changes from 1416 documents into a model of 3416 documents\n",
      "2018-12-06 19:06:48,298 : INFO : topic #0 (0.333): 0.002*\"image\" + 0.001*\"jpeg\" + 0.001*\"edu\" + 0.001*\"don\" + 0.001*\"like\" + 0.001*\"people\" + 0.001*\"know\" + 0.001*\"space\" + 0.001*\"graphics\" + 0.001*\"file\"\n",
      "2018-12-06 19:06:48,301 : INFO : topic #1 (0.333): 0.002*\"people\" + 0.002*\"armenian\" + 0.002*\"don\" + 0.001*\"said\" + 0.001*\"just\" + 0.001*\"like\" + 0.001*\"armenians\" + 0.001*\"think\" + 0.001*\"know\" + 0.001*\"time\"\n",
      "2018-12-06 19:06:48,306 : INFO : topic #2 (0.333): 0.002*\"space\" + 0.002*\"like\" + 0.002*\"just\" + 0.002*\"don\" + 0.001*\"god\" + 0.001*\"people\" + 0.001*\"think\" + 0.001*\"does\" + 0.001*\"time\" + 0.001*\"know\"\n",
      "2018-12-06 19:06:48,309 : INFO : topic diff=0.275486, rho=0.418560\n",
      "2018-12-06 19:06:48,467 : INFO : PROGRESS: pass 4, at document #2000/3416\n",
      "2018-12-06 19:06:49,631 : INFO : merging changes from 2000 documents into a model of 3416 documents\n"
     ]
    },
    {
     "name": "stderr",
     "output_type": "stream",
     "text": [
      "2018-12-06 19:06:49,726 : INFO : topic #0 (0.333): 0.001*\"image\" + 0.001*\"edu\" + 0.001*\"don\" + 0.001*\"people\" + 0.001*\"know\" + 0.001*\"like\" + 0.001*\"space\" + 0.001*\"just\" + 0.001*\"graphics\" + 0.001*\"time\"\n",
      "2018-12-06 19:06:49,731 : INFO : topic #1 (0.333): 0.002*\"people\" + 0.002*\"armenian\" + 0.001*\"don\" + 0.001*\"said\" + 0.001*\"just\" + 0.001*\"armenians\" + 0.001*\"turkish\" + 0.001*\"like\" + 0.001*\"know\" + 0.001*\"think\"\n",
      "2018-12-06 19:06:49,737 : INFO : topic #2 (0.333): 0.002*\"space\" + 0.002*\"just\" + 0.002*\"like\" + 0.001*\"don\" + 0.001*\"people\" + 0.001*\"think\" + 0.001*\"god\" + 0.001*\"know\" + 0.001*\"time\" + 0.001*\"does\"\n",
      "2018-12-06 19:06:49,740 : INFO : topic diff=0.246645, rho=0.386103\n",
      "2018-12-06 19:06:53,035 : INFO : -11.567 per-word bound, 3033.2 perplexity estimate based on a held-out corpus of 1416 documents with 254128 words\n",
      "2018-12-06 19:06:53,036 : INFO : PROGRESS: pass 4, at document #3416/3416\n",
      "2018-12-06 19:06:53,718 : INFO : merging changes from 1416 documents into a model of 3416 documents\n",
      "2018-12-06 19:06:53,811 : INFO : topic #0 (0.333): 0.002*\"image\" + 0.001*\"jpeg\" + 0.001*\"edu\" + 0.001*\"don\" + 0.001*\"like\" + 0.001*\"space\" + 0.001*\"know\" + 0.001*\"people\" + 0.001*\"graphics\" + 0.001*\"file\"\n",
      "2018-12-06 19:06:53,814 : INFO : topic #1 (0.333): 0.002*\"people\" + 0.002*\"armenian\" + 0.002*\"don\" + 0.002*\"said\" + 0.001*\"just\" + 0.001*\"like\" + 0.001*\"armenians\" + 0.001*\"think\" + 0.001*\"know\" + 0.001*\"turkish\"\n",
      "2018-12-06 19:06:53,820 : INFO : topic #2 (0.333): 0.002*\"space\" + 0.002*\"like\" + 0.002*\"just\" + 0.002*\"don\" + 0.001*\"god\" + 0.001*\"people\" + 0.001*\"think\" + 0.001*\"does\" + 0.001*\"time\" + 0.001*\"know\"\n",
      "2018-12-06 19:06:53,823 : INFO : topic diff=0.235693, rho=0.386103\n"
     ]
    }
   ],
   "source": [
    "# Create lda model (equivalent to \"fit\" in sklearn)\n",
    "lda = models.LdaModel(corpus=corpus, num_topics=3, id2word=id2word, passes=5)"
   ]
  },
  {
   "cell_type": "markdown",
   "metadata": {
    "run_control": {
     "frozen": false,
     "read_only": false
    }
   },
   "source": [
    "Let's take a look at what happened.  Here are the 5 most important words for each of the 3 topics we found:"
   ]
  },
  {
   "cell_type": "code",
   "execution_count": 21,
   "metadata": {
    "ExecuteTime": {
     "end_time": "2018-12-07T00:06:58.988004Z",
     "start_time": "2018-12-07T00:06:58.951445Z"
    },
    "run_control": {
     "frozen": false,
     "read_only": false
    }
   },
   "outputs": [
    {
     "name": "stderr",
     "output_type": "stream",
     "text": [
      "2018-12-06 19:06:58,964 : INFO : topic #0 (0.333): 0.002*\"image\" + 0.001*\"jpeg\" + 0.001*\"edu\" + 0.001*\"don\" + 0.001*\"like\" + 0.001*\"space\" + 0.001*\"know\" + 0.001*\"people\" + 0.001*\"graphics\" + 0.001*\"file\"\n",
      "2018-12-06 19:06:58,969 : INFO : topic #1 (0.333): 0.002*\"people\" + 0.002*\"armenian\" + 0.002*\"don\" + 0.002*\"said\" + 0.001*\"just\" + 0.001*\"like\" + 0.001*\"armenians\" + 0.001*\"think\" + 0.001*\"know\" + 0.001*\"turkish\"\n",
      "2018-12-06 19:06:58,977 : INFO : topic #2 (0.333): 0.002*\"space\" + 0.002*\"like\" + 0.002*\"just\" + 0.002*\"don\" + 0.001*\"god\" + 0.001*\"people\" + 0.001*\"think\" + 0.001*\"does\" + 0.001*\"time\" + 0.001*\"know\"\n"
     ]
    },
    {
     "data": {
      "text/plain": [
       "[(0,\n",
       "  '0.002*\"image\" + 0.001*\"jpeg\" + 0.001*\"edu\" + 0.001*\"don\" + 0.001*\"like\" + 0.001*\"space\" + 0.001*\"know\" + 0.001*\"people\" + 0.001*\"graphics\" + 0.001*\"file\"'),\n",
       " (1,\n",
       "  '0.002*\"people\" + 0.002*\"armenian\" + 0.002*\"don\" + 0.002*\"said\" + 0.001*\"just\" + 0.001*\"like\" + 0.001*\"armenians\" + 0.001*\"think\" + 0.001*\"know\" + 0.001*\"turkish\"'),\n",
       " (2,\n",
       "  '0.002*\"space\" + 0.002*\"like\" + 0.002*\"just\" + 0.002*\"don\" + 0.001*\"god\" + 0.001*\"people\" + 0.001*\"think\" + 0.001*\"does\" + 0.001*\"time\" + 0.001*\"know\"')]"
      ]
     },
     "execution_count": 21,
     "metadata": {},
     "output_type": "execute_result"
    }
   ],
   "source": [
    "lda.print_topics()"
   ]
  },
  {
   "cell_type": "markdown",
   "metadata": {
    "run_control": {
     "frozen": false,
     "read_only": false
    }
   },
   "source": [
    "#### Topic Space\n",
    "If we want to map our documents to the topic space we need to actually use the LdaModel transformer that we created above, like so:"
   ]
  },
  {
   "cell_type": "code",
   "execution_count": 22,
   "metadata": {
    "ExecuteTime": {
     "end_time": "2018-12-07T00:07:20.359301Z",
     "start_time": "2018-12-07T00:07:20.350311Z"
    },
    "run_control": {
     "frozen": false,
     "read_only": false
    }
   },
   "outputs": [
    {
     "data": {
      "text/plain": [
       "<gensim.interfaces.TransformedCorpus at 0x1a20fe19e8>"
      ]
     },
     "execution_count": 22,
     "metadata": {},
     "output_type": "execute_result"
    }
   ],
   "source": [
    "# Transform the docs from the word space to the topic space (like \"transform\" in sklearn)\n",
    "lda_corpus = lda[corpus]\n",
    "lda_corpus"
   ]
  },
  {
   "cell_type": "code",
   "execution_count": 23,
   "metadata": {
    "ExecuteTime": {
     "end_time": "2018-12-07T00:07:30.430733Z",
     "start_time": "2018-12-07T00:07:28.700157Z"
    },
    "run_control": {
     "frozen": false,
     "read_only": false
    }
   },
   "outputs": [],
   "source": [
    "# Store the documents' topic vectors in a list so we can take a peak\n",
    "lda_docs = [doc for doc in lda_corpus]"
   ]
  },
  {
   "cell_type": "markdown",
   "metadata": {
    "run_control": {
     "frozen": false,
     "read_only": false
    }
   },
   "source": [
    "Now we can take a look at the document vectors in the topic space, which are measures of the component of each document along each topic.  Thus, at most a document vector can have num_topics=3 nonzero components in the topic space, and most have far fewer."
   ]
  },
  {
   "cell_type": "code",
   "execution_count": 24,
   "metadata": {
    "ExecuteTime": {
     "end_time": "2018-12-07T00:07:32.006379Z",
     "start_time": "2018-12-07T00:07:31.995535Z"
    },
    "run_control": {
     "frozen": false,
     "read_only": false
    }
   },
   "outputs": [
    {
     "data": {
      "text/plain": [
       "[[(1, 0.33792955), (2, 0.6572214)],\n",
       " [(0, 0.010497547), (2, 0.98051757)],\n",
       " [(0, 0.011345098), (1, 0.010185722), (2, 0.9784692)],\n",
       " [(0, 0.7219733), (1, 0.1978845), (2, 0.080142245)],\n",
       " [(2, 0.99286044)]]"
      ]
     },
     "execution_count": 24,
     "metadata": {},
     "output_type": "execute_result"
    }
   ],
   "source": [
    "# Check out the document vectors in the topic space for the first 5 documents\n",
    "lda_docs[0:5]"
   ]
  },
  {
   "cell_type": "code",
   "execution_count": 25,
   "metadata": {
    "ExecuteTime": {
     "end_time": "2018-12-07T00:07:41.341986Z",
     "start_time": "2018-12-07T00:07:41.332342Z"
    },
    "run_control": {
     "frozen": false,
     "read_only": false
    }
   },
   "outputs": [
    {
     "data": {
      "text/plain": [
       "'Well, the Red Sox have apparenly resigned Herm Winningham to a AAA contract.\\nTed \"Larry\" Simmons signed him to a AAA contract then released him from\\nBuffalo, allowing Lou \"Curly\" Gorman to circumvent the rule about not\\nresigning free agents until May 1. Clearly, neither of these guys is bright\\nenough to be Moe.\\n\\n Mike Jones | AIX High-End Development | mjones@donald.aix.kingston.ibm.com'"
      ]
     },
     "execution_count": 25,
     "metadata": {},
     "output_type": "execute_result"
    }
   ],
   "source": [
    "ng_train.data[0]"
   ]
  },
  {
   "cell_type": "markdown",
   "metadata": {
    "run_control": {
     "frozen": false,
     "read_only": false
    }
   },
   "source": [
    "## On your own...\n",
    "- Pick a few subsets of the 20newsgroups dataset  \n",
    "- Try performing LDA on this data with gensim\n",
    "- Play with some of the preprocessing options and parameters for LDA, observe what happens\n",
    "- See if you can use the resulting topic space to extract topic vectors\n",
    "- How do your results look?\n",
    "- Can you think of how you could cluster this data?"
   ]
  },
  {
   "cell_type": "code",
   "execution_count": null,
   "metadata": {
    "collapsed": true,
    "run_control": {
     "frozen": false,
     "read_only": false
    }
   },
   "outputs": [],
   "source": []
  }
 ],
 "metadata": {
  "anaconda-cloud": {},
  "kernelspec": {
   "display_name": "Python 3",
   "language": "python",
   "name": "python3"
  },
  "language_info": {
   "codemirror_mode": {
    "name": "ipython",
    "version": 3
   },
   "file_extension": ".py",
   "mimetype": "text/x-python",
   "name": "python",
   "nbconvert_exporter": "python",
   "pygments_lexer": "ipython3",
   "version": "3.6.6"
  },
  "toc": {
   "nav_menu": {
    "height": "123px",
    "width": "252px"
   },
   "number_sections": true,
   "sideBar": true,
   "skip_h1_title": false,
   "toc_cell": false,
   "toc_position": {},
   "toc_section_display": "block",
   "toc_window_display": false
  },
  "varInspector": {
   "cols": {
    "lenName": 16,
    "lenType": 16,
    "lenVar": 40
   },
   "kernels_config": {
    "python": {
     "delete_cmd_postfix": "",
     "delete_cmd_prefix": "del ",
     "library": "var_list.py",
     "varRefreshCmd": "print(var_dic_list())"
    },
    "r": {
     "delete_cmd_postfix": ") ",
     "delete_cmd_prefix": "rm(",
     "library": "var_list.r",
     "varRefreshCmd": "cat(var_dic_list()) "
    }
   },
   "types_to_exclude": [
    "module",
    "function",
    "builtin_function_or_method",
    "instance",
    "_Feature"
   ],
   "window_display": false
  }
 },
 "nbformat": 4,
 "nbformat_minor": 1
}
