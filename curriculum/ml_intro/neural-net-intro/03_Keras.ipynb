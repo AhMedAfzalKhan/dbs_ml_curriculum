{
 "cells": [
  {
   "cell_type": "code",
   "execution_count": 1,
   "metadata": {
    "ExecuteTime": {
     "end_time": "2018-12-11T21:44:00.863146Z",
     "start_time": "2018-12-11T21:43:58.477383Z"
    }
   },
   "outputs": [
    {
     "name": "stdout",
     "output_type": "stream",
     "text": [
      "Populating the interactive namespace from numpy and matplotlib\n"
     ]
    }
   ],
   "source": [
    "#######################\n",
    "# standard code block #\n",
    "#######################\n",
    "\n",
    "# see https://ipython.readthedocs.io/en/stable/interactive/magics.html\n",
    "%pylab inline\n",
    "\n",
    "# sets backend to render higher res images\n",
    "%config InlineBackend.figure_formats = ['retina']\n",
    "\n",
    "#######################\n",
    "#       imports       #\n",
    "#######################\n",
    "# import pandas as pd\n",
    "import seaborn as sns\n",
    "# import sklearn\n",
    "\n",
    "sns.set_style(\"whitegrid\")"
   ]
  },
  {
   "cell_type": "code",
   "execution_count": 2,
   "metadata": {
    "ExecuteTime": {
     "end_time": "2018-12-11T21:44:04.186003Z",
     "start_time": "2018-12-11T21:44:00.868849Z"
    }
   },
   "outputs": [
    {
     "name": "stderr",
     "output_type": "stream",
     "text": [
      "Using TensorFlow backend.\n"
     ]
    }
   ],
   "source": [
    "import keras\n",
    "import keras.backend as K"
   ]
  },
  {
   "cell_type": "markdown",
   "metadata": {},
   "source": [
    "# Keras"
   ]
  },
  {
   "cell_type": "markdown",
   "metadata": {},
   "source": [
    "Now that you know a bit about neural networks, let's dig into the tool that we'll be using. We'll go over the following things:\n",
    "\n",
    "- Layer\n",
    "- Model\n",
    "- Tensor\n",
    "- Activation\n",
    "- Loss\n",
    "- Metric\n",
    "- Optimizer"
   ]
  },
  {
   "cell_type": "markdown",
   "metadata": {},
   "source": [
    "## Layer\n",
    "\n",
    "The layer is the fundamental unit we will typically be working with in keras. \n",
    "\n",
    "You can think of layers as similar to lego bricks. We'll use these bricks in different combinations to build useful networks. "
   ]
  },
  {
   "cell_type": "markdown",
   "metadata": {},
   "source": [
    "Note: In the code below, this notebook calls `layers` and other submodules of keras using the full module path\n",
    "\n",
    "``` python\n",
    "import keras\n",
    "layer_one = keras.layers.Dense(10)\n",
    "```\n",
    "\n",
    "This is done so that students can easily see the exact location of of things in the keras module path. Once you are comfortable with the keras package, you may wish to switch to a shorter form\n",
    "\n",
    "``` python\n",
    "from keras.layers import Dense\n",
    "layer_one = Dense(10)\n",
    "```"
   ]
  },
  {
   "cell_type": "code",
   "execution_count": 3,
   "metadata": {
    "ExecuteTime": {
     "end_time": "2018-12-11T21:59:07.203837Z",
     "start_time": "2018-12-11T21:59:07.144414Z"
    }
   },
   "outputs": [],
   "source": [
    "layer_one = keras.layers.Dense(10)\n",
    "layer_one._"
   ]
  },
  {
   "cell_type": "code",
   "execution_count": null,
   "metadata": {},
   "outputs": [],
   "source": []
  }
 ],
 "metadata": {
  "kernelspec": {
   "display_name": "Python 3",
   "language": "python",
   "name": "python3"
  },
  "language_info": {
   "codemirror_mode": {
    "name": "ipython",
    "version": 3
   },
   "file_extension": ".py",
   "mimetype": "text/x-python",
   "name": "python",
   "nbconvert_exporter": "python",
   "pygments_lexer": "ipython3",
   "version": "3.6.7"
  }
 },
 "nbformat": 4,
 "nbformat_minor": 2
}
