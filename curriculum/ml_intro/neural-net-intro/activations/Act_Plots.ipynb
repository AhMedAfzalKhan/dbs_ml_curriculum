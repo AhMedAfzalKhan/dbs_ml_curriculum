{
 "cells": [
  {
   "cell_type": "code",
   "execution_count": 1,
   "metadata": {
    "ExecuteTime": {
     "end_time": "2018-12-11T19:31:00.820060Z",
     "start_time": "2018-12-11T19:30:59.718364Z"
    }
   },
   "outputs": [
    {
     "name": "stdout",
     "output_type": "stream",
     "text": [
      "Populating the interactive namespace from numpy and matplotlib\n"
     ]
    }
   ],
   "source": [
    "#######################\n",
    "# standard code block #\n",
    "#######################\n",
    "\n",
    "# see https://ipython.readthedocs.io/en/stable/interactive/magics.html\n",
    "%pylab inline\n",
    "\n",
    "# sets backend to render higher res images\n",
    "%config InlineBackend.figure_formats = ['retina']\n",
    "\n",
    "#######################\n",
    "#       imports       #\n",
    "#######################\n",
    "# import pandas as pd\n",
    "# import seaborn as sns\n",
    "# import sklearn\n",
    "\n",
    "# sns.set_style(\"whitegrid\")"
   ]
  },
  {
   "cell_type": "code",
   "execution_count": 2,
   "metadata": {
    "ExecuteTime": {
     "end_time": "2018-12-11T19:31:05.633010Z",
     "start_time": "2018-12-11T19:31:00.831281Z"
    }
   },
   "outputs": [
    {
     "name": "stderr",
     "output_type": "stream",
     "text": [
      "Using TensorFlow backend.\n"
     ]
    }
   ],
   "source": [
    "import keras"
   ]
  },
  {
   "cell_type": "code",
   "execution_count": 3,
   "metadata": {
    "ExecuteTime": {
     "end_time": "2018-12-11T19:31:05.641096Z",
     "start_time": "2018-12-11T19:31:05.636448Z"
    }
   },
   "outputs": [],
   "source": [
    "activations = [\n",
    "    'elu', 'exponential', 'hard_sigmoid', 'linear', 'relu', 'selu', 'sigmoid',\n",
    "    'softplus', 'softsign', 'tanh'\n",
    "]"
   ]
  },
  {
   "cell_type": "code",
   "execution_count": 4,
   "metadata": {
    "ExecuteTime": {
     "end_time": "2018-12-11T19:31:05.650898Z",
     "start_time": "2018-12-11T19:31:05.644106Z"
    }
   },
   "outputs": [],
   "source": [
    "x = np.linspace(-3, 3, num=int(1e3)).reshape(-1, 1)"
   ]
  },
  {
   "cell_type": "code",
   "execution_count": 5,
   "metadata": {
    "ExecuteTime": {
     "end_time": "2018-12-11T19:31:10.205918Z",
     "start_time": "2018-12-11T19:31:05.656484Z"
    }
   },
   "outputs": [
    {
     "data": {
      "image/png": "[encoded data removed]",
      "text/plain": [
       "<Figure size 144x72 with 1 Axes>"
      ]
     },
     "metadata": {
      "image/png": {
       "height": 72,
       "width": 129
      },
      "needs_background": "light"
     },
     "output_type": "display_data"
    }
   ],
   "source": [
    "figsize(2, 1)\n",
    "\n",
    "for i, act in enumerate(activations):\n",
    "    act_model = keras.Sequential(\n",
    "        [keras.layers.Activation(act, input_shape=(1, ))])\n",
    "    act_model.compile(\"sgd\", loss=\"hinge\")\n",
    "    y = act_model.predict(x)\n",
    "\n",
    "    plt.clf()\n",
    "    plt.plot(x, y)\n",
    "\n",
    "    ax = plt.gca()\n",
    "    ax.xaxis.set_minor_locator(MultipleLocator(1))\n",
    "    ax.yaxis.set_minor_locator(MultipleLocator(1))\n",
    "\n",
    "    ax.xaxis.set_major_locator(MultipleLocator(10))\n",
    "    ax.yaxis.set_major_locator(MultipleLocator(10))\n",
    "\n",
    "    ax.set_xticklabels([])\n",
    "    ax.set_yticklabels([])\n",
    "\n",
    "    ax.grid(which='major', linestyle='-', linewidth='0.5', color=\"black\")\n",
    "    ax.grid(which='minor', linestyle=':', linewidth='0.25', color=\"black\")\n",
    "\n",
    "    plt.savefig(f\"{act}.svg\", bbox_inches='tight', transparent=True)"
   ]
  },
  {
   "cell_type": "code",
   "execution_count": 6,
   "metadata": {
    "ExecuteTime": {
     "end_time": "2018-12-11T19:31:10.979974Z",
     "start_time": "2018-12-11T19:31:10.211429Z"
    }
   },
   "outputs": [
    {
     "data": {
      "image/png": "[encoded data removed]",
      "text/plain": [
       "<Figure size 144x72 with 1 Axes>"
      ]
     },
     "metadata": {
      "image/png": {
       "height": 72,
       "width": 129
      },
      "needs_background": "light"
     },
     "output_type": "display_data"
    }
   ],
   "source": [
    "from functools import partial\n",
    "\n",
    "for a in [.1, .3, .5]:\n",
    "    act_model = keras.Sequential([\n",
    "        keras.layers.Activation(\n",
    "            partial(keras.activations.relu, alpha=a), input_shape=(1, ))\n",
    "    ])\n",
    "    act_model.compile(\"sgd\", loss=\"hinge\")\n",
    "    y = act_model.predict(x)\n",
    "\n",
    "    plt.plot(x, y)\n",
    "\n",
    "ax = plt.gca()\n",
    "ax.xaxis.set_minor_locator(MultipleLocator(1))\n",
    "ax.yaxis.set_minor_locator(MultipleLocator(1))\n",
    "\n",
    "ax.xaxis.set_major_locator(MultipleLocator(10))\n",
    "ax.yaxis.set_major_locator(MultipleLocator(10))\n",
    "ax.set_xticklabels([])\n",
    "ax.set_yticklabels([])\n",
    "\n",
    "ax.grid(which='major', linestyle='-', linewidth='0.5', color=\"black\")\n",
    "ax.grid(which='minor', linestyle=':', linewidth='0.25', color=\"black\")\n",
    "\n",
    "plt.savefig(f\"LeakyRelu.svg\", bbox_inches='tight', transparent=True)"
   ]
  },
  {
   "cell_type": "code",
   "execution_count": null,
   "metadata": {},
   "outputs": [],
   "source": []
  }
 ],
 "metadata": {
  "kernelspec": {
   "display_name": "Python 3",
   "language": "python",
   "name": "python3"
  },
  "language_info": {
   "codemirror_mode": {
    "name": "ipython",
    "version": 3
   },
   "file_extension": ".py",
   "mimetype": "text/x-python",
   "name": "python",
   "nbconvert_exporter": "python",
   "pygments_lexer": "ipython3",
   "version": "3.6.7"
  }
 },
 "nbformat": 4,
 "nbformat_minor": 2
}
