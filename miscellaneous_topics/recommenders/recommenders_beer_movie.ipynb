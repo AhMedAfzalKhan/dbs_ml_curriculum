{
 "cells": [
  {
   "cell_type": "markdown",
   "metadata": {
    "slideshow": {
     "slide_type": "slide"
    }
   },
   "source": [
    "# Recommender Systems"
   ]
  },
  {
   "cell_type": "markdown",
   "metadata": {
    "slideshow": {
     "slide_type": "slide"
    }
   },
   "source": [
    "Recommender Systems have become ubiquitous in the modern data science landscape, as companies like Google, Netflix, Pandora, Facebook, etc. rely heavily on them to provide targeted content recommendation to their users to create a more enjoyable user experience.  In these exercises, we'll focus on the process of ***collaborative filtering*** for building recommenders on 2 different datasets (beers and movies).  "
   ]
  },
  {
   "cell_type": "markdown",
   "metadata": {
    "slideshow": {
     "slide_type": "slide"
    }
   },
   "source": [
    "[Collaborative Filtering](https://en.wikipedia.org/wiki/Collaborative_filtering) relies on a ***ratings matrix*** for all items to generate similarities between items and users based on similar ratings.  It's important to remember that collaborative filtering is one of the 2 main ways to conduct recommendation, the other being [Content-Based Filtering](https://en.wikipedia.org/wiki/Recommender_system#Content-based_filtering) which explicitly maps items and/or users into a shared feature space based on explicit user/item characteristics.  State of the art recommenders will often rely on hybrid approaches of these 2, so it's important to understand the differences, strengths, and weaknesses of each and what separates them."
   ]
  },
  {
   "cell_type": "markdown",
   "metadata": {
    "slideshow": {
     "slide_type": "slide"
    }
   },
   "source": [
    "### Datasets\n",
    "- [Beer Ratings](https://github.com/pburkard88/DS_BOS_06/blob/master/Data/beer_reviews.tar.gz): A dataset of beer reviews\n",
    "- [Movielens Data](https://github.com/pburkard88/DS_BOS_06/blob/master/Data/movielens): A dataset of movie ratings from the original [here](http://grouplens.org/datasets/movielens/)"
   ]
  },
  {
   "cell_type": "markdown",
   "metadata": {
    "slideshow": {
     "slide_type": "slide"
    }
   },
   "source": [
    "### Learning Goals\n",
    "- Perform collaborative filtering from ratings matrices using `pandas` and `sklearn` on the beers data\n",
    "- Understand why this approach represents collaborative filtering\n",
    "- Understand how SVDs or other matrix decompositions might fit in in the context of a recommender algorithm"
   ]
  },
  {
   "cell_type": "markdown",
   "metadata": {
    "slideshow": {
     "slide_type": "slide"
    }
   },
   "source": [
    "## Similarity based Recommendation System: Beers\n",
    "The first dataset we'll work with is a list of many beer reviews by a variety of reviewers with accompanying beer metadata on every review.  We'll use this data to generate our reviewer/beer ratings matrix from which we can perform collaborative filtering and recommend beers based on user preferences."
   ]
  },
  {
   "cell_type": "markdown",
   "metadata": {
    "slideshow": {
     "slide_type": "slide"
    }
   },
   "source": [
    "### Beers: Get the Data\n",
    "First perform the usual imports of `numpy` and `pandas` as `np` and `pd`."
   ]
  },
  {
   "cell_type": "code",
   "execution_count": 2,
   "metadata": {
    "ExecuteTime": {
     "end_time": "2018-08-21T14:33:39.701880Z",
     "start_time": "2018-08-21T14:33:38.951115Z"
    },
    "slideshow": {
     "slide_type": "slide"
    }
   },
   "outputs": [],
   "source": [
    "import pandas as pd\n",
    "import numpy as np"
   ]
  },
  {
   "cell_type": "markdown",
   "metadata": {
    "slideshow": {
     "slide_type": "slide"
    }
   },
   "source": [
    "Now let's get the data.  If you don't already have it locally you can use curl to pull it down."
   ]
  },
  {
   "cell_type": "code",
   "execution_count": null,
   "metadata": {
    "collapsed": true,
    "slideshow": {
     "slide_type": "slide"
    }
   },
   "outputs": [],
   "source": [
    "#! curl -O https://s3.amazonaws.com/demo-datasets/beer_reviews.tar.gz"
   ]
  },
  {
   "cell_type": "markdown",
   "metadata": {
    "slideshow": {
     "slide_type": "slide"
    }
   },
   "source": [
    "These steps here are optional, just move the data some place where you know where it is and then point your eventual call to `read_csv()` to that location."
   ]
  },
  {
   "cell_type": "code",
   "execution_count": null,
   "metadata": {
    "collapsed": true,
    "slideshow": {
     "slide_type": "slide"
    }
   },
   "outputs": [],
   "source": [
    "#! tar -xvzf beer_reviews.tar.gz"
   ]
  },
  {
   "cell_type": "code",
   "execution_count": null,
   "metadata": {
    "collapsed": true,
    "slideshow": {
     "slide_type": "slide"
    }
   },
   "outputs": [],
   "source": [
    "# !ls beer_reviews"
   ]
  },
  {
   "cell_type": "markdown",
   "metadata": {
    "slideshow": {
     "slide_type": "slide"
    }
   },
   "source": [
    "Import the data into a `pandas` dataframe called `df` by calling `read_csv()` with the appropriate path and the parameter `compression='gzip'` (you don't need this if you already extracted your file, it's just nice to see that pandas can handle gzipped data)."
   ]
  },
  {
   "cell_type": "code",
   "execution_count": 3,
   "metadata": {
    "ExecuteTime": {
     "end_time": "2018-08-21T14:33:45.758000Z",
     "start_time": "2018-08-21T14:33:41.910411Z"
    },
    "slideshow": {
     "slide_type": "slide"
    }
   },
   "outputs": [],
   "source": [
    "#df = pd.read_csv(\"~/data/beer_reviews.tar.gz\", compression='gzip', error_bad_lines=False)\n",
    "df = pd.read_csv(\"./data/beer_reviews/beer_reviews.csv\")\n"
   ]
  },
  {
   "cell_type": "markdown",
   "metadata": {
    "slideshow": {
     "slide_type": "slide"
    }
   },
   "source": [
    "### Explore the Data\n",
    "Let's look at the data with `head()`"
   ]
  },
  {
   "cell_type": "code",
   "execution_count": 4,
   "metadata": {
    "ExecuteTime": {
     "end_time": "2018-08-21T14:33:46.801616Z",
     "start_time": "2018-08-21T14:33:46.790593Z"
    }
   },
   "outputs": [
    {
     "data": {
      "text/plain": [
       "(1586614, 13)"
      ]
     },
     "execution_count": 4,
     "metadata": {},
     "output_type": "execute_result"
    }
   ],
   "source": [
    "df.shape"
   ]
  },
  {
   "cell_type": "code",
   "execution_count": 4,
   "metadata": {
    "slideshow": {
     "slide_type": "slide"
    }
   },
   "outputs": [
    {
     "data": {
      "text/html": [
       "<div>\n",
       "<style>\n",
       "    .dataframe thead tr:only-child th {\n",
       "        text-align: right;\n",
       "    }\n",
       "\n",
       "    .dataframe thead th {\n",
       "        text-align: left;\n",
       "    }\n",
       "\n",
       "    .dataframe tbody tr th {\n",
       "        vertical-align: top;\n",
       "    }\n",
       "</style>\n",
       "<table border=\"1\" class=\"dataframe\">\n",
       "  <thead>\n",
       "    <tr style=\"text-align: right;\">\n",
       "      <th></th>\n",
       "      <th>brewery_id</th>\n",
       "      <th>brewery_name</th>\n",
       "      <th>review_time</th>\n",
       "      <th>review_overall</th>\n",
       "      <th>review_aroma</th>\n",
       "      <th>review_appearance</th>\n",
       "      <th>review_profilename</th>\n",
       "      <th>beer_style</th>\n",
       "      <th>review_palate</th>\n",
       "      <th>review_taste</th>\n",
       "      <th>beer_name</th>\n",
       "      <th>beer_abv</th>\n",
       "      <th>beer_beerid</th>\n",
       "    </tr>\n",
       "  </thead>\n",
       "  <tbody>\n",
       "    <tr>\n",
       "      <th>0</th>\n",
       "      <td>10325</td>\n",
       "      <td>Vecchio Birraio</td>\n",
       "      <td>1234817823</td>\n",
       "      <td>1.5</td>\n",
       "      <td>2.0</td>\n",
       "      <td>2.5</td>\n",
       "      <td>stcules</td>\n",
       "      <td>Hefeweizen</td>\n",
       "      <td>1.5</td>\n",
       "      <td>1.5</td>\n",
       "      <td>Sausa Weizen</td>\n",
       "      <td>5.0</td>\n",
       "      <td>47986</td>\n",
       "    </tr>\n",
       "    <tr>\n",
       "      <th>1</th>\n",
       "      <td>10325</td>\n",
       "      <td>Vecchio Birraio</td>\n",
       "      <td>1235915097</td>\n",
       "      <td>3.0</td>\n",
       "      <td>2.5</td>\n",
       "      <td>3.0</td>\n",
       "      <td>stcules</td>\n",
       "      <td>English Strong Ale</td>\n",
       "      <td>3.0</td>\n",
       "      <td>3.0</td>\n",
       "      <td>Red Moon</td>\n",
       "      <td>6.2</td>\n",
       "      <td>48213</td>\n",
       "    </tr>\n",
       "    <tr>\n",
       "      <th>2</th>\n",
       "      <td>10325</td>\n",
       "      <td>Vecchio Birraio</td>\n",
       "      <td>1235916604</td>\n",
       "      <td>3.0</td>\n",
       "      <td>2.5</td>\n",
       "      <td>3.0</td>\n",
       "      <td>stcules</td>\n",
       "      <td>Foreign / Export Stout</td>\n",
       "      <td>3.0</td>\n",
       "      <td>3.0</td>\n",
       "      <td>Black Horse Black Beer</td>\n",
       "      <td>6.5</td>\n",
       "      <td>48215</td>\n",
       "    </tr>\n",
       "    <tr>\n",
       "      <th>3</th>\n",
       "      <td>10325</td>\n",
       "      <td>Vecchio Birraio</td>\n",
       "      <td>1234725145</td>\n",
       "      <td>3.0</td>\n",
       "      <td>3.0</td>\n",
       "      <td>3.5</td>\n",
       "      <td>stcules</td>\n",
       "      <td>German Pilsener</td>\n",
       "      <td>2.5</td>\n",
       "      <td>3.0</td>\n",
       "      <td>Sausa Pils</td>\n",
       "      <td>5.0</td>\n",
       "      <td>47969</td>\n",
       "    </tr>\n",
       "    <tr>\n",
       "      <th>4</th>\n",
       "      <td>1075</td>\n",
       "      <td>Caldera Brewing Company</td>\n",
       "      <td>1293735206</td>\n",
       "      <td>4.0</td>\n",
       "      <td>4.5</td>\n",
       "      <td>4.0</td>\n",
       "      <td>johnmichaelsen</td>\n",
       "      <td>American Double / Imperial IPA</td>\n",
       "      <td>4.0</td>\n",
       "      <td>4.5</td>\n",
       "      <td>Cauldron DIPA</td>\n",
       "      <td>7.7</td>\n",
       "      <td>64883</td>\n",
       "    </tr>\n",
       "  </tbody>\n",
       "</table>\n",
       "</div>"
      ],
      "text/plain": [
       "   brewery_id             brewery_name  review_time  review_overall  \\\n",
       "0       10325          Vecchio Birraio   1234817823             1.5   \n",
       "1       10325          Vecchio Birraio   1235915097             3.0   \n",
       "2       10325          Vecchio Birraio   1235916604             3.0   \n",
       "3       10325          Vecchio Birraio   1234725145             3.0   \n",
       "4        1075  Caldera Brewing Company   1293735206             4.0   \n",
       "\n",
       "   review_aroma  review_appearance review_profilename  \\\n",
       "0           2.0                2.5            stcules   \n",
       "1           2.5                3.0            stcules   \n",
       "2           2.5                3.0            stcules   \n",
       "3           3.0                3.5            stcules   \n",
       "4           4.5                4.0     johnmichaelsen   \n",
       "\n",
       "                       beer_style  review_palate  review_taste  \\\n",
       "0                      Hefeweizen            1.5           1.5   \n",
       "1              English Strong Ale            3.0           3.0   \n",
       "2          Foreign / Export Stout            3.0           3.0   \n",
       "3                 German Pilsener            2.5           3.0   \n",
       "4  American Double / Imperial IPA            4.0           4.5   \n",
       "\n",
       "                beer_name  beer_abv  beer_beerid  \n",
       "0            Sausa Weizen       5.0        47986  \n",
       "1                Red Moon       6.2        48213  \n",
       "2  Black Horse Black Beer       6.5        48215  \n",
       "3              Sausa Pils       5.0        47969  \n",
       "4           Cauldron DIPA       7.7        64883  "
      ]
     },
     "execution_count": 4,
     "metadata": {},
     "output_type": "execute_result"
    }
   ],
   "source": [
    "df.head()"
   ]
  },
  {
   "cell_type": "markdown",
   "metadata": {
    "slideshow": {
     "slide_type": "slide"
    }
   },
   "source": [
    "Create a separate data frame `df_test` to investigate a little bit further by selecting out only the **beer_name=\"Pale Ale\"** reviews using the `isIn([])` function.  Then sort this resulting table by **review_profilename** and examine the first 20 rows.  You should notice that the same reviewer can review multiple Pale Ales."
   ]
  },
  {
   "cell_type": "code",
   "execution_count": 5,
   "metadata": {
    "slideshow": {
     "slide_type": "slide"
    }
   },
   "outputs": [
    {
     "data": {
      "text/html": [
       "<div>\n",
       "<style>\n",
       "    .dataframe thead tr:only-child th {\n",
       "        text-align: right;\n",
       "    }\n",
       "\n",
       "    .dataframe thead th {\n",
       "        text-align: left;\n",
       "    }\n",
       "\n",
       "    .dataframe tbody tr th {\n",
       "        vertical-align: top;\n",
       "    }\n",
       "</style>\n",
       "<table border=\"1\" class=\"dataframe\">\n",
       "  <thead>\n",
       "    <tr style=\"text-align: right;\">\n",
       "      <th></th>\n",
       "      <th>review_profilename</th>\n",
       "      <th>beer_name</th>\n",
       "      <th>review_overall</th>\n",
       "    </tr>\n",
       "  </thead>\n",
       "  <tbody>\n",
       "    <tr>\n",
       "      <th>912451</th>\n",
       "      <td>0110x011</td>\n",
       "      <td>Pale Ale</td>\n",
       "      <td>4.0</td>\n",
       "    </tr>\n",
       "    <tr>\n",
       "      <th>1406262</th>\n",
       "      <td>1759Girl</td>\n",
       "      <td>Pale Ale</td>\n",
       "      <td>3.5</td>\n",
       "    </tr>\n",
       "    <tr>\n",
       "      <th>563154</th>\n",
       "      <td>1Adam12</td>\n",
       "      <td>Pale Ale</td>\n",
       "      <td>3.5</td>\n",
       "    </tr>\n",
       "    <tr>\n",
       "      <th>525342</th>\n",
       "      <td>1fastz28</td>\n",
       "      <td>Pale Ale</td>\n",
       "      <td>4.5</td>\n",
       "    </tr>\n",
       "    <tr>\n",
       "      <th>41264</th>\n",
       "      <td>321jeff</td>\n",
       "      <td>Pale Ale</td>\n",
       "      <td>4.0</td>\n",
       "    </tr>\n",
       "    <tr>\n",
       "      <th>1385721</th>\n",
       "      <td>3Vandoo</td>\n",
       "      <td>Pale Ale</td>\n",
       "      <td>3.5</td>\n",
       "    </tr>\n",
       "    <tr>\n",
       "      <th>562967</th>\n",
       "      <td>7thstreetbrewery</td>\n",
       "      <td>Pale Ale</td>\n",
       "      <td>5.0</td>\n",
       "    </tr>\n",
       "    <tr>\n",
       "      <th>563116</th>\n",
       "      <td>ADR</td>\n",
       "      <td>Pale Ale</td>\n",
       "      <td>4.0</td>\n",
       "    </tr>\n",
       "    <tr>\n",
       "      <th>477535</th>\n",
       "      <td>ADZA</td>\n",
       "      <td>Pale Ale</td>\n",
       "      <td>4.5</td>\n",
       "    </tr>\n",
       "    <tr>\n",
       "      <th>1429227</th>\n",
       "      <td>ADZA</td>\n",
       "      <td>Pale Ale</td>\n",
       "      <td>3.0</td>\n",
       "    </tr>\n",
       "    <tr>\n",
       "      <th>612416</th>\n",
       "      <td>ADZA</td>\n",
       "      <td>Pale Ale</td>\n",
       "      <td>3.5</td>\n",
       "    </tr>\n",
       "    <tr>\n",
       "      <th>836014</th>\n",
       "      <td>ADZA</td>\n",
       "      <td>Pale Ale</td>\n",
       "      <td>3.5</td>\n",
       "    </tr>\n",
       "    <tr>\n",
       "      <th>175527</th>\n",
       "      <td>AITCTKD170</td>\n",
       "      <td>Pale Ale</td>\n",
       "      <td>4.5</td>\n",
       "    </tr>\n",
       "    <tr>\n",
       "      <th>743832</th>\n",
       "      <td>AKBelgianBeast</td>\n",
       "      <td>Pale Ale</td>\n",
       "      <td>3.5</td>\n",
       "    </tr>\n",
       "    <tr>\n",
       "      <th>739049</th>\n",
       "      <td>ALESwhatCURESya</td>\n",
       "      <td>Pale Ale</td>\n",
       "      <td>2.0</td>\n",
       "    </tr>\n",
       "    <tr>\n",
       "      <th>562980</th>\n",
       "      <td>AMo</td>\n",
       "      <td>Pale Ale</td>\n",
       "      <td>4.0</td>\n",
       "    </tr>\n",
       "    <tr>\n",
       "      <th>477693</th>\n",
       "      <td>ATLbeerDog</td>\n",
       "      <td>Pale Ale</td>\n",
       "      <td>3.5</td>\n",
       "    </tr>\n",
       "    <tr>\n",
       "      <th>585600</th>\n",
       "      <td>ATLbeerDog</td>\n",
       "      <td>Pale Ale</td>\n",
       "      <td>2.5</td>\n",
       "    </tr>\n",
       "    <tr>\n",
       "      <th>258037</th>\n",
       "      <td>AaronRed</td>\n",
       "      <td>Pale Ale</td>\n",
       "      <td>4.0</td>\n",
       "    </tr>\n",
       "    <tr>\n",
       "      <th>1567447</th>\n",
       "      <td>Absumaster</td>\n",
       "      <td>Pale Ale</td>\n",
       "      <td>3.5</td>\n",
       "    </tr>\n",
       "  </tbody>\n",
       "</table>\n",
       "</div>"
      ],
      "text/plain": [
       "        review_profilename beer_name  review_overall\n",
       "912451            0110x011  Pale Ale             4.0\n",
       "1406262           1759Girl  Pale Ale             3.5\n",
       "563154             1Adam12  Pale Ale             3.5\n",
       "525342            1fastz28  Pale Ale             4.5\n",
       "41264              321jeff  Pale Ale             4.0\n",
       "1385721            3Vandoo  Pale Ale             3.5\n",
       "562967    7thstreetbrewery  Pale Ale             5.0\n",
       "563116                 ADR  Pale Ale             4.0\n",
       "477535                ADZA  Pale Ale             4.5\n",
       "1429227               ADZA  Pale Ale             3.0\n",
       "612416                ADZA  Pale Ale             3.5\n",
       "836014                ADZA  Pale Ale             3.5\n",
       "175527          AITCTKD170  Pale Ale             4.5\n",
       "743832      AKBelgianBeast  Pale Ale             3.5\n",
       "739049     ALESwhatCURESya  Pale Ale             2.0\n",
       "562980                 AMo  Pale Ale             4.0\n",
       "477693          ATLbeerDog  Pale Ale             3.5\n",
       "585600          ATLbeerDog  Pale Ale             2.5\n",
       "258037            AaronRed  Pale Ale             4.0\n",
       "1567447         Absumaster  Pale Ale             3.5"
      ]
     },
     "execution_count": 5,
     "metadata": {},
     "output_type": "execute_result"
    }
   ],
   "source": [
    "df_test = df[df.beer_name.isin(['Pale Ale'])].sort_values(by='review_profilename')\n",
    "df_test[['review_profilename','beer_name','review_overall']].head(20)"
   ]
  },
  {
   "cell_type": "markdown",
   "metadata": {
    "slideshow": {
     "slide_type": "slide"
    }
   },
   "source": [
    "Let's restrict this to the top 250 beers. Use the `value_counts()` method to get a sorted list by value count on **beer_name** and then taking the first 250.  Overwrite `df` with this new data."
   ]
  },
  {
   "cell_type": "code",
   "execution_count": 6,
   "metadata": {
    "slideshow": {
     "slide_type": "slide"
    }
   },
   "outputs": [
    {
     "data": {
      "text/plain": [
       "90 Minute IPA                                               3290\n",
       "India Pale Ale                                              3130\n",
       "Old Rasputin Russian Imperial Stout                         3111\n",
       "Sierra Nevada Celebration Ale                               3000\n",
       "Two Hearted Ale                                             2728\n",
       "Arrogant Bastard Ale                                        2704\n",
       "Stone Ruination IPA                                         2704\n",
       "Sierra Nevada Pale Ale                                      2587\n",
       "Stone IPA (India Pale Ale)                                  2575\n",
       "Pliny The Elder                                             2527\n",
       "Founders Breakfast Stout                                    2502\n",
       "Pale Ale                                                    2500\n",
       "Sierra Nevada Bigfoot Barleywine Style Ale                  2492\n",
       "La Fin Du Monde                                             2483\n",
       "60 Minute IPA                                               2475\n",
       "Storm King Stout                                            2452\n",
       "Duvel                                                       2450\n",
       "Brooklyn Black Chocolate Stout                              2447\n",
       "Bell's Hopslam Ale                                          2443\n",
       "Samuel Adams Boston Lager                                   2418\n",
       "Stone Imperial Russian Stout                                2329\n",
       "HopDevil Ale                                                2302\n",
       "Chocolate Stout                                             2292\n",
       "Imperial Stout                                              2273\n",
       "Young's Double Chocolate Stout                              2257\n",
       "Dead Guy Ale                                                2234\n",
       "St. Bernardus Abt 12                                        2217\n",
       "Guinness Draught                                            2210\n",
       "Trappistes Rochefort 10                                     2170\n",
       "Ayinger Celebrator Doppelbock                               2070\n",
       "                                                            ... \n",
       "Eddy Line Pale Ale                                             1\n",
       "Over & Out S.P.A                                               1\n",
       "Steampunk Porter                                               1\n",
       "Ringed Tail Rye                                                1\n",
       "Titanic Chocolate & Vanilla Stout                              1\n",
       "Alpha Avalanche                                                1\n",
       "Oregon White Beer                                              1\n",
       "Kraftbräu Robbie O'Soundman's Irish Stout                      1\n",
       "New Oak-aged Rye IPA                                           1\n",
       "Red Ed                                                         1\n",
       "Syem Kholmov Tyemnoye                                          1\n",
       "Ciechan Mocne                                                  1\n",
       "Fast Eddie                                                     1\n",
       "Summer Session Pale Ale                                        1\n",
       "Trackside American Wheat                                       1\n",
       "Satus Creek Pale                                               1\n",
       "L'Ambrasse-Temps (Mons)                                        1\n",
       "Ivory Tower Endow Mint                                         1\n",
       "Tezukuri Bakushu (Candadian Brewery Inc.) India Pale Ale       1\n",
       "I'm Seeing Double IPA                                          1\n",
       "Chilcoot IPA                                                   1\n",
       "Old Coventry Porter                                            1\n",
       "Sigwart Hell                                                   1\n",
       "Heavy Handed #4                                                1\n",
       "Paradise Rd Pilsner                                            1\n",
       "7th Street IPA                                                 1\n",
       "Everards Spring Ale                                            1\n",
       "McConnell's Revenge                                            1\n",
       "Sour Dreams                                                    1\n",
       "Wittmann Landshuter Dult-Bier                                  1\n",
       "Name: beer_name, Length: 56857, dtype: int64"
      ]
     },
     "execution_count": 6,
     "metadata": {},
     "output_type": "execute_result"
    }
   ],
   "source": [
    "df.beer_name.value_counts()"
   ]
  },
  {
   "cell_type": "code",
   "execution_count": 7,
   "metadata": {
    "slideshow": {
     "slide_type": "slide"
    }
   },
   "outputs": [
    {
     "data": {
      "text/html": [
       "<div>\n",
       "<style>\n",
       "    .dataframe thead tr:only-child th {\n",
       "        text-align: right;\n",
       "    }\n",
       "\n",
       "    .dataframe thead th {\n",
       "        text-align: left;\n",
       "    }\n",
       "\n",
       "    .dataframe tbody tr th {\n",
       "        vertical-align: top;\n",
       "    }\n",
       "</style>\n",
       "<table border=\"1\" class=\"dataframe\">\n",
       "  <thead>\n",
       "    <tr style=\"text-align: right;\">\n",
       "      <th></th>\n",
       "      <th>review_profilename</th>\n",
       "      <th>beer_name</th>\n",
       "      <th>review_overall</th>\n",
       "    </tr>\n",
       "  </thead>\n",
       "  <tbody>\n",
       "    <tr>\n",
       "      <th>798</th>\n",
       "      <td>grumpy</td>\n",
       "      <td>Imperial Stout</td>\n",
       "      <td>4.5</td>\n",
       "    </tr>\n",
       "    <tr>\n",
       "      <th>1559</th>\n",
       "      <td>blitheringidiot</td>\n",
       "      <td>Pale Ale</td>\n",
       "      <td>4.0</td>\n",
       "    </tr>\n",
       "    <tr>\n",
       "      <th>1560</th>\n",
       "      <td>NeroFiddled</td>\n",
       "      <td>Pale Ale</td>\n",
       "      <td>4.0</td>\n",
       "    </tr>\n",
       "    <tr>\n",
       "      <th>1563</th>\n",
       "      <td>blitheringidiot</td>\n",
       "      <td>IPA</td>\n",
       "      <td>3.5</td>\n",
       "    </tr>\n",
       "    <tr>\n",
       "      <th>1564</th>\n",
       "      <td>Gavage</td>\n",
       "      <td>IPA</td>\n",
       "      <td>3.0</td>\n",
       "    </tr>\n",
       "    <tr>\n",
       "      <th>1565</th>\n",
       "      <td>NeroFiddled</td>\n",
       "      <td>IPA</td>\n",
       "      <td>4.5</td>\n",
       "    </tr>\n",
       "    <tr>\n",
       "      <th>1566</th>\n",
       "      <td>weeare138</td>\n",
       "      <td>IPA</td>\n",
       "      <td>4.0</td>\n",
       "    </tr>\n",
       "    <tr>\n",
       "      <th>1636</th>\n",
       "      <td>JamesS</td>\n",
       "      <td>Oktoberfest</td>\n",
       "      <td>4.0</td>\n",
       "    </tr>\n",
       "    <tr>\n",
       "      <th>1637</th>\n",
       "      <td>danielocean03</td>\n",
       "      <td>Oktoberfest</td>\n",
       "      <td>4.5</td>\n",
       "    </tr>\n",
       "    <tr>\n",
       "      <th>1638</th>\n",
       "      <td>BlackAngus</td>\n",
       "      <td>Oktoberfest</td>\n",
       "      <td>4.5</td>\n",
       "    </tr>\n",
       "  </tbody>\n",
       "</table>\n",
       "</div>"
      ],
      "text/plain": [
       "     review_profilename       beer_name  review_overall\n",
       "798              grumpy  Imperial Stout             4.5\n",
       "1559    blitheringidiot        Pale Ale             4.0\n",
       "1560        NeroFiddled        Pale Ale             4.0\n",
       "1563    blitheringidiot             IPA             3.5\n",
       "1564             Gavage             IPA             3.0\n",
       "1565        NeroFiddled             IPA             4.5\n",
       "1566          weeare138             IPA             4.0\n",
       "1636             JamesS     Oktoberfest             4.0\n",
       "1637      danielocean03     Oktoberfest             4.5\n",
       "1638         BlackAngus     Oktoberfest             4.5"
      ]
     },
     "execution_count": 7,
     "metadata": {},
     "output_type": "execute_result"
    }
   ],
   "source": [
    "n = 250\n",
    "top_n = df.beer_name.value_counts().index[:n]\n",
    "df = df[df.beer_name.isin(top_n)]\n",
    "df[['review_profilename','beer_name','review_overall']].head(10)"
   ]
  },
  {
   "cell_type": "markdown",
   "metadata": {
    "slideshow": {
     "slide_type": "slide"
    }
   },
   "source": [
    "How big is this dataset?  Use `df.info()`"
   ]
  },
  {
   "cell_type": "code",
   "execution_count": 8,
   "metadata": {
    "slideshow": {
     "slide_type": "slide"
    }
   },
   "outputs": [
    {
     "name": "stdout",
     "output_type": "stream",
     "text": [
      "<class 'pandas.core.frame.DataFrame'>\n",
      "Int64Index: 355275 entries, 798 to 1586564\n",
      "Data columns (total 13 columns):\n",
      "brewery_id            355275 non-null int64\n",
      "brewery_name          355275 non-null object\n",
      "review_time           355275 non-null int64\n",
      "review_overall        355275 non-null float64\n",
      "review_aroma          355275 non-null float64\n",
      "review_appearance     355275 non-null float64\n",
      "review_profilename    355175 non-null object\n",
      "beer_style            355275 non-null object\n",
      "review_palate         355275 non-null float64\n",
      "review_taste          355275 non-null float64\n",
      "beer_name             355275 non-null object\n",
      "beer_abv              353477 non-null float64\n",
      "beer_beerid           355275 non-null int64\n",
      "dtypes: float64(6), int64(3), object(4)\n",
      "memory usage: 37.9+ MB\n"
     ]
    }
   ],
   "source": [
    "df.info()"
   ]
  },
  {
   "cell_type": "markdown",
   "metadata": {
    "slideshow": {
     "slide_type": "slide"
    }
   },
   "source": [
    "Aggregate the data in a pivot table called `df_wide` using the `pivot_table` method. Display the mean review_overall for each beer_name aggregating the review_overall values by review_profilename. Use the mean (numpy.mean) as aggregator.  In other words, the `values` parameter should contain **review_overall** and the `index` parameter should contain **beer_name** and **beer_name**.  Make sure to call `unstack()` at the end."
   ]
  },
  {
   "cell_type": "code",
   "execution_count": 9,
   "metadata": {
    "slideshow": {
     "slide_type": "slide"
    }
   },
   "outputs": [
    {
     "data": {
      "text/plain": [
       "(250, 22140)"
      ]
     },
     "execution_count": 9,
     "metadata": {},
     "output_type": "execute_result"
    }
   ],
   "source": [
    "# row is the beer_name and column is the review_profile\n",
    "df_wide = pd.pivot_table(df, values=[\"review_overall\"],\n",
    "        index=[\"beer_name\", \"review_profilename\"],\n",
    "        aggfunc=np.mean).unstack()\n",
    "df_wide.shape"
   ]
  },
  {
   "cell_type": "markdown",
   "metadata": {
    "slideshow": {
     "slide_type": "slide"
    }
   },
   "source": [
    "Display the head of the pivot table, but only for 5 users (columns are users)"
   ]
  },
  {
   "cell_type": "code",
   "execution_count": 10,
   "metadata": {},
   "outputs": [
    {
     "data": {
      "text/html": [
       "<div>\n",
       "<style>\n",
       "    .dataframe thead tr:only-child th {\n",
       "        text-align: right;\n",
       "    }\n",
       "\n",
       "    .dataframe thead th {\n",
       "        text-align: left;\n",
       "    }\n",
       "\n",
       "    .dataframe tbody tr th {\n",
       "        vertical-align: top;\n",
       "    }\n",
       "</style>\n",
       "<table border=\"1\" class=\"dataframe\">\n",
       "  <thead>\n",
       "    <tr>\n",
       "      <th></th>\n",
       "      <th colspan=\"5\" halign=\"left\">review_overall</th>\n",
       "    </tr>\n",
       "    <tr>\n",
       "      <th>review_profilename</th>\n",
       "      <th>0110x011</th>\n",
       "      <th>02maxima</th>\n",
       "      <th>03SVTCobra</th>\n",
       "      <th>05Harley</th>\n",
       "      <th>0Naught0</th>\n",
       "    </tr>\n",
       "    <tr>\n",
       "      <th>beer_name</th>\n",
       "      <th></th>\n",
       "      <th></th>\n",
       "      <th></th>\n",
       "      <th></th>\n",
       "      <th></th>\n",
       "    </tr>\n",
       "  </thead>\n",
       "  <tbody>\n",
       "    <tr>\n",
       "      <th>#9</th>\n",
       "      <td>NaN</td>\n",
       "      <td>NaN</td>\n",
       "      <td>NaN</td>\n",
       "      <td>NaN</td>\n",
       "      <td>NaN</td>\n",
       "    </tr>\n",
       "    <tr>\n",
       "      <th>120 Minute IPA</th>\n",
       "      <td>NaN</td>\n",
       "      <td>NaN</td>\n",
       "      <td>NaN</td>\n",
       "      <td>4.0</td>\n",
       "      <td>NaN</td>\n",
       "    </tr>\n",
       "    <tr>\n",
       "      <th>1554 Enlightened Black Ale</th>\n",
       "      <td>NaN</td>\n",
       "      <td>NaN</td>\n",
       "      <td>NaN</td>\n",
       "      <td>NaN</td>\n",
       "      <td>NaN</td>\n",
       "    </tr>\n",
       "    <tr>\n",
       "      <th>60 Minute IPA</th>\n",
       "      <td>NaN</td>\n",
       "      <td>NaN</td>\n",
       "      <td>NaN</td>\n",
       "      <td>NaN</td>\n",
       "      <td>NaN</td>\n",
       "    </tr>\n",
       "    <tr>\n",
       "      <th>90 Minute IPA</th>\n",
       "      <td>5.0</td>\n",
       "      <td>NaN</td>\n",
       "      <td>NaN</td>\n",
       "      <td>4.0</td>\n",
       "      <td>NaN</td>\n",
       "    </tr>\n",
       "  </tbody>\n",
       "</table>\n",
       "</div>"
      ],
      "text/plain": [
       "                           review_overall                               \\\n",
       "review_profilename               0110x011 02maxima 03SVTCobra 05Harley   \n",
       "beer_name                                                                \n",
       "#9                                    NaN      NaN        NaN      NaN   \n",
       "120 Minute IPA                        NaN      NaN        NaN      4.0   \n",
       "1554 Enlightened Black Ale            NaN      NaN        NaN      NaN   \n",
       "60 Minute IPA                         NaN      NaN        NaN      NaN   \n",
       "90 Minute IPA                         5.0      NaN        NaN      4.0   \n",
       "\n",
       "                                     \n",
       "review_profilename         0Naught0  \n",
       "beer_name                            \n",
       "#9                              NaN  \n",
       "120 Minute IPA                  NaN  \n",
       "1554 Enlightened Black Ale      NaN  \n",
       "60 Minute IPA                   NaN  \n",
       "90 Minute IPA                   NaN  "
      ]
     },
     "execution_count": 10,
     "metadata": {},
     "output_type": "execute_result"
    }
   ],
   "source": [
    "df_wide.iloc[0:5, 0:5]"
   ]
  },
  {
   "cell_type": "markdown",
   "metadata": {
    "slideshow": {
     "slide_type": "slide"
    }
   },
   "source": [
    "### Discussion: what do you notice in this table?"
   ]
  },
  {
   "cell_type": "markdown",
   "metadata": {
    "slideshow": {
     "slide_type": "slide"
    }
   },
   "source": [
    "Set Nans to zero with the `fillna()` function."
   ]
  },
  {
   "cell_type": "code",
   "execution_count": 11,
   "metadata": {
    "collapsed": true,
    "slideshow": {
     "slide_type": "slide"
    }
   },
   "outputs": [],
   "source": [
    "df_wide = df_wide.fillna(0)"
   ]
  },
  {
   "cell_type": "code",
   "execution_count": 12,
   "metadata": {},
   "outputs": [
    {
     "data": {
      "text/html": [
       "<div>\n",
       "<style>\n",
       "    .dataframe thead tr:only-child th {\n",
       "        text-align: right;\n",
       "    }\n",
       "\n",
       "    .dataframe thead th {\n",
       "        text-align: left;\n",
       "    }\n",
       "\n",
       "    .dataframe tbody tr th {\n",
       "        vertical-align: top;\n",
       "    }\n",
       "</style>\n",
       "<table border=\"1\" class=\"dataframe\">\n",
       "  <thead>\n",
       "    <tr>\n",
       "      <th></th>\n",
       "      <th colspan=\"5\" halign=\"left\">review_overall</th>\n",
       "    </tr>\n",
       "    <tr>\n",
       "      <th>review_profilename</th>\n",
       "      <th>0110x011</th>\n",
       "      <th>02maxima</th>\n",
       "      <th>03SVTCobra</th>\n",
       "      <th>05Harley</th>\n",
       "      <th>0Naught0</th>\n",
       "    </tr>\n",
       "    <tr>\n",
       "      <th>beer_name</th>\n",
       "      <th></th>\n",
       "      <th></th>\n",
       "      <th></th>\n",
       "      <th></th>\n",
       "      <th></th>\n",
       "    </tr>\n",
       "  </thead>\n",
       "  <tbody>\n",
       "    <tr>\n",
       "      <th>#9</th>\n",
       "      <td>0.0</td>\n",
       "      <td>0.0</td>\n",
       "      <td>0.0</td>\n",
       "      <td>0.0</td>\n",
       "      <td>0.0</td>\n",
       "    </tr>\n",
       "    <tr>\n",
       "      <th>120 Minute IPA</th>\n",
       "      <td>0.0</td>\n",
       "      <td>0.0</td>\n",
       "      <td>0.0</td>\n",
       "      <td>4.0</td>\n",
       "      <td>0.0</td>\n",
       "    </tr>\n",
       "    <tr>\n",
       "      <th>1554 Enlightened Black Ale</th>\n",
       "      <td>0.0</td>\n",
       "      <td>0.0</td>\n",
       "      <td>0.0</td>\n",
       "      <td>0.0</td>\n",
       "      <td>0.0</td>\n",
       "    </tr>\n",
       "    <tr>\n",
       "      <th>60 Minute IPA</th>\n",
       "      <td>0.0</td>\n",
       "      <td>0.0</td>\n",
       "      <td>0.0</td>\n",
       "      <td>0.0</td>\n",
       "      <td>0.0</td>\n",
       "    </tr>\n",
       "    <tr>\n",
       "      <th>90 Minute IPA</th>\n",
       "      <td>5.0</td>\n",
       "      <td>0.0</td>\n",
       "      <td>0.0</td>\n",
       "      <td>4.0</td>\n",
       "      <td>0.0</td>\n",
       "    </tr>\n",
       "  </tbody>\n",
       "</table>\n",
       "</div>"
      ],
      "text/plain": [
       "                           review_overall                               \\\n",
       "review_profilename               0110x011 02maxima 03SVTCobra 05Harley   \n",
       "beer_name                                                                \n",
       "#9                                    0.0      0.0        0.0      0.0   \n",
       "120 Minute IPA                        0.0      0.0        0.0      4.0   \n",
       "1554 Enlightened Black Ale            0.0      0.0        0.0      0.0   \n",
       "60 Minute IPA                         0.0      0.0        0.0      0.0   \n",
       "90 Minute IPA                         5.0      0.0        0.0      4.0   \n",
       "\n",
       "                                     \n",
       "review_profilename         0Naught0  \n",
       "beer_name                            \n",
       "#9                              0.0  \n",
       "120 Minute IPA                  0.0  \n",
       "1554 Enlightened Black Ale      0.0  \n",
       "60 Minute IPA                   0.0  \n",
       "90 Minute IPA                   0.0  "
      ]
     },
     "execution_count": 12,
     "metadata": {},
     "output_type": "execute_result"
    }
   ],
   "source": [
    "df_wide.iloc[0:5, 0:5]"
   ]
  },
  {
   "cell_type": "markdown",
   "metadata": {
    "slideshow": {
     "slide_type": "slide"
    }
   },
   "source": [
    "### Calculate distance between beers\n",
    "\n",
    "This is the key.  We have our ratings matrix now and we're going to use cosine_similarity from scikit-learn to compute the distance between all beers in this space."
   ]
  },
  {
   "cell_type": "markdown",
   "metadata": {
    "slideshow": {
     "slide_type": "slide"
    }
   },
   "source": [
    "Import stuff"
   ]
  },
  {
   "cell_type": "code",
   "execution_count": 13,
   "metadata": {
    "collapsed": true,
    "slideshow": {
     "slide_type": "slide"
    }
   },
   "outputs": [],
   "source": [
    "from sklearn.metrics.pairwise import cosine_similarity\n",
    "# from sklearn.metrics.pairwise import manhattan_distances\n",
    "# from sklearn.metrics.pairwise import euclidean_distances"
   ]
  },
  {
   "cell_type": "markdown",
   "metadata": {
    "slideshow": {
     "slide_type": "slide"
    }
   },
   "source": [
    "Apply `cosine_similarity()` to `df_wide` to calculate pairwise distances and store this in a variable called `dists`."
   ]
  },
  {
   "cell_type": "code",
   "execution_count": 14,
   "metadata": {
    "collapsed": true,
    "slideshow": {
     "slide_type": "slide"
    }
   },
   "outputs": [],
   "source": [
    "dists = cosine_similarity(df_wide) # all beers against all beers"
   ]
  },
  {
   "cell_type": "code",
   "execution_count": 15,
   "metadata": {},
   "outputs": [
    {
     "name": "stdout",
     "output_type": "stream",
     "text": [
      "(250, 250)\n"
     ]
    }
   ],
   "source": [
    "print(dists.shape)"
   ]
  },
  {
   "cell_type": "markdown",
   "metadata": {
    "slideshow": {
     "slide_type": "slide"
    }
   },
   "source": [
    "Convert dists to a Pandas DataFrame, use the index as column index as well (distances are a square matrix).  This means we'll have a beers by beers matrix of the distances between every beer from the ratings space.  Check out the first 10 or so rows and columns and make sure things look right (should see 1s on the diagonal)."
   ]
  },
  {
   "cell_type": "code",
   "execution_count": 16,
   "metadata": {
    "slideshow": {
     "slide_type": "slide"
    }
   },
   "outputs": [
    {
     "data": {
      "text/html": [
       "<div>\n",
       "<style>\n",
       "    .dataframe thead tr:only-child th {\n",
       "        text-align: right;\n",
       "    }\n",
       "\n",
       "    .dataframe thead th {\n",
       "        text-align: left;\n",
       "    }\n",
       "\n",
       "    .dataframe tbody tr th {\n",
       "        vertical-align: top;\n",
       "    }\n",
       "</style>\n",
       "<table border=\"1\" class=\"dataframe\">\n",
       "  <thead>\n",
       "    <tr style=\"text-align: right;\">\n",
       "      <th>beer_name</th>\n",
       "      <th>#9</th>\n",
       "      <th>120 Minute IPA</th>\n",
       "      <th>1554 Enlightened Black Ale</th>\n",
       "      <th>60 Minute IPA</th>\n",
       "      <th>90 Minute IPA</th>\n",
       "    </tr>\n",
       "    <tr>\n",
       "      <th>beer_name</th>\n",
       "      <th></th>\n",
       "      <th></th>\n",
       "      <th></th>\n",
       "      <th></th>\n",
       "      <th></th>\n",
       "    </tr>\n",
       "  </thead>\n",
       "  <tbody>\n",
       "    <tr>\n",
       "      <th>#9</th>\n",
       "      <td>1.000000</td>\n",
       "      <td>0.275405</td>\n",
       "      <td>0.274103</td>\n",
       "      <td>0.388364</td>\n",
       "      <td>0.365175</td>\n",
       "    </tr>\n",
       "    <tr>\n",
       "      <th>120 Minute IPA</th>\n",
       "      <td>0.275405</td>\n",
       "      <td>1.000000</td>\n",
       "      <td>0.251519</td>\n",
       "      <td>0.378258</td>\n",
       "      <td>0.410366</td>\n",
       "    </tr>\n",
       "    <tr>\n",
       "      <th>1554 Enlightened Black Ale</th>\n",
       "      <td>0.274103</td>\n",
       "      <td>0.251519</td>\n",
       "      <td>1.000000</td>\n",
       "      <td>0.319887</td>\n",
       "      <td>0.314028</td>\n",
       "    </tr>\n",
       "    <tr>\n",
       "      <th>60 Minute IPA</th>\n",
       "      <td>0.388364</td>\n",
       "      <td>0.378258</td>\n",
       "      <td>0.319887</td>\n",
       "      <td>1.000000</td>\n",
       "      <td>0.533042</td>\n",
       "    </tr>\n",
       "    <tr>\n",
       "      <th>90 Minute IPA</th>\n",
       "      <td>0.365175</td>\n",
       "      <td>0.410366</td>\n",
       "      <td>0.314028</td>\n",
       "      <td>0.533042</td>\n",
       "      <td>1.000000</td>\n",
       "    </tr>\n",
       "  </tbody>\n",
       "</table>\n",
       "</div>"
      ],
      "text/plain": [
       "beer_name                         #9  120 Minute IPA  \\\n",
       "beer_name                                              \n",
       "#9                          1.000000        0.275405   \n",
       "120 Minute IPA              0.275405        1.000000   \n",
       "1554 Enlightened Black Ale  0.274103        0.251519   \n",
       "60 Minute IPA               0.388364        0.378258   \n",
       "90 Minute IPA               0.365175        0.410366   \n",
       "\n",
       "beer_name                   1554 Enlightened Black Ale  60 Minute IPA  \\\n",
       "beer_name                                                               \n",
       "#9                                            0.274103       0.388364   \n",
       "120 Minute IPA                                0.251519       0.378258   \n",
       "1554 Enlightened Black Ale                    1.000000       0.319887   \n",
       "60 Minute IPA                                 0.319887       1.000000   \n",
       "90 Minute IPA                                 0.314028       0.533042   \n",
       "\n",
       "beer_name                   90 Minute IPA  \n",
       "beer_name                                  \n",
       "#9                               0.365175  \n",
       "120 Minute IPA                   0.410366  \n",
       "1554 Enlightened Black Ale       0.314028  \n",
       "60 Minute IPA                    0.533042  \n",
       "90 Minute IPA                    1.000000  "
      ]
     },
     "execution_count": 16,
     "metadata": {},
     "output_type": "execute_result"
    }
   ],
   "source": [
    "dists = pd.DataFrame(dists, columns=df_wide.index)\n",
    "\n",
    "dists.index = dists.columns\n",
    "dists.iloc[0:5, 0:5]"
   ]
  },
  {
   "cell_type": "markdown",
   "metadata": {
    "slideshow": {
     "slide_type": "slide"
    }
   },
   "source": [
    "Select some beers and store them in `beers_i_like` then look their distances to other beers with `head()`"
   ]
  },
  {
   "cell_type": "code",
   "execution_count": 17,
   "metadata": {
    "slideshow": {
     "slide_type": "slide"
    }
   },
   "outputs": [
    {
     "data": {
      "text/html": [
       "<div>\n",
       "<style>\n",
       "    .dataframe thead tr:only-child th {\n",
       "        text-align: right;\n",
       "    }\n",
       "\n",
       "    .dataframe thead th {\n",
       "        text-align: left;\n",
       "    }\n",
       "\n",
       "    .dataframe tbody tr th {\n",
       "        vertical-align: top;\n",
       "    }\n",
       "</style>\n",
       "<table border=\"1\" class=\"dataframe\">\n",
       "  <thead>\n",
       "    <tr style=\"text-align: right;\">\n",
       "      <th>beer_name</th>\n",
       "      <th>Sierra Nevada Pale Ale</th>\n",
       "      <th>120 Minute IPA</th>\n",
       "      <th>Allagash White</th>\n",
       "    </tr>\n",
       "    <tr>\n",
       "      <th>beer_name</th>\n",
       "      <th></th>\n",
       "      <th></th>\n",
       "      <th></th>\n",
       "    </tr>\n",
       "  </thead>\n",
       "  <tbody>\n",
       "    <tr>\n",
       "      <th>#9</th>\n",
       "      <td>0.373968</td>\n",
       "      <td>0.275405</td>\n",
       "      <td>0.340681</td>\n",
       "    </tr>\n",
       "    <tr>\n",
       "      <th>120 Minute IPA</th>\n",
       "      <td>0.301693</td>\n",
       "      <td>1.000000</td>\n",
       "      <td>0.282273</td>\n",
       "    </tr>\n",
       "    <tr>\n",
       "      <th>1554 Enlightened Black Ale</th>\n",
       "      <td>0.330033</td>\n",
       "      <td>0.251519</td>\n",
       "      <td>0.260275</td>\n",
       "    </tr>\n",
       "    <tr>\n",
       "      <th>60 Minute IPA</th>\n",
       "      <td>0.459641</td>\n",
       "      <td>0.378258</td>\n",
       "      <td>0.360975</td>\n",
       "    </tr>\n",
       "    <tr>\n",
       "      <th>90 Minute IPA</th>\n",
       "      <td>0.441189</td>\n",
       "      <td>0.410366</td>\n",
       "      <td>0.356804</td>\n",
       "    </tr>\n",
       "  </tbody>\n",
       "</table>\n",
       "</div>"
      ],
      "text/plain": [
       "beer_name                   Sierra Nevada Pale Ale  120 Minute IPA  \\\n",
       "beer_name                                                            \n",
       "#9                                        0.373968        0.275405   \n",
       "120 Minute IPA                            0.301693        1.000000   \n",
       "1554 Enlightened Black Ale                0.330033        0.251519   \n",
       "60 Minute IPA                             0.459641        0.378258   \n",
       "90 Minute IPA                             0.441189        0.410366   \n",
       "\n",
       "beer_name                   Allagash White  \n",
       "beer_name                                   \n",
       "#9                                0.340681  \n",
       "120 Minute IPA                    0.282273  \n",
       "1554 Enlightened Black Ale        0.260275  \n",
       "60 Minute IPA                     0.360975  \n",
       "90 Minute IPA                     0.356804  "
      ]
     },
     "execution_count": 17,
     "metadata": {},
     "output_type": "execute_result"
    }
   ],
   "source": [
    "beers_i_like = ['Sierra Nevada Pale Ale', '120 Minute IPA', 'Allagash White']\n",
    "dists[beers_i_like].head()"
   ]
  },
  {
   "cell_type": "markdown",
   "metadata": {
    "slideshow": {
     "slide_type": "slide"
    }
   },
   "source": [
    "Sum the distances of my favorite beers by row, to have one distance from each beer in the sample.  For instance if there are 3 beers in your `beers_i_like` then you will be summing 3 numbers for each row.  Store the results in `beers_summed`.  "
   ]
  },
  {
   "cell_type": "code",
   "execution_count": 18,
   "metadata": {
    "collapsed": true,
    "slideshow": {
     "slide_type": "slide"
    }
   },
   "outputs": [],
   "source": [
    "beers_summed = np.sum(dists[beers_i_like], axis=1)"
   ]
  },
  {
   "cell_type": "markdown",
   "metadata": {
    "slideshow": {
     "slide_type": "slide"
    }
   },
   "source": [
    "Sort summed beers from best to worse using `order()`"
   ]
  },
  {
   "cell_type": "code",
   "execution_count": 19,
   "metadata": {
    "slideshow": {
     "slide_type": "slide"
    }
   },
   "outputs": [
    {
     "data": {
      "text/plain": [
       "beer_name\n",
       "Sierra Nevada Pale Ale                        1.654205\n",
       "Allagash White                                1.634784\n",
       "120 Minute IPA                                1.583966\n",
       "HopDevil Ale                                  1.224217\n",
       "Sierra Nevada Celebration Ale                 1.215156\n",
       "90 Minute IPA                                 1.208359\n",
       "60 Minute IPA                                 1.198874\n",
       "Stone Ruination IPA                           1.194210\n",
       "Stone IPA (India Pale Ale)                    1.193193\n",
       "Storm King Stout                              1.192405\n",
       "Arrogant Bastard Ale                          1.189981\n",
       "Sierra Nevada Bigfoot Barleywine Style Ale    1.178245\n",
       "Prima Pils                                    1.178093\n",
       "Brooklyn Black Chocolate Stout                1.156365\n",
       "Ayinger Celebrator Doppelbock                 1.148356\n",
       "Hennepin (Farmhouse Saison)                   1.147501\n",
       "Samuel Adams Boston Lager                     1.146304\n",
       "Hop Rod Rye                                   1.140271\n",
       "Old Rasputin Russian Imperial Stout           1.136691\n",
       "La Fin Du Monde                               1.128933\n",
       "Hop Wallop                                    1.127292\n",
       "Double Bastard Ale                            1.123117\n",
       "Two Hearted Ale                               1.120865\n",
       "Stone Smoked Porter                           1.115290\n",
       "St. Bernardus Abt 12                          1.109141\n",
       "Schneider Aventinus                           1.106357\n",
       "India Pale Ale                                1.104981\n",
       "Stone Imperial Russian Stout                  1.102951\n",
       "Anchor Steam Beer                             1.101660\n",
       "Duvel                                         1.099554\n",
       "                                                ...   \n",
       "Samuel Adams Cherry Wheat                     0.813352\n",
       "Sculpin India Pale Ale                        0.803009\n",
       "Blind Pig IPA                                 0.796287\n",
       "Red Stripe Jamaican Lager                     0.793733\n",
       "Left Hand Milk Stout                          0.791853\n",
       "Creme Brulee (Imperial Milk Stout)            0.791077\n",
       "Black Butte Porter                            0.789189\n",
       "Boddingtons Pub Ale                           0.788361\n",
       "Imperial IPA                                  0.785819\n",
       "Dark Lord Imperial Stout                      0.782857\n",
       "Murphy's Irish Stout                          0.782647\n",
       "Founders Backwoods Bastard                    0.779792\n",
       "Founders Porter                               0.764203\n",
       "Pabst Blue Ribbon (PBR)                       0.760712\n",
       "Supplication                                  0.760145\n",
       "Budweiser                                     0.758390\n",
       "Furious                                       0.757417\n",
       "New Holland Dragon's Milk Oak Barrel Ale      0.756746\n",
       "Raging Bitch Belgian-Style IPA                0.752031\n",
       "Terrapin Coffee Oatmeal Imperial Stout        0.750240\n",
       "Hobgoblin                                     0.748117\n",
       "Shiner Bock                                   0.739454\n",
       "The Abyss                                     0.723008\n",
       "Miller Lite                                   0.716208\n",
       "Leinenkugel's Sunset Wheat                    0.710691\n",
       "Bud Light                                     0.710377\n",
       "Corona Extra                                  0.682882\n",
       "Miller High Life                              0.682360\n",
       "Coors Light                                   0.670167\n",
       "Vanilla Porter                                0.664363\n",
       "Length: 250, dtype: float64"
      ]
     },
     "execution_count": 19,
     "metadata": {},
     "output_type": "execute_result"
    }
   ],
   "source": [
    "beers_summed = beers_summed.sort_values(ascending=False)\n",
    "beers_summed"
   ]
  },
  {
   "cell_type": "markdown",
   "metadata": {
    "slideshow": {
     "slide_type": "slide"
    }
   },
   "source": [
    "Filter out the beers used as input using `isin()` and store this in `ranked_beers`, then transform this to a list using `tolist()`.  Print out the first 5 elements."
   ]
  },
  {
   "cell_type": "code",
   "execution_count": 20,
   "metadata": {
    "slideshow": {
     "slide_type": "slide"
    }
   },
   "outputs": [
    {
     "data": {
      "text/plain": [
       "['HopDevil Ale',\n",
       " 'Sierra Nevada Celebration Ale',\n",
       " '90 Minute IPA',\n",
       " '60 Minute IPA',\n",
       " 'Stone Ruination IPA']"
      ]
     },
     "execution_count": 20,
     "metadata": {},
     "output_type": "execute_result"
    }
   ],
   "source": [
    "ranked_beers = beers_summed.index[beers_summed.index.isin(beers_i_like)==False]\n",
    "ranked_beers = ranked_beers.tolist()\n",
    "ranked_beers[:5]"
   ]
  },
  {
   "cell_type": "markdown",
   "metadata": {
    "slideshow": {
     "slide_type": "slide"
    }
   },
   "source": [
    "Define a function that does what we just did for an arbitrary input list of beers. it should also receive the maximum number of beers requested n as optional parameter."
   ]
  },
  {
   "cell_type": "code",
   "execution_count": 21,
   "metadata": {
    "collapsed": true,
    "slideshow": {
     "slide_type": "slide"
    }
   },
   "outputs": [],
   "source": [
    "def get_similar(beers, n=None):\n",
    "    \"\"\"\n",
    "    calculates which beers are most similar to the beers provided. Does not return\n",
    "    the beers that were provided\n",
    "    \n",
    "    Parameters\n",
    "    ----------\n",
    "    beers: list\n",
    "        some beers!\n",
    "    \n",
    "    Returns\n",
    "    -------\n",
    "    ranked_beers: list\n",
    "        rank ordered beers\n",
    "    \"\"\"\n",
    "    beers = [beer for beer in beers if beer in dists.columns]\n",
    "    beers_summed = dists[beers].apply(lambda row: np.sum(row), axis=1).sort_values(ascending=False)\n",
    "    ranked_beers = beers_summed.index[beers_summed.index.isin(beers)==False]\n",
    "    ranked_beers = ranked_beers.tolist()\n",
    "    if n is None:\n",
    "        return ranked_beers\n",
    "    else:\n",
    "        return ranked_beers[:n]"
   ]
  },
  {
   "cell_type": "markdown",
   "metadata": {
    "slideshow": {
     "slide_type": "slide"
    }
   },
   "source": [
    "Test your function. Find the 10 beers most similar to \"Corona Extra\""
   ]
  },
  {
   "cell_type": "code",
   "execution_count": 22,
   "metadata": {
    "slideshow": {
     "slide_type": "slide"
    }
   },
   "outputs": [
    {
     "name": "stdout",
     "output_type": "stream",
     "text": [
      "Heineken Lager Beer\n",
      "Budweiser\n",
      "Bud Light\n",
      "Coors Light\n",
      "Stella Artois\n",
      "Samuel Adams Boston Lager\n",
      "Red Stripe Jamaican Lager\n",
      "Blue Moon Belgian White\n",
      "Guinness Draught\n",
      "Bass Pale Ale\n"
     ]
    }
   ],
   "source": [
    "for beer in get_similar([\"Corona Extra\"], 10):\n",
    "    print(beer)"
   ]
  },
  {
   "cell_type": "markdown",
   "metadata": {
    "slideshow": {
     "slide_type": "slide"
    }
   },
   "source": [
    "Cool, let's try again with the 10 beers most similar to [\"Coors Light\", \"Bud Light\", \"Amstel Light\"]"
   ]
  },
  {
   "cell_type": "code",
   "execution_count": 23,
   "metadata": {},
   "outputs": [
    {
     "name": "stdout",
     "output_type": "stream",
     "text": [
      "1) Miller Lite\n",
      "2) Budweiser\n",
      "3) Corona Extra\n",
      "4) Samuel Adams Boston Lager\n",
      "5) Heineken Lager Beer\n",
      "6) Blue Moon Belgian White\n",
      "7) Guinness Draught\n",
      "8) Miller High Life\n",
      "9) Samuel Adams Summer Ale\n",
      "10) Sierra Nevada Pale Ale\n"
     ]
    }
   ],
   "source": [
    "for i, beer in enumerate(get_similar([\"Coors Light\", \"Bud Light\", \"Amstel Light\"], 10)):\n",
    "    print(\"%d) %s\" % (i+1, beer))"
   ]
  },
  {
   "cell_type": "markdown",
   "metadata": {
    "slideshow": {
     "slide_type": "slide"
    }
   },
   "source": [
    "## Movie Recommendations\n",
    "We'll make movie recommendations from the [movielens dataset](http://grouplens.org/datasets/movielens/).  "
   ]
  },
  {
   "cell_type": "markdown",
   "metadata": {
    "slideshow": {
     "slide_type": "slide"
    }
   },
   "source": [
    "### Get the Data\n",
    "Download the movielens dataset [here](http://files.grouplens.org/datasets/movielens/ml-latest-small.zip) "
   ]
  },
  {
   "cell_type": "markdown",
   "metadata": {
    "slideshow": {
     "slide_type": "slide"
    }
   },
   "source": [
    "Let's look at the files, you can do this however you like."
   ]
  },
  {
   "cell_type": "code",
   "execution_count": null,
   "metadata": {
    "collapsed": true,
    "slideshow": {
     "slide_type": "slide"
    }
   },
   "outputs": [],
   "source": [
    "# ! unzip ml-latest-small.zip"
   ]
  },
  {
   "cell_type": "markdown",
   "metadata": {
    "slideshow": {
     "slide_type": "slide"
    }
   },
   "source": [
    "Read in the movies.csv data into a variable `movies` by using `pd.read_csv` "
   ]
  },
  {
   "cell_type": "code",
   "execution_count": 25,
   "metadata": {
    "collapsed": true,
    "slideshow": {
     "slide_type": "slide"
    }
   },
   "outputs": [],
   "source": [
    "movies = pd.read_csv('/Users/robertomac/Downloads/ml-latest-small/movies.csv', index_col= 'movieId')"
   ]
  },
  {
   "cell_type": "markdown",
   "metadata": {
    "slideshow": {
     "slide_type": "slide"
    }
   },
   "source": [
    "### Explore the Data\n",
    "Take a look at the movies data with `head()`."
   ]
  },
  {
   "cell_type": "code",
   "execution_count": 26,
   "metadata": {
    "slideshow": {
     "slide_type": "slide"
    }
   },
   "outputs": [
    {
     "data": {
      "text/html": [
       "<div>\n",
       "<style>\n",
       "    .dataframe thead tr:only-child th {\n",
       "        text-align: right;\n",
       "    }\n",
       "\n",
       "    .dataframe thead th {\n",
       "        text-align: left;\n",
       "    }\n",
       "\n",
       "    .dataframe tbody tr th {\n",
       "        vertical-align: top;\n",
       "    }\n",
       "</style>\n",
       "<table border=\"1\" class=\"dataframe\">\n",
       "  <thead>\n",
       "    <tr style=\"text-align: right;\">\n",
       "      <th></th>\n",
       "      <th>title</th>\n",
       "      <th>genres</th>\n",
       "    </tr>\n",
       "    <tr>\n",
       "      <th>movieId</th>\n",
       "      <th></th>\n",
       "      <th></th>\n",
       "    </tr>\n",
       "  </thead>\n",
       "  <tbody>\n",
       "    <tr>\n",
       "      <th>1</th>\n",
       "      <td>Toy Story (1995)</td>\n",
       "      <td>Adventure|Animation|Children|Comedy|Fantasy</td>\n",
       "    </tr>\n",
       "    <tr>\n",
       "      <th>2</th>\n",
       "      <td>Jumanji (1995)</td>\n",
       "      <td>Adventure|Children|Fantasy</td>\n",
       "    </tr>\n",
       "    <tr>\n",
       "      <th>3</th>\n",
       "      <td>Grumpier Old Men (1995)</td>\n",
       "      <td>Comedy|Romance</td>\n",
       "    </tr>\n",
       "    <tr>\n",
       "      <th>4</th>\n",
       "      <td>Waiting to Exhale (1995)</td>\n",
       "      <td>Comedy|Drama|Romance</td>\n",
       "    </tr>\n",
       "    <tr>\n",
       "      <th>5</th>\n",
       "      <td>Father of the Bride Part II (1995)</td>\n",
       "      <td>Comedy</td>\n",
       "    </tr>\n",
       "  </tbody>\n",
       "</table>\n",
       "</div>"
      ],
      "text/plain": [
       "                                      title  \\\n",
       "movieId                                       \n",
       "1                          Toy Story (1995)   \n",
       "2                            Jumanji (1995)   \n",
       "3                   Grumpier Old Men (1995)   \n",
       "4                  Waiting to Exhale (1995)   \n",
       "5        Father of the Bride Part II (1995)   \n",
       "\n",
       "                                              genres  \n",
       "movieId                                               \n",
       "1        Adventure|Animation|Children|Comedy|Fantasy  \n",
       "2                         Adventure|Children|Fantasy  \n",
       "3                                     Comedy|Romance  \n",
       "4                               Comedy|Drama|Romance  \n",
       "5                                             Comedy  "
      ]
     },
     "execution_count": 26,
     "metadata": {},
     "output_type": "execute_result"
    }
   ],
   "source": [
    "movies.head()"
   ]
  },
  {
   "cell_type": "markdown",
   "metadata": {
    "slideshow": {
     "slide_type": "slide"
    }
   },
   "source": [
    "Load the ratings.csv data into a `ratings` dataframe."
   ]
  },
  {
   "cell_type": "code",
   "execution_count": 27,
   "metadata": {
    "collapsed": true,
    "slideshow": {
     "slide_type": "slide"
    }
   },
   "outputs": [],
   "source": [
    "ratings = pd.read_csv('/Users/robertomac/Downloads/ml-latest-small/ratings.csv')"
   ]
  },
  {
   "cell_type": "code",
   "execution_count": 28,
   "metadata": {},
   "outputs": [
    {
     "data": {
      "text/plain": [
       "(100004, 4)"
      ]
     },
     "execution_count": 28,
     "metadata": {},
     "output_type": "execute_result"
    }
   ],
   "source": [
    "ratings.shape"
   ]
  },
  {
   "cell_type": "code",
   "execution_count": 29,
   "metadata": {
    "slideshow": {
     "slide_type": "slide"
    }
   },
   "outputs": [
    {
     "data": {
      "text/html": [
       "<div>\n",
       "<style>\n",
       "    .dataframe thead tr:only-child th {\n",
       "        text-align: right;\n",
       "    }\n",
       "\n",
       "    .dataframe thead th {\n",
       "        text-align: left;\n",
       "    }\n",
       "\n",
       "    .dataframe tbody tr th {\n",
       "        vertical-align: top;\n",
       "    }\n",
       "</style>\n",
       "<table border=\"1\" class=\"dataframe\">\n",
       "  <thead>\n",
       "    <tr style=\"text-align: right;\">\n",
       "      <th></th>\n",
       "      <th>userId</th>\n",
       "      <th>movieId</th>\n",
       "      <th>rating</th>\n",
       "      <th>timestamp</th>\n",
       "    </tr>\n",
       "  </thead>\n",
       "  <tbody>\n",
       "    <tr>\n",
       "      <th>0</th>\n",
       "      <td>1</td>\n",
       "      <td>31</td>\n",
       "      <td>2.5</td>\n",
       "      <td>1260759144</td>\n",
       "    </tr>\n",
       "    <tr>\n",
       "      <th>1</th>\n",
       "      <td>1</td>\n",
       "      <td>1029</td>\n",
       "      <td>3.0</td>\n",
       "      <td>1260759179</td>\n",
       "    </tr>\n",
       "    <tr>\n",
       "      <th>2</th>\n",
       "      <td>1</td>\n",
       "      <td>1061</td>\n",
       "      <td>3.0</td>\n",
       "      <td>1260759182</td>\n",
       "    </tr>\n",
       "    <tr>\n",
       "      <th>3</th>\n",
       "      <td>1</td>\n",
       "      <td>1129</td>\n",
       "      <td>2.0</td>\n",
       "      <td>1260759185</td>\n",
       "    </tr>\n",
       "    <tr>\n",
       "      <th>4</th>\n",
       "      <td>1</td>\n",
       "      <td>1172</td>\n",
       "      <td>4.0</td>\n",
       "      <td>1260759205</td>\n",
       "    </tr>\n",
       "  </tbody>\n",
       "</table>\n",
       "</div>"
      ],
      "text/plain": [
       "   userId  movieId  rating   timestamp\n",
       "0       1       31     2.5  1260759144\n",
       "1       1     1029     3.0  1260759179\n",
       "2       1     1061     3.0  1260759182\n",
       "3       1     1129     2.0  1260759185\n",
       "4       1     1172     4.0  1260759205"
      ]
     },
     "execution_count": 29,
     "metadata": {},
     "output_type": "execute_result"
    }
   ],
   "source": [
    "ratings.head()"
   ]
  },
  {
   "cell_type": "code",
   "execution_count": 30,
   "metadata": {},
   "outputs": [
    {
     "name": "stdout",
     "output_type": "stream",
     "text": [
      "Number of Users:\n",
      "671\n",
      "Number of Movies:\n",
      "9066\n",
      "Number of Reviews:\n",
      "100004\n"
     ]
    }
   ],
   "source": [
    "print('Number of Users:')\n",
    "print((ratings.groupby(['userId']).count()).shape[0])\n",
    "print('Number of Movies:')\n",
    "print((ratings.groupby(['movieId']).count()).shape[0])\n",
    "print('Number of Reviews:')\n",
    "print(ratings.shape[0])"
   ]
  },
  {
   "cell_type": "code",
   "execution_count": 31,
   "metadata": {},
   "outputs": [
    {
     "data": {
      "text/plain": [
       "rating\n",
       "0.5     1101\n",
       "1.0     3326\n",
       "1.5     1687\n",
       "2.0     7271\n",
       "2.5     4449\n",
       "3.0    20064\n",
       "3.5    10538\n",
       "4.0    28750\n",
       "4.5     7723\n",
       "5.0    15095\n",
       "Name: userId, dtype: int64"
      ]
     },
     "execution_count": 31,
     "metadata": {},
     "output_type": "execute_result"
    }
   ],
   "source": [
    "ratings.groupby(['rating'])['userId'].count()"
   ]
  },
  {
   "cell_type": "code",
   "execution_count": 32,
   "metadata": {},
   "outputs": [
    {
     "data": {
      "text/html": [
       "<div>\n",
       "<style>\n",
       "    .dataframe thead tr:only-child th {\n",
       "        text-align: right;\n",
       "    }\n",
       "\n",
       "    .dataframe thead th {\n",
       "        text-align: left;\n",
       "    }\n",
       "\n",
       "    .dataframe tbody tr th {\n",
       "        vertical-align: top;\n",
       "    }\n",
       "</style>\n",
       "<table border=\"1\" class=\"dataframe\">\n",
       "  <thead>\n",
       "    <tr style=\"text-align: right;\">\n",
       "      <th>movieId</th>\n",
       "      <th>1</th>\n",
       "      <th>2</th>\n",
       "      <th>3</th>\n",
       "      <th>4</th>\n",
       "      <th>5</th>\n",
       "      <th>6</th>\n",
       "      <th>7</th>\n",
       "      <th>8</th>\n",
       "      <th>9</th>\n",
       "      <th>10</th>\n",
       "      <th>...</th>\n",
       "      <th>161084</th>\n",
       "      <th>161155</th>\n",
       "      <th>161594</th>\n",
       "      <th>161830</th>\n",
       "      <th>161918</th>\n",
       "      <th>161944</th>\n",
       "      <th>162376</th>\n",
       "      <th>162542</th>\n",
       "      <th>162672</th>\n",
       "      <th>163949</th>\n",
       "    </tr>\n",
       "    <tr>\n",
       "      <th>userId</th>\n",
       "      <th></th>\n",
       "      <th></th>\n",
       "      <th></th>\n",
       "      <th></th>\n",
       "      <th></th>\n",
       "      <th></th>\n",
       "      <th></th>\n",
       "      <th></th>\n",
       "      <th></th>\n",
       "      <th></th>\n",
       "      <th></th>\n",
       "      <th></th>\n",
       "      <th></th>\n",
       "      <th></th>\n",
       "      <th></th>\n",
       "      <th></th>\n",
       "      <th></th>\n",
       "      <th></th>\n",
       "      <th></th>\n",
       "      <th></th>\n",
       "      <th></th>\n",
       "    </tr>\n",
       "  </thead>\n",
       "  <tbody>\n",
       "    <tr>\n",
       "      <th>1</th>\n",
       "      <td>0.0</td>\n",
       "      <td>0.0</td>\n",
       "      <td>0.0</td>\n",
       "      <td>0.0</td>\n",
       "      <td>0.0</td>\n",
       "      <td>0.0</td>\n",
       "      <td>0.0</td>\n",
       "      <td>0.0</td>\n",
       "      <td>0.0</td>\n",
       "      <td>0.0</td>\n",
       "      <td>...</td>\n",
       "      <td>0.0</td>\n",
       "      <td>0.0</td>\n",
       "      <td>0.0</td>\n",
       "      <td>0.0</td>\n",
       "      <td>0.0</td>\n",
       "      <td>0.0</td>\n",
       "      <td>0.0</td>\n",
       "      <td>0.0</td>\n",
       "      <td>0.0</td>\n",
       "      <td>0.0</td>\n",
       "    </tr>\n",
       "    <tr>\n",
       "      <th>2</th>\n",
       "      <td>0.0</td>\n",
       "      <td>0.0</td>\n",
       "      <td>0.0</td>\n",
       "      <td>0.0</td>\n",
       "      <td>0.0</td>\n",
       "      <td>0.0</td>\n",
       "      <td>0.0</td>\n",
       "      <td>0.0</td>\n",
       "      <td>0.0</td>\n",
       "      <td>4.0</td>\n",
       "      <td>...</td>\n",
       "      <td>0.0</td>\n",
       "      <td>0.0</td>\n",
       "      <td>0.0</td>\n",
       "      <td>0.0</td>\n",
       "      <td>0.0</td>\n",
       "      <td>0.0</td>\n",
       "      <td>0.0</td>\n",
       "      <td>0.0</td>\n",
       "      <td>0.0</td>\n",
       "      <td>0.0</td>\n",
       "    </tr>\n",
       "    <tr>\n",
       "      <th>3</th>\n",
       "      <td>0.0</td>\n",
       "      <td>0.0</td>\n",
       "      <td>0.0</td>\n",
       "      <td>0.0</td>\n",
       "      <td>0.0</td>\n",
       "      <td>0.0</td>\n",
       "      <td>0.0</td>\n",
       "      <td>0.0</td>\n",
       "      <td>0.0</td>\n",
       "      <td>0.0</td>\n",
       "      <td>...</td>\n",
       "      <td>0.0</td>\n",
       "      <td>0.0</td>\n",
       "      <td>0.0</td>\n",
       "      <td>0.0</td>\n",
       "      <td>0.0</td>\n",
       "      <td>0.0</td>\n",
       "      <td>0.0</td>\n",
       "      <td>0.0</td>\n",
       "      <td>0.0</td>\n",
       "      <td>0.0</td>\n",
       "    </tr>\n",
       "    <tr>\n",
       "      <th>4</th>\n",
       "      <td>0.0</td>\n",
       "      <td>0.0</td>\n",
       "      <td>0.0</td>\n",
       "      <td>0.0</td>\n",
       "      <td>0.0</td>\n",
       "      <td>0.0</td>\n",
       "      <td>0.0</td>\n",
       "      <td>0.0</td>\n",
       "      <td>0.0</td>\n",
       "      <td>4.0</td>\n",
       "      <td>...</td>\n",
       "      <td>0.0</td>\n",
       "      <td>0.0</td>\n",
       "      <td>0.0</td>\n",
       "      <td>0.0</td>\n",
       "      <td>0.0</td>\n",
       "      <td>0.0</td>\n",
       "      <td>0.0</td>\n",
       "      <td>0.0</td>\n",
       "      <td>0.0</td>\n",
       "      <td>0.0</td>\n",
       "    </tr>\n",
       "    <tr>\n",
       "      <th>5</th>\n",
       "      <td>0.0</td>\n",
       "      <td>0.0</td>\n",
       "      <td>4.0</td>\n",
       "      <td>0.0</td>\n",
       "      <td>0.0</td>\n",
       "      <td>0.0</td>\n",
       "      <td>0.0</td>\n",
       "      <td>0.0</td>\n",
       "      <td>0.0</td>\n",
       "      <td>0.0</td>\n",
       "      <td>...</td>\n",
       "      <td>0.0</td>\n",
       "      <td>0.0</td>\n",
       "      <td>0.0</td>\n",
       "      <td>0.0</td>\n",
       "      <td>0.0</td>\n",
       "      <td>0.0</td>\n",
       "      <td>0.0</td>\n",
       "      <td>0.0</td>\n",
       "      <td>0.0</td>\n",
       "      <td>0.0</td>\n",
       "    </tr>\n",
       "  </tbody>\n",
       "</table>\n",
       "<p>5 rows × 9066 columns</p>\n",
       "</div>"
      ],
      "text/plain": [
       "movieId  1       2       3       4       5       6       7       8       \\\n",
       "userId                                                                    \n",
       "1           0.0     0.0     0.0     0.0     0.0     0.0     0.0     0.0   \n",
       "2           0.0     0.0     0.0     0.0     0.0     0.0     0.0     0.0   \n",
       "3           0.0     0.0     0.0     0.0     0.0     0.0     0.0     0.0   \n",
       "4           0.0     0.0     0.0     0.0     0.0     0.0     0.0     0.0   \n",
       "5           0.0     0.0     4.0     0.0     0.0     0.0     0.0     0.0   \n",
       "\n",
       "movieId  9       10       ...    161084  161155  161594  161830  161918  \\\n",
       "userId                    ...                                             \n",
       "1           0.0     0.0   ...       0.0     0.0     0.0     0.0     0.0   \n",
       "2           0.0     4.0   ...       0.0     0.0     0.0     0.0     0.0   \n",
       "3           0.0     0.0   ...       0.0     0.0     0.0     0.0     0.0   \n",
       "4           0.0     4.0   ...       0.0     0.0     0.0     0.0     0.0   \n",
       "5           0.0     0.0   ...       0.0     0.0     0.0     0.0     0.0   \n",
       "\n",
       "movieId  161944  162376  162542  162672  163949  \n",
       "userId                                           \n",
       "1           0.0     0.0     0.0     0.0     0.0  \n",
       "2           0.0     0.0     0.0     0.0     0.0  \n",
       "3           0.0     0.0     0.0     0.0     0.0  \n",
       "4           0.0     0.0     0.0     0.0     0.0  \n",
       "5           0.0     0.0     0.0     0.0     0.0  \n",
       "\n",
       "[5 rows x 9066 columns]"
      ]
     },
     "execution_count": 32,
     "metadata": {},
     "output_type": "execute_result"
    }
   ],
   "source": [
    "ratings_pivot = pd.pivot_table(ratings, index='userId', columns='movieId', values='rating', aggfunc=np.mean)\n",
    "ratings_pivot = ratings_pivot.fillna(0) # Replace NA's with 0\n",
    "ratings_pivot.head()"
   ]
  },
  {
   "cell_type": "code",
   "execution_count": null,
   "metadata": {},
   "outputs": [],
   "source": [
    "ratings_pivot.shape"
   ]
  },
  {
   "cell_type": "markdown",
   "metadata": {
    "slideshow": {
     "slide_type": "slide"
    }
   },
   "source": [
    "Compute SVD.  \n",
    "\n",
    "$M=U \\Sigma V^T$"
   ]
  },
  {
   "cell_type": "code",
   "execution_count": 33,
   "metadata": {
    "collapsed": true,
    "slideshow": {
     "slide_type": "slide"
    }
   },
   "outputs": [],
   "source": [
    "from sklearn.decomposition import TruncatedSVD\n",
    "svd = TruncatedSVD(n_components=100)\n",
    "svd_out = svd.fit_transform(ratings_pivot)"
   ]
  },
  {
   "cell_type": "code",
   "execution_count": 5,
   "metadata": {
    "ExecuteTime": {
     "end_time": "2018-08-21T16:09:47.153949Z",
     "start_time": "2018-08-21T16:09:46.611886Z"
    }
   },
   "outputs": [
    {
     "ename": "NameError",
     "evalue": "name 'svd' is not defined",
     "output_type": "error",
     "traceback": [
      "\u001b[0;31m---------------------------------------------------------------------------\u001b[0m",
      "\u001b[0;31mNameError\u001b[0m                                 Traceback (most recent call last)",
      "\u001b[0;32m<ipython-input-5-89826bbdf3d1>\u001b[0m in \u001b[0;36m<module>\u001b[0;34m()\u001b[0m\n\u001b[1;32m      1\u001b[0m \u001b[0;32mimport\u001b[0m \u001b[0mmatplotlib\u001b[0m\u001b[0;34m.\u001b[0m\u001b[0mpylab\u001b[0m \u001b[0;32mas\u001b[0m \u001b[0mplt\u001b[0m\u001b[0;34m\u001b[0m\u001b[0m\n\u001b[1;32m      2\u001b[0m \u001b[0mget_ipython\u001b[0m\u001b[0;34m(\u001b[0m\u001b[0;34m)\u001b[0m\u001b[0;34m.\u001b[0m\u001b[0mrun_line_magic\u001b[0m\u001b[0;34m(\u001b[0m\u001b[0;34m'matplotlib'\u001b[0m\u001b[0;34m,\u001b[0m \u001b[0;34m'inline'\u001b[0m\u001b[0;34m)\u001b[0m\u001b[0;34m\u001b[0m\u001b[0m\n\u001b[0;32m----> 3\u001b[0;31m \u001b[0mplt\u001b[0m\u001b[0;34m.\u001b[0m\u001b[0mplot\u001b[0m\u001b[0;34m(\u001b[0m\u001b[0msvd\u001b[0m\u001b[0;34m.\u001b[0m\u001b[0mexplained_variance_ratio_\u001b[0m\u001b[0;34m)\u001b[0m\u001b[0;34m\u001b[0m\u001b[0m\n\u001b[0m\u001b[1;32m      4\u001b[0m \u001b[0mplt\u001b[0m\u001b[0;34m.\u001b[0m\u001b[0mtitle\u001b[0m\u001b[0;34m(\u001b[0m\u001b[0;34m'fraction of explained variance vs number of singular values'\u001b[0m\u001b[0;34m)\u001b[0m\u001b[0;34m;\u001b[0m\u001b[0;34m\u001b[0m\u001b[0m\n",
      "\u001b[0;31mNameError\u001b[0m: name 'svd' is not defined"
     ]
    }
   ],
   "source": [
    "import matplotlib.pylab as plt\n",
    "%matplotlib inline\n",
    "plt.plot(svd.explained_variance_ratio_)\n",
    "plt.title('fraction of explained variance vs number of singular values');"
   ]
  },
  {
   "cell_type": "code",
   "execution_count": 35,
   "metadata": {},
   "outputs": [
    {
     "data": {
      "image/png": "[encoded data removed]",
      "text/plain": [
       "<matplotlib.figure.Figure at 0x117f43c88>"
      ]
     },
     "metadata": {},
     "output_type": "display_data"
    }
   ],
   "source": [
    "import matplotlib.pylab as plt\n",
    "%matplotlib inline\n",
    "plt.plot(np.cumsum(svd.explained_variance_ratio_))\n",
    "plt.title('Cummulated fraction of explained variance vs number of singular values');"
   ]
  },
  {
   "cell_type": "code",
   "execution_count": 36,
   "metadata": {},
   "outputs": [
    {
     "name": "stdout",
     "output_type": "stream",
     "text": [
      "(100, 9066)\n",
      "(671, 100)\n"
     ]
    }
   ],
   "source": [
    "print(svd.components_.shape)\n",
    "print(svd_out.shape)"
   ]
  },
  {
   "cell_type": "markdown",
   "metadata": {},
   "source": [
    "### Computing Similarities and Making Recommendations\n",
    "Let's compute similarity between two movies, first we need to use the movies table to get the itemid that will be used with the ratings data that generated our svd.\n",
    "\n",
    "Determine the movie ids of \"Toy Story (1995)\" and \"Bug's Life, A (1998)\"."
   ]
  },
  {
   "cell_type": "code",
   "execution_count": 37,
   "metadata": {},
   "outputs": [
    {
     "data": {
      "text/html": [
       "<div>\n",
       "<style>\n",
       "    .dataframe thead tr:only-child th {\n",
       "        text-align: right;\n",
       "    }\n",
       "\n",
       "    .dataframe thead th {\n",
       "        text-align: left;\n",
       "    }\n",
       "\n",
       "    .dataframe tbody tr th {\n",
       "        vertical-align: top;\n",
       "    }\n",
       "</style>\n",
       "<table border=\"1\" class=\"dataframe\">\n",
       "  <thead>\n",
       "    <tr style=\"text-align: right;\">\n",
       "      <th></th>\n",
       "      <th>title</th>\n",
       "      <th>genres</th>\n",
       "    </tr>\n",
       "    <tr>\n",
       "      <th>movieId</th>\n",
       "      <th></th>\n",
       "      <th></th>\n",
       "    </tr>\n",
       "  </thead>\n",
       "  <tbody>\n",
       "    <tr>\n",
       "      <th>1</th>\n",
       "      <td>Toy Story (1995)</td>\n",
       "      <td>Adventure|Animation|Children|Comedy|Fantasy</td>\n",
       "    </tr>\n",
       "  </tbody>\n",
       "</table>\n",
       "</div>"
      ],
      "text/plain": [
       "                    title                                       genres\n",
       "movieId                                                               \n",
       "1        Toy Story (1995)  Adventure|Animation|Children|Comedy|Fantasy"
      ]
     },
     "execution_count": 37,
     "metadata": {},
     "output_type": "execute_result"
    }
   ],
   "source": [
    "movies[movies.title == \"Toy Story (1995)\"]"
   ]
  },
  {
   "cell_type": "code",
   "execution_count": 38,
   "metadata": {
    "collapsed": true
   },
   "outputs": [],
   "source": [
    "# Item Similarity\n",
    "# original similarity\n",
    "def item_similarity(movieId1, movieId2):\n",
    "    return cosine_similarity(ratings_pivot.loc[:,movieId1].values.reshape(1,-1),ratings_pivot.loc[:,movieId2].values.reshape(1,-1))\n",
    "\n",
    "# transformed similarity\n",
    "components = pd.DataFrame(svd.components_, columns=ratings_pivot.columns)\n",
    "def item_similarity_new(movieId1, movieId2):\n",
    "    return cosine_similarity(components.loc[:,movieId1].values.reshape(1,-1),components.loc[:,movieId2].values.reshape(1,-1))\n",
    "\n"
   ]
  },
  {
   "cell_type": "code",
   "execution_count": 39,
   "metadata": {},
   "outputs": [
    {
     "data": {
      "image/png": "[encoded data removed]",
      "text/plain": [
       "<matplotlib.figure.Figure at 0x1180a47f0>"
      ]
     },
     "metadata": {},
     "output_type": "display_data"
    }
   ],
   "source": [
    "# plot transformed similarity vs original similarity for a few movie pairs\n",
    "item_sim=[]\n",
    "item_sim_new=[]\n",
    "for i in range(100,9001,100):\n",
    "    for j in range(100,i,100):\n",
    "        r1 = item_similarity(ratings_pivot.columns[i], ratings_pivot.columns[j])\n",
    "        r2 = item_similarity_new(ratings_pivot.columns[i], ratings_pivot.columns[j])\n",
    "        item_sim.append(r1)\n",
    "        item_sim_new.append(r2)\n",
    "        \n",
    "plt.scatter(x=item_sim, y=item_sim_new, alpha=0.2)\n",
    "plt.title('item_similarity transformed vs original for a subset of items');"
   ]
  },
  {
   "cell_type": "code",
   "execution_count": 40,
   "metadata": {},
   "outputs": [
    {
     "name": "stdout",
     "output_type": "stream",
     "text": [
      "0.0305035317069\n",
      "0.183873453785\n"
     ]
    }
   ],
   "source": [
    "# User similarity\n",
    "def user_similarity(userId1, userId2):\n",
    "    return cosine_similarity(ratings_pivot.loc[userId1,:].values.reshape(1,-1),ratings_pivot.loc[userId2,:].values.reshape(1,-1))\n",
    "\n",
    "def user_similarity_new(userId1, userId2):\n",
    "    return cosine_similarity(svd_out[userId1,:].reshape(1,-1),svd_out[userId2,:].reshape(1,-1))\n",
    "\n",
    "print(user_similarity(10,200)[0][0])\n",
    "print(user_similarity_new(10,200)[0][0])\n"
   ]
  },
  {
   "cell_type": "code",
   "execution_count": 41,
   "metadata": {},
   "outputs": [
    {
     "data": {
      "text/plain": [
       "<matplotlib.text.Text at 0x118355630>"
      ]
     },
     "execution_count": 41,
     "metadata": {},
     "output_type": "execute_result"
    },
    {
     "data": {
      "image/png": "[encoded data removed]",
      "text/plain": [
       "<matplotlib.figure.Figure at 0x118241160>"
      ]
     },
     "metadata": {},
     "output_type": "display_data"
    }
   ],
   "source": [
    "# Plot transformed similarity vs original similarity for some pairs of users\n",
    "user_sim=[]\n",
    "user_sim_new=[]\n",
    "for i in range(1,600,10):\n",
    "    for j in range(1,i,10):\n",
    "        r1 = user_similarity(i, j)\n",
    "        r2 = user_similarity_new(i, j)\n",
    "        user_sim.append(r1)\n",
    "        user_sim_new.append(r2)\n",
    "        \n",
    "plt.scatter(x=user_sim, y=user_sim_new, alpha=0.2)\n",
    "plt.title('user_similarity transformed vs user similarity for a subset of users')"
   ]
  },
  {
   "cell_type": "code",
   "execution_count": 42,
   "metadata": {
    "collapsed": true
   },
   "outputs": [],
   "source": [
    "def get_similar_movies(movieId, n=5, sim=item_similarity):\n",
    "    item_sims = []\n",
    "    for m in ratings_pivot.columns:\n",
    "        if movieId != m:\n",
    "            item_sims.append((m, sim(movieId,m)[0,0]))\n",
    "    res = sorted(item_sims, key=lambda x: -x[1])[:n]\n",
    "    return list(map(lambda x: (movies.title[x[0]], np.round(x[1],3)), res))"
   ]
  },
  {
   "cell_type": "code",
   "execution_count": 43,
   "metadata": {
    "collapsed": true
   },
   "outputs": [],
   "source": [
    "def get_likes(title):\n",
    "    id = movies[movies.title == title].index[0]\n",
    "    s1 = get_similar_movies(id, n=10)\n",
    "    s2 = get_similar_movies(id, sim=item_similarity_new, n=10)\n",
    "\n",
    "    print(\"Titles most similar to {:s}\".format(title))\n",
    "    print (\"{:56.56s} {:56.56s}\".format(\n",
    "        'Original NN: title                           similarity',\n",
    "        'Transformed NN:  title                       similarity'))\n",
    "    for t1,t2 in zip(s1,s2):\n",
    "        print (\"{:50.50s} {:.3f} {:50.50s} {:.3f}\".format(*t1,*t2))"
   ]
  },
  {
   "cell_type": "code",
   "execution_count": 44,
   "metadata": {},
   "outputs": [
    {
     "name": "stdout",
     "output_type": "stream",
     "text": [
      "Titles most similar to Toy Story (1995)\n",
      "Original NN: title                           similarity  Transformed NN:  title                       similarity \n",
      "Toy Story 2 (1999)                                 0.595 Toy Story 2 (1999)                                 0.497\n",
      "Star Wars: Episode IV - A New Hope (1977)          0.576 Bug's Life, A (1998)                               0.409\n",
      "Forrest Gump (1994)                                0.565 Monsters, Inc. (2001)                              0.408\n",
      "Independence Day (a.k.a. ID4) (1996)               0.563 Shrek the Halls (2007)                             0.393\n",
      "Groundhog Day (1993)                               0.548 Riding Giants (2004)                               0.382\n",
      "Back to the Future (1985)                          0.537 Women, The (2008)                                  0.340\n",
      "Jurassic Park (1993)                               0.535 Unfinished Life, An (2005)                         0.339\n",
      "Shrek (2001)                                       0.533 Left Behind: World at War (2005)                   0.329\n",
      "Star Wars: Episode VI - Return of the Jedi (1983)  0.529 Stay Alive (2006)                                  0.329\n",
      "Pulp Fiction (1994)                                0.527 Emperor's New Clothes, The (2001)                  0.329\n"
     ]
    }
   ],
   "source": [
    "get_likes(\"Toy Story (1995)\")"
   ]
  },
  {
   "cell_type": "code",
   "execution_count": 45,
   "metadata": {},
   "outputs": [
    {
     "name": "stdout",
     "output_type": "stream",
     "text": [
      "Titles most similar to Groundhog Day (1993)\n",
      "Original NN: title                           similarity  Transformed NN:  title                       similarity \n",
      "Back to the Future (1985)                          0.628 Journey, The (El viaje) (1992)                     0.445\n",
      "Ferris Bueller's Day Off (1986)                    0.589 When Harry Met Sally... (1989)                     0.319\n",
      "Big (1988)                                         0.587 Back to the Future Part II (1989)                  0.318\n",
      "Men in Black (a.k.a. MIB) (1997)                   0.586 Back to the Future (1985)                          0.317\n",
      "Ghostbusters (a.k.a. Ghost Busters) (1984)         0.585 Land and Freedom (Tierra y libertad) (1995)        0.297\n",
      "Princess Bride, The (1987)                         0.580 Back to the Future Part III (1990)                 0.297\n",
      "Airplane! (1980)                                   0.566 Butterfly Kiss (1995)                              0.296\n",
      "Raiders of the Lost Ark (Indiana Jones and the Rai 0.563 Toy Story 2 (1999)                                 0.293\n",
      "Forrest Gump (1994)                                0.556 Forgetting Sarah Marshall (2008)                   0.292\n",
      "Terminator, The (1984)                             0.553 Philadelphia Story, The (1940)                     0.276\n"
     ]
    }
   ],
   "source": [
    "get_likes('Groundhog Day (1993)')"
   ]
  },
  {
   "cell_type": "markdown",
   "metadata": {
    "slideshow": {
     "slide_type": "slide"
    }
   },
   "source": [
    "Which users should see Toy Story? (e.g. which users -that have not rated Toy Story- would give it a high rating?)"
   ]
  },
  {
   "cell_type": "code",
   "execution_count": 46,
   "metadata": {},
   "outputs": [
    {
     "data": {
      "text/plain": [
       "((671, 100), (100, 9066))"
      ]
     },
     "execution_count": 46,
     "metadata": {},
     "output_type": "execute_result"
    }
   ],
   "source": [
    "(svd_out.shape, components.shape)"
   ]
  },
  {
   "cell_type": "code",
   "execution_count": 47,
   "metadata": {
    "slideshow": {
     "slide_type": "slide"
    }
   },
   "outputs": [
    {
     "name": "stdout",
     "output_type": "stream",
     "text": [
      "        ts_ratings\n",
      "userId            \n",
      "1        -0.106282\n",
      "2        -0.013360\n",
      "3         1.331876\n",
      "4         0.561741\n",
      "5         1.505469\n"
     ]
    }
   ],
   "source": [
    "# gest the similarity between Toy Story and every user which gives the predicted rating\n",
    "ts_ratings_ = np.dot(svd_out, components.loc[:,1].values) # loc 1 is for ToyStory\n",
    "# converts numpy to a pandas data frame\n",
    "ts_ratings = pd.DataFrame(ts_ratings_, columns=['ts_ratings',],  index=ratings_pivot.index)\n",
    "print(ts_ratings.iloc[0:5])"
   ]
  },
  {
   "cell_type": "code",
   "execution_count": 48,
   "metadata": {},
   "outputs": [
    {
     "data": {
      "text/html": [
       "<div>\n",
       "<style>\n",
       "    .dataframe thead tr:only-child th {\n",
       "        text-align: right;\n",
       "    }\n",
       "\n",
       "    .dataframe thead th {\n",
       "        text-align: left;\n",
       "    }\n",
       "\n",
       "    .dataframe tbody tr th {\n",
       "        vertical-align: top;\n",
       "    }\n",
       "</style>\n",
       "<table border=\"1\" class=\"dataframe\">\n",
       "  <thead>\n",
       "    <tr style=\"text-align: right;\">\n",
       "      <th></th>\n",
       "      <th>ts_ratings</th>\n",
       "    </tr>\n",
       "    <tr>\n",
       "      <th>userId</th>\n",
       "      <th></th>\n",
       "    </tr>\n",
       "  </thead>\n",
       "  <tbody>\n",
       "    <tr>\n",
       "      <th>61</th>\n",
       "      <td>2.687120</td>\n",
       "    </tr>\n",
       "    <tr>\n",
       "      <th>271</th>\n",
       "      <td>2.388137</td>\n",
       "    </tr>\n",
       "    <tr>\n",
       "      <th>592</th>\n",
       "      <td>2.286284</td>\n",
       "    </tr>\n",
       "    <tr>\n",
       "      <th>295</th>\n",
       "      <td>2.221866</td>\n",
       "    </tr>\n",
       "    <tr>\n",
       "      <th>18</th>\n",
       "      <td>2.220766</td>\n",
       "    </tr>\n",
       "    <tr>\n",
       "      <th>640</th>\n",
       "      <td>2.206184</td>\n",
       "    </tr>\n",
       "    <tr>\n",
       "      <th>223</th>\n",
       "      <td>2.192858</td>\n",
       "    </tr>\n",
       "    <tr>\n",
       "      <th>42</th>\n",
       "      <td>2.176932</td>\n",
       "    </tr>\n",
       "    <tr>\n",
       "      <th>659</th>\n",
       "      <td>2.132402</td>\n",
       "    </tr>\n",
       "    <tr>\n",
       "      <th>602</th>\n",
       "      <td>2.078858</td>\n",
       "    </tr>\n",
       "  </tbody>\n",
       "</table>\n",
       "</div>"
      ],
      "text/plain": [
       "        ts_ratings\n",
       "userId            \n",
       "61        2.687120\n",
       "271       2.388137\n",
       "592       2.286284\n",
       "295       2.221866\n",
       "18        2.220766\n",
       "640       2.206184\n",
       "223       2.192858\n",
       "42        2.176932\n",
       "659       2.132402\n",
       "602       2.078858"
      ]
     },
     "execution_count": 48,
     "metadata": {},
     "output_type": "execute_result"
    }
   ],
   "source": [
    "# filters for users who have not rated the movie rating == 0\n",
    "ts_ratings[ratings_pivot.loc[:,1] == 0.0].sort_values(by='ts_ratings', ascending=False).head(10)"
   ]
  },
  {
   "cell_type": "code",
   "execution_count": null,
   "metadata": {
    "collapsed": true
   },
   "outputs": [],
   "source": []
  }
 ],
 "metadata": {
  "kernelspec": {
   "display_name": "Python [default]",
   "language": "python",
   "name": "python3"
  },
  "language_info": {
   "codemirror_mode": {
    "name": "ipython",
    "version": 3
   },
   "file_extension": ".py",
   "mimetype": "text/x-python",
   "name": "python",
   "nbconvert_exporter": "python",
   "pygments_lexer": "ipython3",
   "version": "3.6.6"
  },
  "toc": {
   "nav_menu": {},
   "number_sections": true,
   "sideBar": true,
   "skip_h1_title": false,
   "toc_cell": false,
   "toc_position": {},
   "toc_section_display": "block",
   "toc_window_display": false
  }
 },
 "nbformat": 4,
 "nbformat_minor": 1
}
