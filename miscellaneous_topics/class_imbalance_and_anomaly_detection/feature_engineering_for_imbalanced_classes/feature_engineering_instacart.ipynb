{
 "cells": [
  {
   "cell_type": "markdown",
   "metadata": {},
   "source": [
    "# Classification Setup & Feature Engineering With Instacart!\n",
    "\n",
    "The first goal of this notebook is to first show how we can take a bunch of raw, relational data and manipulate it into the format of a machine learning problem (binary classification). This is the sort of thing we'll often be given in a business setting - information that's been collected with no clear guidance about how we can frame this information as a predictive task in the $X$ features, $y$ target style.\n",
    "\n",
    "The second goal of this notebook is to expose you to feature engineering ideas and best practices. Knowing how to select models and tune hyperparameters is very important, but models can only be as good as the quality of the features that you provide to them. In practical machine learning, a huge amount of time is spent engineering and selecting features to add signal to the problem, and you can often get a lot more additional value from well-constructed features than from hyperparameter fine tuning. Hence it's very important to be able to apply domain knowledge, think extensively about what features should matter, and derive them to include in your model.    \n",
    "\n",
    "**The data for this notebook is a subset of the [kaggle instacart dataset](https://www.kaggle.com/c/instacart-market-basket-analysis/data)**: the files in the `instacart_data_subset` folder are all the same as the original except that the all the order data is drawn from a 5000 user subset for the sake of less memory and more speed.  "
   ]
  },
  {
   "cell_type": "markdown",
   "metadata": {},
   "source": [
    "### Workflow: \n",
    "\n",
    "1. **Problem setup and baselining**\n",
    "2. **Feature engineering to improve our model**\n",
    "3. **Feature engineering exercises and future ideas**"
   ]
  },
  {
   "cell_type": "markdown",
   "metadata": {},
   "source": [
    "## 1. Problem setup and baselining"
   ]
  },
  {
   "cell_type": "markdown",
   "metadata": {},
   "source": [
    "First let's get a quick feel for the data we're working with."
   ]
  },
  {
   "cell_type": "code",
   "execution_count": 1,
   "metadata": {},
   "outputs": [
    {
     "name": "stdout",
     "output_type": "stream",
     "text": [
      "Archive:  instacart_data_subset.zip\n",
      "   creating: instacart_data_subset/\n",
      "  inflating: instacart_data_subset/.DS_Store  \n",
      "   creating: __MACOSX/\n",
      "   creating: __MACOSX/instacart_data_subset/\n",
      "  inflating: __MACOSX/instacart_data_subset/._.DS_Store  \n",
      "  inflating: instacart_data_subset/aisles.csv  \n",
      "  inflating: __MACOSX/instacart_data_subset/._aisles.csv  \n",
      "  inflating: instacart_data_subset/departments.csv  \n",
      "  inflating: __MACOSX/instacart_data_subset/._departments.csv  \n",
      "  inflating: instacart_data_subset/instacart_df_X_features.csv  \n",
      "  inflating: instacart_data_subset/order_products__prior_subset.csv  \n",
      "  inflating: instacart_data_subset/order_products__train_subset.csv  \n",
      "  inflating: instacart_data_subset/orders_subset.csv  \n",
      "  inflating: instacart_data_subset/products.csv  \n",
      "  inflating: __MACOSX/instacart_data_subset/._products.csv  \n"
     ]
    }
   ],
   "source": [
    "!unzip instacart_data_subset.zip"
   ]
  },
  {
   "cell_type": "code",
   "execution_count": 2,
   "metadata": {},
   "outputs": [
    {
     "data": {
      "text/html": [
       "<div>\n",
       "<style>\n",
       "    .dataframe thead tr:only-child th {\n",
       "        text-align: right;\n",
       "    }\n",
       "\n",
       "    .dataframe thead th {\n",
       "        text-align: left;\n",
       "    }\n",
       "\n",
       "    .dataframe tbody tr th {\n",
       "        vertical-align: top;\n",
       "    }\n",
       "</style>\n",
       "<table border=\"1\" class=\"dataframe\">\n",
       "  <thead>\n",
       "    <tr style=\"text-align: right;\">\n",
       "      <th></th>\n",
       "      <th>order_id</th>\n",
       "      <th>user_id</th>\n",
       "      <th>eval_set</th>\n",
       "      <th>order_number</th>\n",
       "      <th>order_dow</th>\n",
       "      <th>order_hour_of_day</th>\n",
       "      <th>days_since_prior_order</th>\n",
       "    </tr>\n",
       "  </thead>\n",
       "  <tbody>\n",
       "    <tr>\n",
       "      <th>0</th>\n",
       "      <td>1363380</td>\n",
       "      <td>50</td>\n",
       "      <td>prior</td>\n",
       "      <td>1</td>\n",
       "      <td>3</td>\n",
       "      <td>9</td>\n",
       "      <td>NaN</td>\n",
       "    </tr>\n",
       "    <tr>\n",
       "      <th>1</th>\n",
       "      <td>3131103</td>\n",
       "      <td>50</td>\n",
       "      <td>prior</td>\n",
       "      <td>2</td>\n",
       "      <td>6</td>\n",
       "      <td>12</td>\n",
       "      <td>10.0</td>\n",
       "    </tr>\n",
       "    <tr>\n",
       "      <th>2</th>\n",
       "      <td>2197066</td>\n",
       "      <td>50</td>\n",
       "      <td>prior</td>\n",
       "      <td>3</td>\n",
       "      <td>1</td>\n",
       "      <td>13</td>\n",
       "      <td>9.0</td>\n",
       "    </tr>\n",
       "  </tbody>\n",
       "</table>\n",
       "</div>"
      ],
      "text/plain": [
       "   order_id  user_id eval_set  order_number  order_dow  order_hour_of_day  \\\n",
       "0   1363380       50    prior             1          3                  9   \n",
       "1   3131103       50    prior             2          6                 12   \n",
       "2   2197066       50    prior             3          1                 13   \n",
       "\n",
       "   days_since_prior_order  \n",
       "0                     NaN  \n",
       "1                    10.0  \n",
       "2                     9.0  "
      ]
     },
     "execution_count": 2,
     "metadata": {},
     "output_type": "execute_result"
    }
   ],
   "source": [
    "import pandas as pd\n",
    "import numpy as np\n",
    "\n",
    "path = 'instacart_data_subset/'\n",
    "df_orders = pd.read_csv(path + 'orders_subset.csv')\n",
    "df_orders.head(3)"
   ]
  },
  {
   "cell_type": "code",
   "execution_count": 3,
   "metadata": {},
   "outputs": [
    {
     "data": {
      "text/html": [
       "<div>\n",
       "<style>\n",
       "    .dataframe thead tr:only-child th {\n",
       "        text-align: right;\n",
       "    }\n",
       "\n",
       "    .dataframe thead th {\n",
       "        text-align: left;\n",
       "    }\n",
       "\n",
       "    .dataframe tbody tr th {\n",
       "        vertical-align: top;\n",
       "    }\n",
       "</style>\n",
       "<table border=\"1\" class=\"dataframe\">\n",
       "  <thead>\n",
       "    <tr style=\"text-align: right;\">\n",
       "      <th></th>\n",
       "      <th>order_id</th>\n",
       "      <th>product_id</th>\n",
       "      <th>add_to_cart_order</th>\n",
       "      <th>reordered</th>\n",
       "    </tr>\n",
       "  </thead>\n",
       "  <tbody>\n",
       "    <tr>\n",
       "      <th>0</th>\n",
       "      <td>12</td>\n",
       "      <td>30597</td>\n",
       "      <td>1</td>\n",
       "      <td>1</td>\n",
       "    </tr>\n",
       "    <tr>\n",
       "      <th>1</th>\n",
       "      <td>12</td>\n",
       "      <td>15221</td>\n",
       "      <td>2</td>\n",
       "      <td>1</td>\n",
       "    </tr>\n",
       "    <tr>\n",
       "      <th>2</th>\n",
       "      <td>12</td>\n",
       "      <td>43772</td>\n",
       "      <td>3</td>\n",
       "      <td>1</td>\n",
       "    </tr>\n",
       "  </tbody>\n",
       "</table>\n",
       "</div>"
      ],
      "text/plain": [
       "   order_id  product_id  add_to_cart_order  reordered\n",
       "0        12       30597                  1          1\n",
       "1        12       15221                  2          1\n",
       "2        12       43772                  3          1"
      ]
     },
     "execution_count": 3,
     "metadata": {},
     "output_type": "execute_result"
    }
   ],
   "source": [
    "df_order_products_prior = pd.read_csv(path + 'order_products__prior_subset.csv')\n",
    "df_order_products_prior.head(3)"
   ]
  },
  {
   "cell_type": "code",
   "execution_count": 4,
   "metadata": {},
   "outputs": [
    {
     "data": {
      "text/html": [
       "<div>\n",
       "<style>\n",
       "    .dataframe thead tr:only-child th {\n",
       "        text-align: right;\n",
       "    }\n",
       "\n",
       "    .dataframe thead th {\n",
       "        text-align: left;\n",
       "    }\n",
       "\n",
       "    .dataframe tbody tr th {\n",
       "        vertical-align: top;\n",
       "    }\n",
       "</style>\n",
       "<table border=\"1\" class=\"dataframe\">\n",
       "  <thead>\n",
       "    <tr style=\"text-align: right;\">\n",
       "      <th></th>\n",
       "      <th>order_id</th>\n",
       "      <th>product_id</th>\n",
       "      <th>add_to_cart_order</th>\n",
       "      <th>reordered</th>\n",
       "    </tr>\n",
       "  </thead>\n",
       "  <tbody>\n",
       "    <tr>\n",
       "      <th>0</th>\n",
       "      <td>1077</td>\n",
       "      <td>13176</td>\n",
       "      <td>1</td>\n",
       "      <td>1</td>\n",
       "    </tr>\n",
       "    <tr>\n",
       "      <th>1</th>\n",
       "      <td>1077</td>\n",
       "      <td>39922</td>\n",
       "      <td>2</td>\n",
       "      <td>1</td>\n",
       "    </tr>\n",
       "    <tr>\n",
       "      <th>2</th>\n",
       "      <td>1077</td>\n",
       "      <td>5258</td>\n",
       "      <td>3</td>\n",
       "      <td>1</td>\n",
       "    </tr>\n",
       "  </tbody>\n",
       "</table>\n",
       "</div>"
      ],
      "text/plain": [
       "   order_id  product_id  add_to_cart_order  reordered\n",
       "0      1077       13176                  1          1\n",
       "1      1077       39922                  2          1\n",
       "2      1077        5258                  3          1"
      ]
     },
     "execution_count": 4,
     "metadata": {},
     "output_type": "execute_result"
    }
   ],
   "source": [
    "df_order_products_train = pd.read_csv(path + 'order_products__train_subset.csv')\n",
    "df_order_products_train.head(3)"
   ]
  },
  {
   "cell_type": "markdown",
   "metadata": {},
   "source": [
    "We'll want to combine the order/product information with user information, so we'll go ahead and merge the `order_products` tables with the `orders` table."
   ]
  },
  {
   "cell_type": "code",
   "execution_count": 5,
   "metadata": {},
   "outputs": [
    {
     "name": "stdout",
     "output_type": "stream",
     "text": [
      "<class 'pandas.core.frame.DataFrame'>\n",
      "Int64Index: 53704 entries, 0 to 53703\n",
      "Data columns (total 9 columns):\n",
      "order_id                  53704 non-null int64\n",
      "product_id                53704 non-null int64\n",
      "add_to_cart_order         53704 non-null int64\n",
      "reordered                 53704 non-null int64\n",
      "user_id                   53704 non-null int64\n",
      "order_number              53704 non-null int64\n",
      "order_dow                 53704 non-null int64\n",
      "order_hour_of_day         53704 non-null int64\n",
      "days_since_prior_order    53704 non-null float64\n",
      "dtypes: float64(1), int64(8)\n",
      "memory usage: 4.1 MB\n"
     ]
    }
   ],
   "source": [
    "df_order_products_train = df_order_products_train.merge(df_orders.drop('eval_set', axis=1), on='order_id')\n",
    "df_order_products_prior = df_order_products_prior.merge(df_orders.drop('eval_set', axis=1), on='order_id')\n",
    "\n",
    "df_order_products_train.info()"
   ]
  },
  {
   "cell_type": "markdown",
   "metadata": {},
   "source": [
    "Next we'll set up the classification problem. For the instacart challenge, the given task is to predict which products will show up again in a user's next order based on their entire product order history. We can worry about aggregating to the cart level later, but understand for now that this problem will require us to make **individual binary predictions for every unique user-product combination** in the order history, where the target is 1 or 0 for if that product shows up in the user's next/most current order.    "
   ]
  },
  {
   "cell_type": "markdown",
   "metadata": {},
   "source": [
    "With that in mind, we'll create a **`df_X` as our ML-formatted dataframe**, with a user-product aggregated version of the `order_products_prior` data. We'll go ahead and count the total # of times the user has ordered each product as our first feature since we're already doing a user-product aggregation."
   ]
  },
  {
   "cell_type": "code",
   "execution_count": 6,
   "metadata": {},
   "outputs": [
    {
     "data": {
      "text/html": [
       "<div>\n",
       "<style>\n",
       "    .dataframe thead tr:only-child th {\n",
       "        text-align: right;\n",
       "    }\n",
       "\n",
       "    .dataframe thead th {\n",
       "        text-align: left;\n",
       "    }\n",
       "\n",
       "    .dataframe tbody tr th {\n",
       "        vertical-align: top;\n",
       "    }\n",
       "</style>\n",
       "<table border=\"1\" class=\"dataframe\">\n",
       "  <thead>\n",
       "    <tr style=\"text-align: right;\">\n",
       "      <th></th>\n",
       "      <th>product_id</th>\n",
       "      <th>user_id</th>\n",
       "      <th>user_product_total_orders</th>\n",
       "    </tr>\n",
       "  </thead>\n",
       "  <tbody>\n",
       "    <tr>\n",
       "      <th>0</th>\n",
       "      <td>1</td>\n",
       "      <td>21285</td>\n",
       "      <td>1</td>\n",
       "    </tr>\n",
       "    <tr>\n",
       "      <th>1</th>\n",
       "      <td>1</td>\n",
       "      <td>47549</td>\n",
       "      <td>4</td>\n",
       "    </tr>\n",
       "    <tr>\n",
       "      <th>2</th>\n",
       "      <td>1</td>\n",
       "      <td>54136</td>\n",
       "      <td>1</td>\n",
       "    </tr>\n",
       "    <tr>\n",
       "      <th>3</th>\n",
       "      <td>1</td>\n",
       "      <td>54240</td>\n",
       "      <td>1</td>\n",
       "    </tr>\n",
       "    <tr>\n",
       "      <th>4</th>\n",
       "      <td>1</td>\n",
       "      <td>95730</td>\n",
       "      <td>1</td>\n",
       "    </tr>\n",
       "  </tbody>\n",
       "</table>\n",
       "</div>"
      ],
      "text/plain": [
       "   product_id  user_id  user_product_total_orders\n",
       "0           1    21285                          1\n",
       "1           1    47549                          4\n",
       "2           1    54136                          1\n",
       "3           1    54240                          1\n",
       "4           1    95730                          1"
      ]
     },
     "execution_count": 6,
     "metadata": {},
     "output_type": "execute_result"
    }
   ],
   "source": [
    "df_user_product = (df_order_products_prior.groupby(['product_id','user_id'],as_index=False) \n",
    "                                          .agg({'order_id':'count'}) \n",
    "                                          .rename(columns={'order_id':'user_product_total_orders'}))\n",
    "\n",
    "train_ids = df_order_products_train['user_id'].unique() \n",
    "df_X = df_user_product[df_user_product['user_id'].isin(train_ids)]\n",
    "df_X.head()"
   ]
  },
  {
   "cell_type": "markdown",
   "metadata": {},
   "source": [
    "Next we need to get our labels. To do this, we'll group our current cart data (`order_products_train`) by user and collect a set of the items in that cart. Then we can merge with `df_X` and iterate through the rows to get labels for whether each product occurs in the latest cart.  "
   ]
  },
  {
   "cell_type": "code",
   "execution_count": 7,
   "metadata": {},
   "outputs": [
    {
     "data": {
      "text/html": [
       "<div>\n",
       "<style>\n",
       "    .dataframe thead tr:only-child th {\n",
       "        text-align: right;\n",
       "    }\n",
       "\n",
       "    .dataframe thead th {\n",
       "        text-align: left;\n",
       "    }\n",
       "\n",
       "    .dataframe tbody tr th {\n",
       "        vertical-align: top;\n",
       "    }\n",
       "</style>\n",
       "<table border=\"1\" class=\"dataframe\">\n",
       "  <thead>\n",
       "    <tr style=\"text-align: right;\">\n",
       "      <th></th>\n",
       "      <th>product_id</th>\n",
       "      <th>user_id</th>\n",
       "      <th>user_product_total_orders</th>\n",
       "      <th>latest_cart</th>\n",
       "      <th>in_cart</th>\n",
       "    </tr>\n",
       "  </thead>\n",
       "  <tbody>\n",
       "    <tr>\n",
       "      <th>0</th>\n",
       "      <td>1</td>\n",
       "      <td>21285</td>\n",
       "      <td>1</td>\n",
       "      <td>{21573, 35561, 37710, 11759, 12341, 13176, 32478}</td>\n",
       "      <td>0</td>\n",
       "    </tr>\n",
       "    <tr>\n",
       "      <th>1</th>\n",
       "      <td>3298</td>\n",
       "      <td>21285</td>\n",
       "      <td>1</td>\n",
       "      <td>{21573, 35561, 37710, 11759, 12341, 13176, 32478}</td>\n",
       "      <td>0</td>\n",
       "    </tr>\n",
       "    <tr>\n",
       "      <th>2</th>\n",
       "      <td>4920</td>\n",
       "      <td>21285</td>\n",
       "      <td>3</td>\n",
       "      <td>{21573, 35561, 37710, 11759, 12341, 13176, 32478}</td>\n",
       "      <td>0</td>\n",
       "    </tr>\n",
       "    <tr>\n",
       "      <th>3</th>\n",
       "      <td>6066</td>\n",
       "      <td>21285</td>\n",
       "      <td>2</td>\n",
       "      <td>{21573, 35561, 37710, 11759, 12341, 13176, 32478}</td>\n",
       "      <td>0</td>\n",
       "    </tr>\n",
       "    <tr>\n",
       "      <th>4</th>\n",
       "      <td>6184</td>\n",
       "      <td>21285</td>\n",
       "      <td>6</td>\n",
       "      <td>{21573, 35561, 37710, 11759, 12341, 13176, 32478}</td>\n",
       "      <td>0</td>\n",
       "    </tr>\n",
       "  </tbody>\n",
       "</table>\n",
       "</div>"
      ],
      "text/plain": [
       "   product_id  user_id  user_product_total_orders  \\\n",
       "0           1    21285                          1   \n",
       "1        3298    21285                          1   \n",
       "2        4920    21285                          3   \n",
       "3        6066    21285                          2   \n",
       "4        6184    21285                          6   \n",
       "\n",
       "                                         latest_cart  in_cart  \n",
       "0  {21573, 35561, 37710, 11759, 12341, 13176, 32478}        0  \n",
       "1  {21573, 35561, 37710, 11759, 12341, 13176, 32478}        0  \n",
       "2  {21573, 35561, 37710, 11759, 12341, 13176, 32478}        0  \n",
       "3  {21573, 35561, 37710, 11759, 12341, 13176, 32478}        0  \n",
       "4  {21573, 35561, 37710, 11759, 12341, 13176, 32478}        0  "
      ]
     },
     "execution_count": 7,
     "metadata": {},
     "output_type": "execute_result"
    }
   ],
   "source": [
    "train_carts = (df_order_products_train.groupby('user_id',as_index=False)\n",
    "                                      .agg({'product_id':(lambda x: set(x))})\n",
    "                                      .rename(columns={'product_id':'latest_cart'}))\n",
    "\n",
    "df_X = df_X.merge(train_carts, on='user_id')\n",
    "df_X['in_cart'] = (df_X.apply(lambda row: row['product_id'] in row['latest_cart'], axis=1).astype(int))\n",
    "\n",
    "df_X.head()"
   ]
  },
  {
   "cell_type": "markdown",
   "metadata": {},
   "source": [
    "Nice, now we actually have a dataset that's shaped as a binary classification problem: **`in_cart` is our target**, and **each observation is a unique user-product combination** based on the entire order history for users in our current cart data.\n",
    "\n",
    "We should immediately check out the distribution of our labels and know that we're working with an **imbalanced classification task** (always check this first!). It's something we'll definitely want to account for later (though not in this notebook) when we want to optimize our F1 score, the chosen metric for scoring our model."
   ]
  },
  {
   "cell_type": "code",
   "execution_count": 8,
   "metadata": {},
   "outputs": [
    {
     "data": {
      "text/plain": [
       "0    0.901945\n",
       "1    0.098055\n",
       "Name: in_cart, dtype: float64"
      ]
     },
     "execution_count": 8,
     "metadata": {},
     "output_type": "execute_result"
    }
   ],
   "source": [
    "df_X.in_cart.value_counts(normalize=True)"
   ]
  },
  {
   "cell_type": "markdown",
   "metadata": {},
   "source": [
    "Right now this looks like a very meagre machine learning problem! We really only have 1 usable feature, the total orders placed for each user-product combination. Let's use a simple logistic model with this feature as a baseline, and see how much predictive power we can add by **building out our feature set with feature engineering**.\n",
    "\n",
    "For this problem, we want to be **extra careful about validation/testing**. If we do a simple train/test split, we'll end up with users that occur in both the training and test data and run the risk of overfitting to the tendencies of specific users. Instead, we'll manually sample 20% of the users to put into our test set, and use the remaining 80% of users for the training data."
   ]
  },
  {
   "cell_type": "code",
   "execution_count": 9,
   "metadata": {},
   "outputs": [
    {
     "data": {
      "text/plain": [
       "0.082051282051282051"
      ]
     },
     "execution_count": 9,
     "metadata": {},
     "output_type": "execute_result"
    }
   ],
   "source": [
    "from sklearn.linear_model import LogisticRegression\n",
    "from sklearn.model_selection import train_test_split\n",
    "from sklearn.metrics import f1_score\n",
    "    \n",
    "np.random.seed(42)\n",
    "total_users = df_X['user_id'].unique() \n",
    "test_users = np.random.choice(total_users, size=int(total_users.shape[0] * .20), replace=False)\n",
    "\n",
    "df_X_tr, df_X_te = df_X[~df_X['user_id'].isin(test_users)], df_X[df_X['user_id'].isin(test_users)] \n",
    "\n",
    "y_tr, y_te = df_X_tr['in_cart'], df_X_te['in_cart']\n",
    "X_tr, X_te = df_X_tr.drop(['product_id','user_id','latest_cart','in_cart'],axis=1), \\\n",
    "             df_X_te.drop(['product_id','user_id','latest_cart','in_cart'],axis=1), \\\n",
    "\n",
    "lr = LogisticRegression()\n",
    "lr.fit(X_tr, y_tr)\n",
    "f1_score(lr.predict(X_te), y_te)"
   ]
  },
  {
   "cell_type": "markdown",
   "metadata": {},
   "source": [
    "The bar is set low!"
   ]
  },
  {
   "cell_type": "markdown",
   "metadata": {},
   "source": [
    "## 2. Feature engineering to improve our model"
   ]
  },
  {
   "cell_type": "markdown",
   "metadata": {},
   "source": [
    "The first thing we need to do is think critically about the predictive task and the types of features that we need to use. We should draw heavily on domain knowledge and be open to trial and error. \n",
    "\n",
    "Since our observations are unique combinations of user-product, we'll have multiple sources of features that are highly relevant to making a prediction about the purchasing behavior for the upcoming/most current order. We can break this problem down in terms of **qualities of human behavior** and figure out how to capture them numerically.\n",
    "\n",
    "### Feature Types:\n",
    "\n",
    "* **Product** features: general information about product purchase patterns across ALL users. The category of the product, its general popularity, how high priority the item tends to be, etc.\n",
    "* **User** features: information about specific user behavior. How many items do they tend to order, how long has it been since they've last ordered, what time of day do they usually order, etc. \n",
    "* **User-Product** features: information about product-specific user behavior. How often have they ordered this product, how high-priority does it tend to be for them, how long has it been since they've ordered this product, etc.\n",
    "\n",
    "When engineering 10s or hundreds of features, it can quickly become tricky to keep track of all our code and feature outputs. Here are a couple of best practices:\n",
    "\n",
    "  1. Use consistent naming conventions for features of the same type \n",
    "  2. Build features at the same level of aggregation at the same time, and track them in a dedicated dataframe. Merge back into the ML-formatted dataframe at the end of the process.\n",
    "  \n",
    "With this in mind, we'll start with product level features."
   ]
  },
  {
   "cell_type": "markdown",
   "metadata": {},
   "source": [
    "### Product features\n",
    "\n",
    "Here we'll create 2 simple product-level features, merge them into the ML dataframe, and run a new model as a 2nd baselining step. By **iteratively baselining** like this, we can make sure that each set of features we're adding to the mix is adding real predictive value.\n",
    "\n",
    "We'll gauge each product's overall popularity by counting its total orders across all users, and also gauge its typical priority level in an order by averaging its `add_to_cart_order`."
   ]
  },
  {
   "cell_type": "code",
   "execution_count": 10,
   "metadata": {},
   "outputs": [
    {
     "data": {
      "text/html": [
       "<div>\n",
       "<style>\n",
       "    .dataframe thead tr:only-child th {\n",
       "        text-align: right;\n",
       "    }\n",
       "\n",
       "    .dataframe thead th {\n",
       "        text-align: left;\n",
       "    }\n",
       "\n",
       "    .dataframe tbody tr th {\n",
       "        vertical-align: top;\n",
       "    }\n",
       "</style>\n",
       "<table border=\"1\" class=\"dataframe\">\n",
       "  <thead>\n",
       "    <tr style=\"text-align: right;\">\n",
       "      <th></th>\n",
       "      <th>product_id</th>\n",
       "      <th>product_total_orders</th>\n",
       "      <th>product_avg_add_to_cart_order</th>\n",
       "    </tr>\n",
       "  </thead>\n",
       "  <tbody>\n",
       "    <tr>\n",
       "      <th>0</th>\n",
       "      <td>1</td>\n",
       "      <td>26</td>\n",
       "      <td>4.576923</td>\n",
       "    </tr>\n",
       "    <tr>\n",
       "      <th>1</th>\n",
       "      <td>2</td>\n",
       "      <td>1</td>\n",
       "      <td>3.000000</td>\n",
       "    </tr>\n",
       "    <tr>\n",
       "      <th>2</th>\n",
       "      <td>3</td>\n",
       "      <td>1</td>\n",
       "      <td>4.000000</td>\n",
       "    </tr>\n",
       "    <tr>\n",
       "      <th>3</th>\n",
       "      <td>4</td>\n",
       "      <td>10</td>\n",
       "      <td>8.100000</td>\n",
       "    </tr>\n",
       "    <tr>\n",
       "      <th>4</th>\n",
       "      <td>8</td>\n",
       "      <td>1</td>\n",
       "      <td>25.000000</td>\n",
       "    </tr>\n",
       "  </tbody>\n",
       "</table>\n",
       "</div>"
      ],
      "text/plain": [
       "   product_id  product_total_orders  product_avg_add_to_cart_order\n",
       "0           1                    26                       4.576923\n",
       "1           2                     1                       3.000000\n",
       "2           3                     1                       4.000000\n",
       "3           4                    10                       8.100000\n",
       "4           8                     1                      25.000000"
      ]
     },
     "execution_count": 10,
     "metadata": {},
     "output_type": "execute_result"
    }
   ],
   "source": [
    "from collections import OrderedDict\n",
    "\n",
    "prod_features = ['product_total_orders','product_avg_add_to_cart_order']\n",
    "\n",
    "df_prod_features = (df_order_products_prior.groupby(['product_id'],as_index=False)\n",
    "                                           .agg(OrderedDict(\n",
    "                                                   [('order_id','nunique'),\n",
    "                                                    ('add_to_cart_order','mean')])))\n",
    "df_prod_features.columns = ['product_id'] + prod_features\n",
    "df_prod_features.head()"
   ]
  },
  {
   "cell_type": "code",
   "execution_count": 11,
   "metadata": {},
   "outputs": [
    {
     "data": {
      "text/html": [
       "<div>\n",
       "<style>\n",
       "    .dataframe thead tr:only-child th {\n",
       "        text-align: right;\n",
       "    }\n",
       "\n",
       "    .dataframe thead th {\n",
       "        text-align: left;\n",
       "    }\n",
       "\n",
       "    .dataframe tbody tr th {\n",
       "        vertical-align: top;\n",
       "    }\n",
       "</style>\n",
       "<table border=\"1\" class=\"dataframe\">\n",
       "  <thead>\n",
       "    <tr style=\"text-align: right;\">\n",
       "      <th></th>\n",
       "      <th>product_id</th>\n",
       "      <th>user_id</th>\n",
       "      <th>user_product_total_orders</th>\n",
       "      <th>latest_cart</th>\n",
       "      <th>in_cart</th>\n",
       "      <th>product_total_orders</th>\n",
       "      <th>product_avg_add_to_cart_order</th>\n",
       "    </tr>\n",
       "  </thead>\n",
       "  <tbody>\n",
       "    <tr>\n",
       "      <th>0</th>\n",
       "      <td>1</td>\n",
       "      <td>21285</td>\n",
       "      <td>1</td>\n",
       "      <td>{21573, 35561, 37710, 11759, 12341, 13176, 32478}</td>\n",
       "      <td>0</td>\n",
       "      <td>26</td>\n",
       "      <td>4.576923</td>\n",
       "    </tr>\n",
       "    <tr>\n",
       "      <th>1</th>\n",
       "      <td>1</td>\n",
       "      <td>47549</td>\n",
       "      <td>4</td>\n",
       "      <td>{27845, 27790, 13042, 10326, 37687}</td>\n",
       "      <td>0</td>\n",
       "      <td>26</td>\n",
       "      <td>4.576923</td>\n",
       "    </tr>\n",
       "    <tr>\n",
       "      <th>2</th>\n",
       "      <td>1</td>\n",
       "      <td>54136</td>\n",
       "      <td>1</td>\n",
       "      <td>{47977, 5450, 26604, 5296, 11123, 24852, 10070...</td>\n",
       "      <td>0</td>\n",
       "      <td>26</td>\n",
       "      <td>4.576923</td>\n",
       "    </tr>\n",
       "    <tr>\n",
       "      <th>3</th>\n",
       "      <td>1</td>\n",
       "      <td>54240</td>\n",
       "      <td>1</td>\n",
       "      <td>{12427, 26348}</td>\n",
       "      <td>0</td>\n",
       "      <td>26</td>\n",
       "      <td>4.576923</td>\n",
       "    </tr>\n",
       "    <tr>\n",
       "      <th>4</th>\n",
       "      <td>1</td>\n",
       "      <td>95730</td>\n",
       "      <td>1</td>\n",
       "      <td>{39657, 10441, 12427, 37710, 10258, 32921, 45051}</td>\n",
       "      <td>0</td>\n",
       "      <td>26</td>\n",
       "      <td>4.576923</td>\n",
       "    </tr>\n",
       "  </tbody>\n",
       "</table>\n",
       "</div>"
      ],
      "text/plain": [
       "   product_id  user_id  user_product_total_orders  \\\n",
       "0           1    21285                          1   \n",
       "1           1    47549                          4   \n",
       "2           1    54136                          1   \n",
       "3           1    54240                          1   \n",
       "4           1    95730                          1   \n",
       "\n",
       "                                         latest_cart  in_cart  \\\n",
       "0  {21573, 35561, 37710, 11759, 12341, 13176, 32478}        0   \n",
       "1                {27845, 27790, 13042, 10326, 37687}        0   \n",
       "2  {47977, 5450, 26604, 5296, 11123, 24852, 10070...        0   \n",
       "3                                     {12427, 26348}        0   \n",
       "4  {39657, 10441, 12427, 37710, 10258, 32921, 45051}        0   \n",
       "\n",
       "   product_total_orders  product_avg_add_to_cart_order  \n",
       "0                    26                       4.576923  \n",
       "1                    26                       4.576923  \n",
       "2                    26                       4.576923  \n",
       "3                    26                       4.576923  \n",
       "4                    26                       4.576923  "
      ]
     },
     "execution_count": 11,
     "metadata": {},
     "output_type": "execute_result"
    }
   ],
   "source": [
    "df_X = df_X.merge(df_prod_features, on='product_id')\n",
    "\n",
    "#note that dropping rows with NA product_avg_days_since_prior_order is likely a naive choice \n",
    "df_X = df_X.dropna()\n",
    "df_X.head()"
   ]
  },
  {
   "cell_type": "code",
   "execution_count": 12,
   "metadata": {},
   "outputs": [
    {
     "data": {
      "text/plain": [
       "0.091649413388543821"
      ]
     },
     "execution_count": 12,
     "metadata": {},
     "output_type": "execute_result"
    }
   ],
   "source": [
    "df_X_tr, df_X_te = df_X[~df_X['user_id'].isin(test_users)], df_X[df_X['user_id'].isin(test_users)] \n",
    "\n",
    "y_tr, y_te = df_X_tr['in_cart'], df_X_te['in_cart']\n",
    "X_tr, X_te = df_X_tr.drop(['product_id','user_id','latest_cart','in_cart'],axis=1), \\\n",
    "             df_X_te.drop(['product_id','user_id','latest_cart','in_cart'],axis=1), \\\n",
    "\n",
    "lr = LogisticRegression()\n",
    "lr.fit(X_tr, y_tr)\n",
    "f1_score(lr.predict(X_te), y_te)"
   ]
  },
  {
   "cell_type": "markdown",
   "metadata": {},
   "source": [
    "So we're able to do slightly better with the addition of just a few product specific features."
   ]
  },
  {
   "cell_type": "markdown",
   "metadata": {},
   "source": [
    "### User features\n",
    "\n",
    "Here we'll create 4 user-level features, then merge into `df_X` and benchmarka model as before.\n",
    "\n",
    "There are a number of components of user behavior that should be critical to measure. We'd like to know if our users have made many or few orders, the average number of products they buy in an order, how many different products they've bought over time, and how long they typically wait between orders. Thinking about purchasing tendencies, all of these factors could play a role in determining what to expect from the next cart."
   ]
  },
  {
   "cell_type": "code",
   "execution_count": 13,
   "metadata": {},
   "outputs": [
    {
     "data": {
      "text/html": [
       "<div>\n",
       "<style>\n",
       "    .dataframe thead tr:only-child th {\n",
       "        text-align: right;\n",
       "    }\n",
       "\n",
       "    .dataframe thead th {\n",
       "        text-align: left;\n",
       "    }\n",
       "\n",
       "    .dataframe tbody tr th {\n",
       "        vertical-align: top;\n",
       "    }\n",
       "</style>\n",
       "<table border=\"1\" class=\"dataframe\">\n",
       "  <thead>\n",
       "    <tr style=\"text-align: right;\">\n",
       "      <th></th>\n",
       "      <th>user_id</th>\n",
       "      <th>user_total_orders</th>\n",
       "      <th>user_avg_cartsize</th>\n",
       "      <th>user_total_products</th>\n",
       "      <th>user_avg_days_since_prior_order</th>\n",
       "    </tr>\n",
       "  </thead>\n",
       "  <tbody>\n",
       "    <tr>\n",
       "      <th>0</th>\n",
       "      <td>50</td>\n",
       "      <td>67</td>\n",
       "      <td>6.761194</td>\n",
       "      <td>89</td>\n",
       "      <td>5.691275</td>\n",
       "    </tr>\n",
       "    <tr>\n",
       "      <th>1</th>\n",
       "      <td>52</td>\n",
       "      <td>27</td>\n",
       "      <td>6.259259</td>\n",
       "      <td>51</td>\n",
       "      <td>9.134969</td>\n",
       "    </tr>\n",
       "    <tr>\n",
       "      <th>2</th>\n",
       "      <td>65</td>\n",
       "      <td>14</td>\n",
       "      <td>9.428571</td>\n",
       "      <td>80</td>\n",
       "      <td>13.594828</td>\n",
       "    </tr>\n",
       "    <tr>\n",
       "      <th>3</th>\n",
       "      <td>80</td>\n",
       "      <td>12</td>\n",
       "      <td>10.666667</td>\n",
       "      <td>52</td>\n",
       "      <td>9.857143</td>\n",
       "    </tr>\n",
       "    <tr>\n",
       "      <th>4</th>\n",
       "      <td>220</td>\n",
       "      <td>16</td>\n",
       "      <td>7.125000</td>\n",
       "      <td>44</td>\n",
       "      <td>14.980000</td>\n",
       "    </tr>\n",
       "  </tbody>\n",
       "</table>\n",
       "</div>"
      ],
      "text/plain": [
       "   user_id  user_total_orders  user_avg_cartsize  user_total_products  \\\n",
       "0       50                 67           6.761194                   89   \n",
       "1       52                 27           6.259259                   51   \n",
       "2       65                 14           9.428571                   80   \n",
       "3       80                 12          10.666667                   52   \n",
       "4      220                 16           7.125000                   44   \n",
       "\n",
       "   user_avg_days_since_prior_order  \n",
       "0                         5.691275  \n",
       "1                         9.134969  \n",
       "2                        13.594828  \n",
       "3                         9.857143  \n",
       "4                        14.980000  "
      ]
     },
     "execution_count": 13,
     "metadata": {},
     "output_type": "execute_result"
    }
   ],
   "source": [
    "user_features = ['user_total_orders','user_avg_cartsize','user_total_products','user_avg_days_since_prior_order']\n",
    "\n",
    "df_user_features = (df_order_products_prior.groupby(['user_id'],as_index=False)\n",
    "                                           .agg(OrderedDict(\n",
    "                                                   [('order_id',['nunique', (lambda x: x.shape[0] / x.nunique())]),\n",
    "                                                    ('product_id','nunique'),\n",
    "                                                    ('days_since_prior_order','mean')])))\n",
    "\n",
    "df_user_features.columns = ['user_id'] + user_features\n",
    "df_user_features.head()"
   ]
  },
  {
   "cell_type": "code",
   "execution_count": 14,
   "metadata": {},
   "outputs": [
    {
     "data": {
      "text/html": [
       "<div>\n",
       "<style>\n",
       "    .dataframe thead tr:only-child th {\n",
       "        text-align: right;\n",
       "    }\n",
       "\n",
       "    .dataframe thead th {\n",
       "        text-align: left;\n",
       "    }\n",
       "\n",
       "    .dataframe tbody tr th {\n",
       "        vertical-align: top;\n",
       "    }\n",
       "</style>\n",
       "<table border=\"1\" class=\"dataframe\">\n",
       "  <thead>\n",
       "    <tr style=\"text-align: right;\">\n",
       "      <th></th>\n",
       "      <th>product_id</th>\n",
       "      <th>user_id</th>\n",
       "      <th>user_product_total_orders</th>\n",
       "      <th>latest_cart</th>\n",
       "      <th>in_cart</th>\n",
       "      <th>product_total_orders</th>\n",
       "      <th>product_avg_add_to_cart_order</th>\n",
       "      <th>user_total_orders</th>\n",
       "      <th>user_avg_cartsize</th>\n",
       "      <th>user_total_products</th>\n",
       "      <th>user_avg_days_since_prior_order</th>\n",
       "    </tr>\n",
       "  </thead>\n",
       "  <tbody>\n",
       "    <tr>\n",
       "      <th>0</th>\n",
       "      <td>1</td>\n",
       "      <td>21285</td>\n",
       "      <td>1</td>\n",
       "      <td>{21573, 35561, 37710, 11759, 12341, 13176, 32478}</td>\n",
       "      <td>0</td>\n",
       "      <td>26</td>\n",
       "      <td>4.576923</td>\n",
       "      <td>48</td>\n",
       "      <td>6.604167</td>\n",
       "      <td>46</td>\n",
       "      <td>8.044872</td>\n",
       "    </tr>\n",
       "  </tbody>\n",
       "</table>\n",
       "</div>"
      ],
      "text/plain": [
       "   product_id  user_id  user_product_total_orders  \\\n",
       "0           1    21285                          1   \n",
       "\n",
       "                                         latest_cart  in_cart  \\\n",
       "0  {21573, 35561, 37710, 11759, 12341, 13176, 32478}        0   \n",
       "\n",
       "   product_total_orders  product_avg_add_to_cart_order  user_total_orders  \\\n",
       "0                    26                       4.576923                 48   \n",
       "\n",
       "   user_avg_cartsize  user_total_products  user_avg_days_since_prior_order  \n",
       "0           6.604167                   46                         8.044872  "
      ]
     },
     "execution_count": 14,
     "metadata": {},
     "output_type": "execute_result"
    }
   ],
   "source": [
    "df_X = df_X.merge(df_user_features, on='user_id')\n",
    "df_X = df_X.dropna()\n",
    "df_X.head(1)"
   ]
  },
  {
   "cell_type": "code",
   "execution_count": 15,
   "metadata": {},
   "outputs": [
    {
     "data": {
      "text/plain": [
       "0.12044589450788472"
      ]
     },
     "execution_count": 15,
     "metadata": {},
     "output_type": "execute_result"
    }
   ],
   "source": [
    "df_X_tr, df_X_te = df_X[~df_X['user_id'].isin(test_users)], df_X[df_X['user_id'].isin(test_users)] \n",
    "\n",
    "y_tr, y_te = df_X_tr['in_cart'], df_X_te['in_cart']\n",
    "X_tr, X_te = df_X_tr.drop(['product_id','user_id','latest_cart','in_cart'],axis=1), \\\n",
    "             df_X_te.drop(['product_id','user_id','latest_cart','in_cart'],axis=1), \\\n",
    "\n",
    "lr = LogisticRegression()\n",
    "lr.fit(X_tr, y_tr)\n",
    "f1_score(lr.predict(X_te), y_te)"
   ]
  },
  {
   "cell_type": "markdown",
   "metadata": {},
   "source": [
    "Once again, our model improvement confirms that these features were a worthwhile addition of predictive value."
   ]
  },
  {
   "cell_type": "markdown",
   "metadata": {},
   "source": [
    "### User-Product features"
   ]
  },
  {
   "cell_type": "markdown",
   "metadata": {},
   "source": [
    "For our 3rd feature engineering step, we'll create 2 more user-product features to add to our benchmark.\n",
    "\n",
    "Here we want to get a sense of how much priority each user places on each product by looking at the typical `add_to_cart_order` for that user-product combination. We also want to get a feature for % of times a product occurs across all of a user's orders -- we'll do that at the end by taking the original `user_product_total_orders` feature we grabbed and dividing it by the `user_total_orders` feature we derived in the user features section."
   ]
  },
  {
   "cell_type": "code",
   "execution_count": 16,
   "metadata": {},
   "outputs": [
    {
     "data": {
      "text/html": [
       "<div>\n",
       "<style>\n",
       "    .dataframe thead tr:only-child th {\n",
       "        text-align: right;\n",
       "    }\n",
       "\n",
       "    .dataframe thead th {\n",
       "        text-align: left;\n",
       "    }\n",
       "\n",
       "    .dataframe tbody tr th {\n",
       "        vertical-align: top;\n",
       "    }\n",
       "</style>\n",
       "<table border=\"1\" class=\"dataframe\">\n",
       "  <thead>\n",
       "    <tr style=\"text-align: right;\">\n",
       "      <th></th>\n",
       "      <th>product_id</th>\n",
       "      <th>user_id</th>\n",
       "      <th>user_product_avg_add_to_cart_order</th>\n",
       "    </tr>\n",
       "  </thead>\n",
       "  <tbody>\n",
       "    <tr>\n",
       "      <th>0</th>\n",
       "      <td>1</td>\n",
       "      <td>21285</td>\n",
       "      <td>3.0</td>\n",
       "    </tr>\n",
       "    <tr>\n",
       "      <th>1</th>\n",
       "      <td>1</td>\n",
       "      <td>47549</td>\n",
       "      <td>4.0</td>\n",
       "    </tr>\n",
       "    <tr>\n",
       "      <th>2</th>\n",
       "      <td>1</td>\n",
       "      <td>54136</td>\n",
       "      <td>3.0</td>\n",
       "    </tr>\n",
       "    <tr>\n",
       "      <th>3</th>\n",
       "      <td>1</td>\n",
       "      <td>54240</td>\n",
       "      <td>2.0</td>\n",
       "    </tr>\n",
       "    <tr>\n",
       "      <th>4</th>\n",
       "      <td>1</td>\n",
       "      <td>95730</td>\n",
       "      <td>1.0</td>\n",
       "    </tr>\n",
       "  </tbody>\n",
       "</table>\n",
       "</div>"
      ],
      "text/plain": [
       "   product_id  user_id  user_product_avg_add_to_cart_order\n",
       "0           1    21285                                 3.0\n",
       "1           1    47549                                 4.0\n",
       "2           1    54136                                 3.0\n",
       "3           1    54240                                 2.0\n",
       "4           1    95730                                 1.0"
      ]
     },
     "execution_count": 16,
     "metadata": {},
     "output_type": "execute_result"
    }
   ],
   "source": [
    "user_prod_features = ['user_product_avg_add_to_cart_order']\n",
    "\n",
    "df_user_prod_features = (df_order_products_prior.groupby(['product_id','user_id'],as_index=False) \\\n",
    "                                                .agg(OrderedDict(\n",
    "                                                     [('add_to_cart_order','mean')])))\n",
    "\n",
    "df_user_prod_features.columns = ['product_id','user_id'] + user_prod_features \n",
    "df_user_prod_features.head()"
   ]
  },
  {
   "cell_type": "code",
   "execution_count": 17,
   "metadata": {},
   "outputs": [
    {
     "data": {
      "text/html": [
       "<div>\n",
       "<style>\n",
       "    .dataframe thead tr:only-child th {\n",
       "        text-align: right;\n",
       "    }\n",
       "\n",
       "    .dataframe thead th {\n",
       "        text-align: left;\n",
       "    }\n",
       "\n",
       "    .dataframe tbody tr th {\n",
       "        vertical-align: top;\n",
       "    }\n",
       "</style>\n",
       "<table border=\"1\" class=\"dataframe\">\n",
       "  <thead>\n",
       "    <tr style=\"text-align: right;\">\n",
       "      <th></th>\n",
       "      <th>product_id</th>\n",
       "      <th>user_id</th>\n",
       "      <th>user_product_total_orders</th>\n",
       "      <th>latest_cart</th>\n",
       "      <th>in_cart</th>\n",
       "      <th>product_total_orders</th>\n",
       "      <th>product_avg_add_to_cart_order</th>\n",
       "      <th>user_total_orders</th>\n",
       "      <th>user_avg_cartsize</th>\n",
       "      <th>user_total_products</th>\n",
       "      <th>user_avg_days_since_prior_order</th>\n",
       "      <th>user_product_avg_add_to_cart_order</th>\n",
       "      <th>user_product_order_freq</th>\n",
       "    </tr>\n",
       "  </thead>\n",
       "  <tbody>\n",
       "    <tr>\n",
       "      <th>0</th>\n",
       "      <td>1</td>\n",
       "      <td>21285</td>\n",
       "      <td>1</td>\n",
       "      <td>{21573, 35561, 37710, 11759, 12341, 13176, 32478}</td>\n",
       "      <td>0</td>\n",
       "      <td>26</td>\n",
       "      <td>4.576923</td>\n",
       "      <td>48</td>\n",
       "      <td>6.604167</td>\n",
       "      <td>46</td>\n",
       "      <td>8.044872</td>\n",
       "      <td>3.0</td>\n",
       "      <td>0.020833</td>\n",
       "    </tr>\n",
       "  </tbody>\n",
       "</table>\n",
       "</div>"
      ],
      "text/plain": [
       "   product_id  user_id  user_product_total_orders  \\\n",
       "0           1    21285                          1   \n",
       "\n",
       "                                         latest_cart  in_cart  \\\n",
       "0  {21573, 35561, 37710, 11759, 12341, 13176, 32478}        0   \n",
       "\n",
       "   product_total_orders  product_avg_add_to_cart_order  user_total_orders  \\\n",
       "0                    26                       4.576923                 48   \n",
       "\n",
       "   user_avg_cartsize  user_total_products  user_avg_days_since_prior_order  \\\n",
       "0           6.604167                   46                         8.044872   \n",
       "\n",
       "   user_product_avg_add_to_cart_order  user_product_order_freq  \n",
       "0                                 3.0                 0.020833  "
      ]
     },
     "execution_count": 17,
     "metadata": {},
     "output_type": "execute_result"
    }
   ],
   "source": [
    "df_X = df_X.merge(df_user_prod_features,on=['user_id','product_id'])\n",
    "df_X['user_product_order_freq'] = df_X['user_product_total_orders'] / df_X['user_total_orders'] \n",
    "df_X.head(1)"
   ]
  },
  {
   "cell_type": "code",
   "execution_count": 18,
   "metadata": {},
   "outputs": [
    {
     "data": {
      "text/plain": [
       "0.21688555347091934"
      ]
     },
     "execution_count": 18,
     "metadata": {},
     "output_type": "execute_result"
    }
   ],
   "source": [
    "df_X_tr, df_X_te = df_X[~df_X['user_id'].isin(test_users)], df_X[df_X['user_id'].isin(test_users)] \n",
    "\n",
    "y_tr, y_te = df_X_tr['in_cart'], df_X_te['in_cart']\n",
    "X_tr, X_te = df_X_tr.drop(['product_id','user_id','latest_cart','in_cart'],axis=1), \\\n",
    "             df_X_te.drop(['product_id','user_id','latest_cart','in_cart'],axis=1), \\\n",
    "\n",
    "lr = LogisticRegression()\n",
    "lr.fit(X_tr, y_tr)\n",
    "f1_score(lr.predict(X_te), y_te)"
   ]
  },
  {
   "cell_type": "markdown",
   "metadata": {},
   "source": [
    "We've come a long way, but have a ways yet to go. We should be able to improve our F1 with a combination of:\n",
    "\n",
    "    1. More/better features\n",
    "    2. More training data (we have lots more available)\n",
    "    3. Better handling of the class imbalance issue / decision threshold (topic for future lecture)\n",
    "    4. More sophisticated models"
   ]
  },
  {
   "cell_type": "code",
   "execution_count": 19,
   "metadata": {
    "collapsed": true
   },
   "outputs": [],
   "source": [
    "#Saving our ML dataframe with features for future use:\n",
    "df_X.to_csv('instacart_data_subset/instacart_df_X_features.csv', index=False)"
   ]
  },
  {
   "cell_type": "markdown",
   "metadata": {},
   "source": [
    "## 3. Feature engineering exercises and future ideas"
   ]
  },
  {
   "cell_type": "code",
   "execution_count": 20,
   "metadata": {
    "collapsed": true
   },
   "outputs": [],
   "source": [
    "# Add product category / aisle information as categorical features "
   ]
  },
  {
   "cell_type": "code",
   "execution_count": 21,
   "metadata": {
    "collapsed": true
   },
   "outputs": [],
   "source": [
    "# Add another user-product feature that computes how many orders it's been since the user ordered that product \n"
   ]
  },
  {
   "cell_type": "code",
   "execution_count": 22,
   "metadata": {
    "collapsed": true
   },
   "outputs": [],
   "source": [
    "# Add another user-product feature that computes the % of times a product shows up consecutively in the user's orders\n",
    "# (i.e. they reordered it immediately in the next order)\n"
   ]
  },
  {
   "cell_type": "code",
   "execution_count": 23,
   "metadata": {
    "collapsed": true
   },
   "outputs": [],
   "source": [
    "# We haven't used the data on order time / day of week at all yet. We could use this to measure the typical times \n",
    "# products tend to be ordered (both generically and at the user-product level), and quantify the difference\n",
    "# between the time of the latest order and these typical times to pick up new signal around ordering patterns.\n",
    "\n",
    "# Modify the product and user-product features to compute average hour of day and day of week. Add these to df_X,\n",
    "# Then add features of the form user_product_avg_hod_delta that take the dif of the current order time and the avg. \n"
   ]
  },
  {
   "cell_type": "code",
   "execution_count": 24,
   "metadata": {
    "collapsed": true
   },
   "outputs": [],
   "source": [
    "# So far the way we've used the order history treats the entire history on equal terms - for example, user-product \n",
    "# order frequency treats orders from months ago the same as recent ones. Come up with features that focus more\n",
    "# on the most recent orders or give them more weight than older ones.\n"
   ]
  }
 ],
 "metadata": {
  "kernelspec": {
   "display_name": "Python 3",
   "language": "python",
   "name": "python3"
  },
  "language_info": {
   "codemirror_mode": {
    "name": "ipython",
    "version": 3
   },
   "file_extension": ".py",
   "mimetype": "text/x-python",
   "name": "python",
   "nbconvert_exporter": "python",
   "pygments_lexer": "ipython3",
   "version": "3.6.3"
  },
  "toc": {
   "nav_menu": {},
   "number_sections": true,
   "sideBar": true,
   "skip_h1_title": false,
   "toc_cell": false,
   "toc_position": {},
   "toc_section_display": "block",
   "toc_window_display": false
  }
 },
 "nbformat": 4,
 "nbformat_minor": 2
}
