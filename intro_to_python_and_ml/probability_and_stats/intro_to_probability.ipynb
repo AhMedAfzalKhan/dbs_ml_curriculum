{
 "cells": [
  {
   "cell_type": "markdown",
   "metadata": {},
   "source": [
    "# Introduction to probability"
   ]
  },
  {
   "cell_type": "markdown",
   "metadata": {},
   "source": [
    "### What is probability?\n",
    "- The study of theoretical possibilities and their likelihood of occuring."
   ]
  },
  {
   "cell_type": "markdown",
   "metadata": {},
   "source": [
    "### Why should we care?\n",
    "\n",
    "- As data scientists, we're interested in making predictions for populations\n",
    "- We make the predictions as the likelihood of a thing happening (point estimates are false precision!)"
   ]
  },
  {
   "cell_type": "markdown",
   "metadata": {},
   "source": [
    "## Some examples:"
   ]
  },
  {
   "cell_type": "markdown",
   "metadata": {},
   "source": [
    "### Chance of flipping three (fair) coins and getting (exactly) two heads\n",
    "- Each coin has probability 1/2 of heads and 1/2 of tails, and all are **independent**.\n",
    "- Naming the coins as C_1, C_2 and C_3, we see that the probability of two heads is the sum of the probabilities of all possible ways that this can happen:\n",
    "$$ $$\n",
    "\\begin{eqnarray*}\n",
    "P(\\text{\"Exactly Two Heads\"}) &=& \n",
    "\\,\\,\\,\\,\\,\\,P(C_1 = \\text{\"H\"}) \\times P(C_2 = \\text{\"H\"}) \\times P(C_3 = \\text{\"T\"}) \\\\\n",
    "&&+ P(C_1 = \\text{\"H\"}) \\times P(C_2 = \\text{\"T\"}) \\times P(C_3 = \\text{\"H\"}) \\\\\n",
    "&&+ P(C_1 = \\text{\"T\"}) \\times P(C_2 = \\text{\"H\"}) \\times P(C_3 = \\text{\"H\"}) \\\\\n",
    "&=& 1/8 + 1/8 + 1/8 \\\\\n",
    "&=& 3/8\n",
    "\\end{eqnarray*}\n",
    "\n",
    "<img src=\"https://upload.wikimedia.org/wikipedia/commons/5/58/Roman_gold_coins_excavated_in_Pudukottai_India_one_coin_of_Caligula_31_41_and_two_coins_of_Nero_54_68.jpg\" width=\"400\">\n",
    " "
   ]
  },
  {
   "cell_type": "markdown",
   "metadata": {},
   "source": [
    "### Similarly for numeric values for the outcomes, as for a fair die $D_1$:\n",
    "\\begin{align}\n",
    "&P(D_1 = 1) = 1/6, \n",
    "\\qquad\n",
    "P(D_1 = 2) = 1/6, \n",
    "\\qquad\n",
    "P(D_1 = 3) = 1/6, \n",
    "\\\\\n",
    "&P(D_1 = 4) = 1/6, \n",
    "\\qquad\n",
    "P(D_1 = 5) = 1/6, \n",
    "\\qquad\n",
    "P(D_1 = 6) = 1/6, \n",
    "\\qquad\n",
    "\\end{align}\n",
    "\n",
    "<img src=\"https://upload.wikimedia.org/wikipedia/commons/a/a5/6sided_dice.jpg\" width=\"300\">\n"
   ]
  },
  {
   "cell_type": "markdown",
   "metadata": {},
   "source": [
    "## Some theory\n",
    "\n",
    "- Sample space: the set $S$ of all possible outcomes for an experiment (loosely defined)\n",
    "     - For flipping a coin: S = {H,T}\n",
    "     - For observing students' SAT scores: S = {200, 210, 220, ... 800} \n",
    "     - For measuring the time between claps of thunder: S = (0, $\\infty$)\n",
    "\n",
    "\n",
    "- Events are things that happen in the sample space; e.g., if we flipped a coin three times, some events are:\n",
    "    - {H, H, T}\n",
    "    - {H, T, H}\n",
    "    - {T, T, H}\n",
    "\n",
    "\n",
    "- **Random variables** are rules that assign a value (probablity) to each event \n",
    "\n",
    "\n",
    "- Elementary set operations: \n",
    "     - Union: $A \\cup B = \\{x: x \\in$ A or x $\\in B\\}$\n",
    "     - Intersection: $A \\cap B = \\{x: x \\in$ A and x $\\in B\\}$"
   ]
  },
  {
   "cell_type": "markdown",
   "metadata": {},
   "source": [
    "### What's going on?\n",
    "- **Joint events** (intersections):\n",
    "    - **Independent** events occur with a probability that's the product of their individual probabilities!\n",
    "        - $P(A \\text{ and } B) = P(A) \\times P(B)$\n",
    "    - For dependent events, both occuring is the product of a conditional probability\n",
    "        - $P(A \\text{ and } B) = P(A) \\times P(B|A)$\n",
    "    \n",
    "\n",
    "- Disjoint events (unions):\n",
    "    - The probability of either $A$ or $B$ occurring is $P(A) + P(B) - P(A \\text{ and } B)$\n",
    "    - For disjoint events (i.e. both can't occur) this is just the sum $P(A) + P(B)$\n",
    "    "
   ]
  },
  {
   "cell_type": "markdown",
   "metadata": {},
   "source": [
    "## How does the theory work?\n",
    "\n",
    "### Rules \n",
    "- All event weightings must be non-negative, and must sum up to one.\n",
    "- No \"funny business\" with making events. (Don't worry -- this is hard to do badly.)"
   ]
  },
  {
   "cell_type": "markdown",
   "metadata": {},
   "source": [
    "## Dependent variables and conditional probabilty\n",
    "\n",
    "### Not all probabilities are independent ; here's an example:\n",
    "\n",
    "I am allergic to dogs. They make me sneeze.\n",
    "Sometimes dogs say hello to me.  What is the probability that I sneeze?\n",
    "\n",
    "Here I know some probabilities about the friendliness of dogs:\n",
    "- $P(\\text{\"Dog greets me\"}) = 1/4$ \n",
    "- $P(\\text{\"Dog doesn't greet me\"}) = 3/4$ \n",
    "\n",
    "Sometimes we know the **conditional probabilities** that depend on whether dogs say hello:\n",
    "- $P(\\text{\"I sneeze\"} |\\, \\text{\"Dog greets me\"}) = 9/10$\n",
    "- $P(\\text{\"I don't sneeze\"} |\\, \\text{\"Dog greets me\"}) = 1/10$\n",
    "- $P(\\text{\"I sneeze\"} |\\, \\text{\"Dog doesn't greet me\"}) = 2/10$\n",
    "- $P(\\text{\"I don't sneeze\"} |\\, \\text{\"Dog doesn't greet me\"}) = 8/10$\n",
    "\n",
    "How can I find the probability of sneezing in general?\n",
    "$$ $$\n",
    "\\begin{align}\n",
    "P(\\text{\"I sneeze\"}) \n",
    "&= P(\\text{\"I sneeze\"} |\\, \\text{\"Dog greets me\"}) \\times P(\\text{\"Dog greets me\"}) \n",
    "\\\\\n",
    "&+ P(\\text{\"I sneeze\"} |\\, \\text{\"Dog doesn't greet me\"}) \\times P(\\text{\"Dog doesn't greet me\"}) \n",
    "\\\\\n",
    "&= \\frac{9}{10} \\times \\frac{1}{4} + \\frac{2}{10} \\times \\frac{3}{4}\n",
    "\\\\\n",
    "&= \\frac{9 + 6}{40} = \\frac{3}{8} = 37.5\\%\n",
    "\\end{align}\n",
    "\n",
    "What does the probability space look like?  **DRAW IT!**\n",
    "\n",
    "Note that $P(\\text{\"I sneeze\"})$ depends on the value of $\\text{\"Dog greets me\"}$!\n",
    "  \n",
    "   **The random variables \"I sneeze\" and \"Dog greets me\" are not independent!**\n",
    "  \n",
    "If we thought they were independent, we would conclude that the probabilty \n",
    "  that I sneeze and that a dog greets me is $\\frac{1}{4} \\cdot \\frac{3}{8} = \\frac{3}{32} \\approx 9.3\\%$, \n",
    "  but its actually $\\frac{1}{4} \\cdot \\frac{9}{10} = 22.5\\%$!\n"
   ]
  },
  {
   "cell_type": "code",
   "execution_count": null,
   "metadata": {},
   "outputs": [],
   "source": []
  },
  {
   "cell_type": "markdown",
   "metadata": {},
   "source": [
    "### Visualize the probability space and various events for each value of a coin flip:\n",
    "- Two coins -- Probability space(all joint probabilities) as boxes\n",
    "- Two coins -- Event: $C_1 = H$\n",
    "- Two coins -- Event: $C_1 = T$\n",
    "- Two coins -- Event: $C_2 = H$\n",
    "- Two coins -- Event: $C_2 = T$\n",
    "- Two coins -- Event: Both heads\n",
    "- Two coins -- Event: Both tails\n",
    "- Two coins -- Event: $C_1 = H$, $C_2$ = Anything\n",
    "- **Some Random variables:** $C_1$, $C_2$, Concatenate($C_1$, $C_1$, $C_2$), etc.\n",
    "     \n",
    "     \n",
    "- Three coins -- Probability space as boxes    \n",
    "- Three coins -- Event: $C_1 = H$, $C_2 = C_3 =$ Anything\n",
    "     \n",
    "     \n",
    "- Two Dice -- Probability space\n",
    "- Two Dice -- Sum of values is 2\n",
    "- Two Dice -- Sum of values is 3\n",
    "- Two Dice -- Sum of values is ... through 12\n",
    "- Two Dice -- Sum of values is >6\n",
    "- **Some Random Variables:** $D_1$, $D_2$, $D_1+D_2$, $D_1*D_2$, etc.\n",
    "\n",
    "**NOTE:** Probability Space Pictures are **NOT UNIQUE** -- make your own! =)\n"
   ]
  },
  {
   "cell_type": "markdown",
   "metadata": {},
   "source": [
    "### Random Variables\n",
    "They assign a value to every possible universe.  These can also be used to define events (as the set of universes where the random variable has a certain set of values).\n",
    "\n",
    "Examples of Random Variables:\n",
    "- $C_1$\n",
    "- $D_1$\n",
    "- $D_2$\n",
    "- $D_1 + D_2 + 5(D_3)^2$\n",
    "\n",
    "Events from Random Variables:\n",
    "- $D_1 = 5$\n",
    "- $D_1 + D_2 <=4$\n",
    "- \"Exactly two heads\"\n",
    "\n",
    "**NOTE:** Often theses are taken to be **numeric** random variables, with real number values!\n"
   ]
  },
  {
   "cell_type": "markdown",
   "metadata": {},
   "source": [
    "### Visualizing Random Variables (two ways):\n",
    "- **Probability space (universe-centric)** -- What is the value for each possible universe?\n",
    "- **Probability densities (value-centric)** -- What is the weighting for each value?\n",
    "\n"
   ]
  },
  {
   "cell_type": "markdown",
   "metadata": {},
   "source": [
    "#### Probability Density Pictures:\n",
    "These can be also easily visualized by a \"normalized histogram\" which gives the \n",
    "values with their appropriate probability weightings:\n",
    "\n",
    "    Examples:\n",
    "        Fair Coin: 1/2, 1/2\n",
    "        Unfair Coin: 1/3, 2/3\n",
    "        Fair Die: 1/6, 1/6, 1/6, 1/6, 1/6, 1/6\n",
    "        Unfair Die: 1/20, 2/20, 2/20, 2/20, 2/20, 11/20"
   ]
  },
  {
   "cell_type": "code",
   "execution_count": 4,
   "metadata": {},
   "outputs": [
    {
     "data": {
      "image/png": "[encoded data removed]",
      "text/plain": [
       "<Figure size 432x288 with 1 Axes>"
      ]
     },
     "metadata": {},
     "output_type": "display_data"
    }
   ],
   "source": [
    "import matplotlib.pyplot as plt\n",
    "\n",
    "## PROBABILITIES FOR A FAIR COIN\n",
    "Left = [0,1]\n",
    "Vals = ['H', 'T']\n",
    "Probs = [1.0/2, 1.0/2]\n",
    "\n",
    "## Plot the probabilities\n",
    "fig = plt.figure()\n",
    "H = plt.bar(Left, Probs, align='center')\n",
    "H = plt.xticks(Left, Vals)\n",
    "H = plt.ylim((0,1))\n",
    "H = plt.title(\"Probabilities for a fair coin\")"
   ]
  },
  {
   "cell_type": "code",
   "execution_count": 3,
   "metadata": {},
   "outputs": [
    {
     "data": {
      "image/png": "[encoded data removed]",
      "text/plain": [
       "<Figure size 432x288 with 1 Axes>"
      ]
     },
     "metadata": {},
     "output_type": "display_data"
    }
   ],
   "source": [
    "## PROBABILITIES FOR OF AN UNFAIR COIN\n",
    "Left = [0,1]\n",
    "Vals = ['H', 'T']\n",
    "Probs = [1.0/3, 2.0/3]\n",
    "\n",
    "## Plot the histogram\n",
    "fig = plt.figure()\n",
    "H = plt.bar(Left, Probs, align='center')\n",
    "H = plt.xticks(Left, Vals)\n",
    "H = plt.ylim((0,1))\n",
    "H = plt.title(\"Probabilities for an unfair coin -- (1/3, 2/3)\")"
   ]
  },
  {
   "cell_type": "code",
   "execution_count": 5,
   "metadata": {},
   "outputs": [
    {
     "data": {
      "image/png": "[encoded data removed]",
      "text/plain": [
       "<Figure size 432x288 with 1 Axes>"
      ]
     },
     "metadata": {},
     "output_type": "display_data"
    }
   ],
   "source": [
    "## PROBABILITIES FOR A FAIR DIE\n",
    "n = 6\n",
    "Left = range(n)\n",
    "Vals = range(1,n+1)\n",
    "Probs = n * [1.0/n]\n",
    "\n",
    "## Plot the histogram\n",
    "fig = plt.figure()\n",
    "H = plt.bar(Left, Probs, align='center')\n",
    "H = plt.xticks(Left, Vals)\n",
    "H = plt.ylim((0,1))\n",
    "H = plt.title(\"Probabilities for a fair die\")"
   ]
  },
  {
   "cell_type": "code",
   "execution_count": 6,
   "metadata": {},
   "outputs": [
    {
     "data": {
      "image/png": "[encoded data removed]",
      "text/plain": [
       "<Figure size 432x288 with 1 Axes>"
      ]
     },
     "metadata": {},
     "output_type": "display_data"
    }
   ],
   "source": [
    "## PROBABILITIES FOR AN UNFAIR FAIR DIE\n",
    "n = 6\n",
    "Left = range(n)\n",
    "Vals = range(1,n+1)\n",
    "#Probs = n * [1.0/n]\n",
    "Probs = [1.0/20] + 4*[2.0/20] + [11.0/20]\n",
    "\n",
    "## Plot the histogram\n",
    "fig = plt.figure()\n",
    "H = plt.bar(Left, Probs, align='center')\n",
    "H = plt.xticks(Left, Vals)\n",
    "H = plt.ylim((0,1))\n",
    "H = plt.grid(True)\n",
    "H = plt.title(\"Probabilities for an unfair/weighted die\\n(1/20, 2/20, 2/20, 2/20, 2/20, 11/20)\")"
   ]
  },
  {
   "cell_type": "markdown",
   "metadata": {},
   "source": [
    "**Note:** Usually we talk about possibilities as having **numeric** values so we can compute useful numerical quantities to describe random variables.\n",
    "\n",
    "            "
   ]
  },
  {
   "cell_type": "markdown",
   "metadata": {},
   "source": [
    "When there are only finitely many values attained by your variable, \n",
    "it is called a **discrete random variable**.  (These are always thought \n",
    "of as functions on a fixed probability space!)\n",
    "\n",
    "\n",
    "For these we can compute the following important quantities:\n",
    "- **Expected value/mean value** \n",
    "$$E(X) := \\mu_X := \\sum_{\\text{values $x$ of $X$}} P(X = x) \\times x$$\n",
    "- **Variance** \n",
    "\\begin{align}\n",
    "Var(X) &:= (\\sigma_X)^2\n",
    "\\\\\n",
    "&:= \\sum_{\\text{values $x$ of $X$}} P(X = x) \\times (x - E(X))^2\n",
    "\\\\\n",
    "&=  E\\left((X - E(X))^2\\right)\n",
    "\\end{align}\n",
    "- **Standard Deviation**\n",
    "$$\n",
    "\\sigma_X := \\sqrt{Var(X)}\n",
    "$$\n",
    "    \n",
    "    \n",
    "For equallly weighted (i.e. fair) discrete random variables with $n$ values this becomes:\n",
    "- Expected value/mean value \n",
    "$$\n",
    "E(X) := \\mu_X := \\frac{\\sum_{\\text{values $x$ of $X$}} x}{n}\n",
    "$$\n",
    "- Variance \n",
    "$$\n",
    "Var(X) :=  \\frac{\\sum_{\\text{values $x$ of $X$}} (x - E(X))^2}{n}\n",
    "$$\n"
   ]
  },
  {
   "cell_type": "markdown",
   "metadata": {},
   "source": [
    "### Example: Mean and variance for a fair die \n",
    "\\begin{align}\n",
    "    E(X) &= \\frac{1 + 2 + 3 + 4 + 5 + 6}{6} = \\frac{21}{6} = 3.5 \\\\\n",
    "    \\\\\n",
    "    Var(X) &= \\frac{(1 - 3.5)^2 + \\cdots + (6 - 3.5)^2}{6} \\approx 2.91666...\n",
    "    \\\\\n",
    "    \\sigma_X &= \\sqrt{Var(X)} \\approx 1.7078...\n",
    "\\end{align}\n",
    "    \n",
    "**Note:** We cannot compute the expected value or variance of a fair coin \n",
    "        without assigning its values 'H' an 'T' to numbers!"
   ]
  },
  {
   "cell_type": "markdown",
   "metadata": {},
   "source": [
    "For two discrete random variables on the same probability space, \n",
    "we can talk about their **covariance**:\n",
    "$$ $$\n",
    "\\begin{align}\n",
    "\\text{Cov}&(X,Y) \\\\\n",
    "&= \\sum_{\\substack{\\text{values $x$ of $X$}\\\\ \\text{values $y$ of $Y$}}} P(X=x, Y=y) (x - E(X))(y - E(Y))\n",
    "\\end{align}\n",
    "For equal-weighted independent random variables (say with $n$ values each), this reduces to \n",
    "$$ $$\n",
    "    $$\\text{Cov}(X,Y) = \\frac{\\sum_{x,y} (x - E(X))(y - E(Y))}{n^2}$$\n",
    "If we take X = Y then \n",
    "$$ $$\n",
    "\\begin{align}\n",
    "\\text{Cov}(X,X) &= \\frac{\\sum_{x} \\sum_{x}(x - E(X))(x - E(X))}{n^2} \\\\\n",
    "             &= \\frac{n \\times \\sum_{x} (x - E(X))(x - E(X))}{n^2} \\\\\n",
    "             &= \\frac{\\sum_{x} (x - E(X))^2}{n} \\\\\n",
    "             &= \\text{Var}(X)\n",
    "\\end{align}"
   ]
  },
  {
   "cell_type": "markdown",
   "metadata": {},
   "source": [
    "## An important probability theorem:\n",
    "\n",
    "**Law of Large Numbers (LLN informal)** -- The average value of a large number of independent \n",
    "samples of a random variable $X$ gets arbitrarily close to its expected value $E(X)$.\n",
    "\n",
    "**Law of Large Numbers (LLN formal)** -- Suppose that $X_1, ..., X_n$ are independent random \n",
    "variables with the same probability densities as the random variable $X$, then \n",
    "\n",
    "$$\n",
    "\\lim_{n \\rightarrow \\infty} \\frac{X_1 + X_2 + \\cdots + X_n}{n} = E(X).\n",
    "$$\n",
    "\n"
   ]
  },
  {
   "cell_type": "code",
   "execution_count": 17,
   "metadata": {},
   "outputs": [],
   "source": [
    "D_list = [make_die()]\n",
    "for i in range(10):\n",
    "    D_list.append(make_sum_of_two_variables(D_list[-1], D_list[-1]))"
   ]
  },
  {
   "cell_type": "code",
   "execution_count": 59,
   "metadata": {},
   "outputs": [
    {
     "data": {
      "image/png": "[encoded data removed]",
      "text/plain": [
       "<Figure size 432x288 with 1 Axes>"
      ]
     },
     "metadata": {},
     "output_type": "display_data"
    }
   ],
   "source": [
    "## Try varying 0 <= k <= 10\n",
    "k = 0\n",
    "RV_mean_scaled_histogram(D_list[k],n = 2**k)"
   ]
  },
  {
   "cell_type": "code",
   "execution_count": null,
   "metadata": {},
   "outputs": [],
   "source": []
  },
  {
   "cell_type": "markdown",
   "metadata": {},
   "source": [
    "#### Miscellaneous Calculations"
   ]
  },
  {
   "cell_type": "code",
   "execution_count": 8,
   "metadata": {},
   "outputs": [
    {
     "data": {
      "text/plain": [
       "2.9166666666666665"
      ]
     },
     "execution_count": 8,
     "metadata": {},
     "output_type": "execute_result"
    }
   ],
   "source": [
    "## Compute variance of fair die\n",
    "var = sum([(v - 3.5)**2 for v in range(1,7)])/6.0; var"
   ]
  },
  {
   "cell_type": "code",
   "execution_count": 9,
   "metadata": {},
   "outputs": [
    {
     "data": {
      "text/plain": [
       "1.707825127659933"
      ]
     },
     "execution_count": 9,
     "metadata": {},
     "output_type": "execute_result"
    }
   ],
   "source": [
    "## Compute the standard deviation of a fair die\n",
    "from math import sqrt\n",
    "sqrt(var)"
   ]
  },
  {
   "cell_type": "code",
   "execution_count": null,
   "metadata": {},
   "outputs": [],
   "source": []
  },
  {
   "cell_type": "code",
   "execution_count": null,
   "metadata": {},
   "outputs": [],
   "source": []
  },
  {
   "cell_type": "code",
   "execution_count": null,
   "metadata": {},
   "outputs": [],
   "source": []
  },
  {
   "cell_type": "code",
   "execution_count": null,
   "metadata": {},
   "outputs": [],
   "source": []
  },
  {
   "cell_type": "markdown",
   "metadata": {},
   "source": [
    "### Compute the probabilities for a sum of n coins"
   ]
  },
  {
   "cell_type": "code",
   "execution_count": 45,
   "metadata": {},
   "outputs": [],
   "source": [
    "## Python Code to create and view probability distributions!\n",
    "\n",
    "%matplotlib inline\n",
    "import matplotlib.pyplot as plt\n",
    "\n",
    "\n",
    "def make_die(d=6):\n",
    "    # dict comprehensions: \n",
    "    # RV = {val: 1./6 for val in range(1, d+1)}\n",
    "    RV = {}\n",
    "    for val in range(1, d+1):\n",
    "        RV[val] = 1.0/6    \n",
    "    return RV\n",
    "\n",
    "def make_sum_of_two_variables(V1, V2):\n",
    "    \"\"\"\n",
    "    RV = ([val_list], [prob_list])    \n",
    "    \"\"\"\n",
    "    new_V = {}\n",
    "    for v1 in V1:\n",
    "        for v2 in V2:            \n",
    "            new_V[v1 + v2] = new_V.get(v1 + v2, 0) + V1[v1] * V2[v2]\n",
    "\n",
    "    ## Adjust for roundoff error -- Rescale the probabilities to sum to one\n",
    "    inv_prob_sum = 1.0 / sum(new_V.values())\n",
    "    for k in new_V:\n",
    "        new_V[k] *= inv_prob_sum \n",
    "        \n",
    "    return new_V\n",
    "            \n",
    "\n",
    "def RV_mean(V):\n",
    "    \"\"\"\n",
    "    Return the mean of the random variable.    \n",
    "    \"\"\"\n",
    "    # return sum(val*prob for val, prob in V.iteritems())\n",
    "    mean = 0.0\n",
    "    for val, prob in V.iteritems():\n",
    "        mean += prob * val\n",
    "    return mean\n",
    "\n",
    "    \n",
    "def RV_histogram(V, n):\n",
    "    \n",
    "    Vals = V.keys()\n",
    "    Probs = [V[val] for val in Vals]\n",
    "    d = len(Vals)\n",
    "    Left = Vals\n",
    "    \n",
    "    ## Plot the histogram\n",
    "    fig = plt.figure()\n",
    "    H = plt.bar(Left, Probs, align='center', width = 1.0)\n",
    "  #  H = plt.xticks(Left, Vals)\n",
    "    H = plt.ylim((0,1))\n",
    "    if n == 1:\n",
    "        H = plt.title(\"Probabilities for one fair die\")\n",
    "    else:\n",
    "        H = plt.title(\"Probabilities for the sum of \" + str(n) + \" fair dice\")\n",
    "        \n",
    "    \n",
    "def RV_histogram__dots(V, n):\n",
    "    \n",
    "    Vals = V.keys()\n",
    "    Probs = [V[val] for val in Vals]\n",
    "    d = len(Vals)\n",
    "    Left = Vals\n",
    "    \n",
    "    ## Plot the histogram\n",
    "    fig = plt.figure()\n",
    "    H = plt.plot(Left, Probs, 'bo')\n",
    " #   H = plt.xticks(Left, Vals)\n",
    "    H = plt.ylim((0,1))\n",
    "    x_min, x_max = plt.xlim()  \n",
    "    eps = 0.5\n",
    "    H = plt.xlim([x_min - eps, x_max + eps])\n",
    "    if n == 1:\n",
    "        H = plt.title(\"Probabilities for one fair die\")\n",
    "    else:\n",
    "        H = plt.title(\"Probabilities for the sum of \" + str(n) + \" fair dice\")\n",
    "        \n",
    "    \n",
    "def RV_mean_scaled_histogram(V, n, use_unscaled_xticks=True):\n",
    "    \n",
    " #   mean = RV_mean(V)\n",
    "\n",
    "    Vals = V.keys()\n",
    "    Scaled_Vals = [1.0 * v / n   for v in V.keys()]\n",
    "    Probs = [n*V[val] for val in Vals]\n",
    "    max_prob = max(Probs + [1])\n",
    "    d = len(Vals)\n",
    "    Left = Vals\n",
    "    Scaled_Left = Scaled_Vals\n",
    "    \n",
    "    ## Plot the histogram\n",
    "    fig = plt.figure()\n",
    "    H = plt.bar(Scaled_Left, Probs, align='center', width=1.0/n)\n",
    "    if not use_unscaled_xticks:\n",
    "        H = plt.xticks(Scaled_Left, Scaled_Vals)\n",
    "    H = plt.ylim((0,max_prob))\n",
    "    if n == 1:\n",
    "        H = plt.title(\"Scaled Probabilities for one fair die\")\n",
    "    else:\n",
    "        H = plt.title(\"Scaled Probabilities for the sum of \" + str(n) + \" fair dice\")"
   ]
  },
  {
   "cell_type": "code",
   "execution_count": 46,
   "metadata": {},
   "outputs": [],
   "source": [
    "D_list = [make_die()]\n",
    "for i in range(9):\n",
    "    D_list.append(make_sum_of_two_variables(D_list[-1], D_list[-1]))"
   ]
  },
  {
   "cell_type": "code",
   "execution_count": 47,
   "metadata": {},
   "outputs": [
    {
     "data": {
      "image/png": "[encoded data removed]",
      "text/plain": [
       "<Figure size 432x288 with 1 Axes>"
      ]
     },
     "metadata": {},
     "output_type": "display_data"
    }
   ],
   "source": [
    "k = 0\n",
    "RV_histogram__dots(D_list[k],n = 2**k)\n"
   ]
  },
  {
   "cell_type": "code",
   "execution_count": 48,
   "metadata": {},
   "outputs": [
    {
     "data": {
      "image/png": "[encoded data removed]",
      "text/plain": [
       "<Figure size 432x288 with 1 Axes>"
      ]
     },
     "metadata": {},
     "output_type": "display_data"
    }
   ],
   "source": [
    "k = 1\n",
    "RV_histogram__dots(D_list[k],n = 2**k)"
   ]
  },
  {
   "cell_type": "code",
   "execution_count": 49,
   "metadata": {},
   "outputs": [
    {
     "data": {
      "image/png": "[encoded data removed]",
      "text/plain": [
       "<Figure size 432x288 with 1 Axes>"
      ]
     },
     "metadata": {},
     "output_type": "display_data"
    }
   ],
   "source": [
    "k = 0\n",
    "RV_mean_scaled_histogram(D_list[k],n = 2**k)"
   ]
  },
  {
   "cell_type": "code",
   "execution_count": 50,
   "metadata": {},
   "outputs": [
    {
     "data": {
      "image/png": "[encoded data removed]",
      "text/plain": [
       "<Figure size 432x288 with 1 Axes>"
      ]
     },
     "metadata": {},
     "output_type": "display_data"
    }
   ],
   "source": [
    "k = 1\n",
    "RV_mean_scaled_histogram(D_list[k],n = 2**k)"
   ]
  },
  {
   "cell_type": "code",
   "execution_count": 51,
   "metadata": {},
   "outputs": [
    {
     "data": {
      "image/png": "[encoded data removed]",
      "text/plain": [
       "<Figure size 432x288 with 1 Axes>"
      ]
     },
     "metadata": {},
     "output_type": "display_data"
    }
   ],
   "source": [
    "k = 2\n",
    "RV_mean_scaled_histogram(D_list[k],n = 2**k)"
   ]
  },
  {
   "cell_type": "code",
   "execution_count": 52,
   "metadata": {},
   "outputs": [
    {
     "data": {
      "image/png": "[encoded data removed]",
      "text/plain": [
       "<Figure size 432x288 with 1 Axes>"
      ]
     },
     "metadata": {},
     "output_type": "display_data"
    }
   ],
   "source": [
    "k = 3\n",
    "RV_mean_scaled_histogram(D_list[k],n = 2**k)"
   ]
  },
  {
   "cell_type": "code",
   "execution_count": 53,
   "metadata": {},
   "outputs": [
    {
     "data": {
      "image/png": "[encoded data removed]",
      "text/plain": [
       "<Figure size 432x288 with 1 Axes>"
      ]
     },
     "metadata": {},
     "output_type": "display_data"
    }
   ],
   "source": [
    "k = 4\n",
    "RV_mean_scaled_histogram(D_list[k],n = 2**k)"
   ]
  },
  {
   "cell_type": "code",
   "execution_count": 54,
   "metadata": {},
   "outputs": [
    {
     "data": {
      "image/png": "[encoded data removed]",
      "text/plain": [
       "<Figure size 432x288 with 1 Axes>"
      ]
     },
     "metadata": {},
     "output_type": "display_data"
    }
   ],
   "source": [
    "k = 5\n",
    "RV_mean_scaled_histogram(D_list[k],n = 2**k)"
   ]
  },
  {
   "cell_type": "code",
   "execution_count": 55,
   "metadata": {},
   "outputs": [
    {
     "data": {
      "image/png": "[encoded data removed]",
      "text/plain": [
       "<Figure size 432x288 with 1 Axes>"
      ]
     },
     "metadata": {},
     "output_type": "display_data"
    }
   ],
   "source": [
    "k = 6\n",
    "RV_mean_scaled_histogram(D_list[k],n = 2**k)"
   ]
  },
  {
   "cell_type": "code",
   "execution_count": 56,
   "metadata": {},
   "outputs": [
    {
     "data": {
      "image/png": "[encoded data removed]",
      "text/plain": [
       "<Figure size 432x288 with 1 Axes>"
      ]
     },
     "metadata": {},
     "output_type": "display_data"
    }
   ],
   "source": [
    "k = 7\n",
    "RV_mean_scaled_histogram(D_list[k],n = 2**k)"
   ]
  },
  {
   "cell_type": "code",
   "execution_count": 57,
   "metadata": {},
   "outputs": [
    {
     "data": {
      "image/png": "[encoded data removed]",
      "text/plain": [
       "<Figure size 432x288 with 1 Axes>"
      ]
     },
     "metadata": {},
     "output_type": "display_data"
    }
   ],
   "source": [
    "RV_histogram(D_list[0], n=1)"
   ]
  },
  {
   "cell_type": "code",
   "execution_count": 58,
   "metadata": {},
   "outputs": [
    {
     "data": {
      "image/png": "[encoded data removed]",
      "text/plain": [
       "<Figure size 432x288 with 1 Axes>"
      ]
     },
     "metadata": {},
     "output_type": "display_data"
    }
   ],
   "source": [
    "RV_histogram(D_list[1], n=2)"
   ]
  },
  {
   "cell_type": "code",
   "execution_count": null,
   "metadata": {},
   "outputs": [],
   "source": []
  },
  {
   "cell_type": "code",
   "execution_count": null,
   "metadata": {},
   "outputs": [],
   "source": []
  },
  {
   "cell_type": "code",
   "execution_count": null,
   "metadata": {},
   "outputs": [],
   "source": []
  },
  {
   "cell_type": "markdown",
   "metadata": {},
   "source": [
    "### What does probability mean?\n",
    "\n",
    "We could ask a whole bunch of probability questions (and we will!) but often times it seems like probabilities are 0 or 1. Some events cannot be repeated, so the idea that the probability is the \"result for a lot of repetitions of the same experiment\" seems flawed. For example:\n",
    "\n",
    "* **What is the probability two people in this room share a birthday?**\n",
    "    We will calculate this in class. However, someone can make the argument that we all have birthdays coming in .... so either two people share a birthday (so probability is 1) or they don't (probability is 0). \n",
    "* **What is the probability that I have cancer, given that I got a positive result on a cancer screening?**\n",
    "    This is another classic probability problem, and one that is important for people making predictions. But surely I either have cancer or I don't .... so the probability is either 0 (I don't have it) or 1 (I do) .... right?\n",
    "* **Google weather predicts a 48% chance of rain on Wednesday between 8AM and 9AM**\n",
    "    If it rains in this time, does that mean Google's prediction is wrong? What if it does rain?\n",
    "* **The German tank problem (harder interview question)**\n",
    "    In World War II, the allies spot German tanks with the serial numbers  1, 31, 43, 79, and 115. What is the most probable number of tanks the Germans have? But the Germans have an actual number of tanks.\n",
    "* **Clinton's chance of winning the election was predicted to be 99% (Sam Wong) vs 71% (Nate Silver)**\n",
    "    The election went to Donald Trump. Since each election seems to be substaintially different (unlike, say, die rolls), we cannot \"repeat\" the election multiple times. What do these probabilities mean? Can we evaulate either model?\n",
    "    \n",
    "One way of considering probabilities is that we are assigning probabilities to procedures, rather than to specific outcomes. "
   ]
  },
  {
   "cell_type": "code",
   "execution_count": null,
   "metadata": {},
   "outputs": [],
   "source": []
  },
  {
   "cell_type": "code",
   "execution_count": null,
   "metadata": {},
   "outputs": [],
   "source": []
  }
 ],
 "metadata": {
  "kernelspec": {
   "display_name": "Python 3",
   "language": "python",
   "name": "python3"
  },
  "language_info": {
   "codemirror_mode": {
    "name": "ipython",
    "version": 3
   },
   "file_extension": ".py",
   "mimetype": "text/x-python",
   "name": "python",
   "nbconvert_exporter": "python",
   "pygments_lexer": "ipython3",
   "version": "3.6.5"
  }
 },
 "nbformat": 4,
 "nbformat_minor": 1
}
