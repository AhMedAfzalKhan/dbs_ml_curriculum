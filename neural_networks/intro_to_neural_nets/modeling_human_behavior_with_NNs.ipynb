{
 "cells": [
  {
   "cell_type": "markdown",
   "metadata": {},
   "source": [
    "# Modeling Human Behavior with Phone Data"
   ]
  },
  {
   "cell_type": "markdown",
   "metadata": {},
   "source": [
    "Dataset found here: https://archive.ics.uci.edu/ml/machine-learning-databases/00240/ with information about the data here: https://archive.ics.uci.edu/ml/datasets/human+activity+recognition+using+smartphones\n",
    "\n",
    "Download that and adjust the path below to point to the folder once you extract it from the zip. That will be your dataset for today. I've already setup pandas to extract the correct files for you."
   ]
  },
  {
   "cell_type": "code",
   "execution_count": 15,
   "metadata": {
    "ExecuteTime": {
     "end_time": "2018-05-08T12:17:04.263088Z",
     "start_time": "2018-05-08T12:17:04.253911Z"
    }
   },
   "outputs": [],
   "source": [
    "import numpy as np\n",
    "import pandas as pd\n",
    "import matplotlib.pyplot as plt\n",
    "%matplotlib inline\n",
    "\n",
    "from sklearn.model_selection import train_test_split\n",
    "from sklearn.preprocessing import LabelEncoder\n",
    "from keras.utils import np_utils"
   ]
  },
  {
   "cell_type": "code",
   "execution_count": 58,
   "metadata": {
    "ExecuteTime": {
     "end_time": "2018-05-08T12:28:10.728001Z",
     "start_time": "2018-05-08T12:28:10.722816Z"
    },
    "collapsed": true
   },
   "outputs": [],
   "source": [
    "path_to_UCIHAR = '/Users/zachariahmiller/Downloads/UCI HAR Dataset'"
   ]
  },
  {
   "cell_type": "code",
   "execution_count": 59,
   "metadata": {
    "ExecuteTime": {
     "end_time": "2018-05-08T12:28:16.271667Z",
     "start_time": "2018-05-08T12:28:14.518247Z"
    },
    "collapsed": true
   },
   "outputs": [],
   "source": [
    "X_train = pd.read_csv(path_to_UCIHAR + \"/train/X_train.txt\", delim_whitespace=True, header=None)\n",
    "X_test = pd.read_csv(path_to_UCIHAR + \"/test/X_test.txt\", delim_whitespace=True, header=None)\n",
    "y_train = pd.read_csv(path_to_UCIHAR + \"/train/y_train.txt\", delim_whitespace=True, header=None)\n",
    "y_test = pd.read_csv(path_to_UCIHAR + \"/test/y_test.txt\", delim_whitespace=True, header=None)"
   ]
  },
  {
   "cell_type": "code",
   "execution_count": 39,
   "metadata": {
    "ExecuteTime": {
     "end_time": "2018-05-08T12:20:56.902258Z",
     "start_time": "2018-05-08T12:20:56.882104Z"
    }
   },
   "outputs": [
    {
     "name": "stdout",
     "output_type": "stream",
     "text": [
      "(7352, 561)\n",
      "(2947, 561)\n"
     ]
    }
   ],
   "source": [
    "print(X_train.shape)\n",
    "print(X_test.shape)"
   ]
  },
  {
   "cell_type": "markdown",
   "metadata": {},
   "source": [
    "Note: There's something weird that's happened with y_test vs y_train in my version, make sure to investigate what the unique values are in y_test and y_train!"
   ]
  },
  {
   "cell_type": "code",
   "execution_count": 40,
   "metadata": {
    "ExecuteTime": {
     "end_time": "2018-05-08T12:20:56.920891Z",
     "start_time": "2018-05-08T12:20:56.907521Z"
    }
   },
   "outputs": [],
   "source": [
    "X_train = X_train.as_matrix()\n",
    "X_test = X_test.as_matrix()\n",
    "y_train = y_train.as_matrix()\n",
    "y_test = y_test.as_matrix()"
   ]
  },
  {
   "cell_type": "code",
   "execution_count": 42,
   "metadata": {
    "ExecuteTime": {
     "end_time": "2018-05-08T12:20:58.753617Z",
     "start_time": "2018-05-08T12:20:58.744196Z"
    }
   },
   "outputs": [],
   "source": [
    "y_test = y_test - 1"
   ]
  },
  {
   "cell_type": "code",
   "execution_count": 44,
   "metadata": {
    "ExecuteTime": {
     "end_time": "2018-05-08T12:21:26.633497Z",
     "start_time": "2018-05-08T12:21:26.625516Z"
    }
   },
   "outputs": [
    {
     "data": {
      "text/plain": [
       "array([0, 1, 2, 3, 4, 5])"
      ]
     },
     "execution_count": 44,
     "metadata": {},
     "output_type": "execute_result"
    }
   ],
   "source": [
    "np.unique(y_test)"
   ]
  },
  {
   "cell_type": "code",
   "execution_count": 45,
   "metadata": {
    "ExecuteTime": {
     "end_time": "2018-05-08T12:22:09.079406Z",
     "start_time": "2018-05-08T12:22:09.071028Z"
    }
   },
   "outputs": [
    {
     "data": {
      "text/plain": [
       "array([0, 1, 2, 3, 4, 5])"
      ]
     },
     "execution_count": 45,
     "metadata": {},
     "output_type": "execute_result"
    }
   ],
   "source": [
    "np.unique(y_train)"
   ]
  },
  {
   "cell_type": "code",
   "execution_count": 48,
   "metadata": {
    "ExecuteTime": {
     "end_time": "2018-05-08T12:22:36.344205Z",
     "start_time": "2018-05-08T12:22:36.337031Z"
    }
   },
   "outputs": [],
   "source": [
    "ohe = LabelEncoder().fit(y_train)\n",
    "y_train = ohe.transform(y_train.ravel())\n",
    "y_test_t = ohe.transform(y_test.ravel())\n",
    "y_train_t = np_utils.to_categorical(y_train)\n",
    "y_test_t = np_utils.to_categorical(y_test_t)"
   ]
  },
  {
   "cell_type": "code",
   "execution_count": 55,
   "metadata": {
    "ExecuteTime": {
     "end_time": "2018-05-08T12:27:35.356156Z",
     "start_time": "2018-05-08T12:26:42.350343Z"
    }
   },
   "outputs": [
    {
     "name": "stdout",
     "output_type": "stream",
     "text": [
      "Epoch 1/10\n",
      "7352/7352 [==============================] - 5s - loss: 0.4216 - acc: 0.8217     \n",
      "Epoch 2/10\n",
      "7352/7352 [==============================] - 4s - loss: 0.2373 - acc: 0.9072     \n",
      "Epoch 3/10\n",
      "7352/7352 [==============================] - 5s - loss: 0.1609 - acc: 0.9407     \n",
      "Epoch 4/10\n",
      "7352/7352 [==============================] - 5s - loss: 0.1670 - acc: 0.9334     \n",
      "Epoch 5/10\n",
      "7352/7352 [==============================] - 4s - loss: 0.1228 - acc: 0.9516     \n",
      "Epoch 6/10\n",
      "7352/7352 [==============================] - 5s - loss: 0.1292 - acc: 0.9518     \n",
      "Epoch 7/10\n",
      "7352/7352 [==============================] - 5s - loss: 0.1378 - acc: 0.9484     \n",
      "Epoch 8/10\n",
      "7352/7352 [==============================] - 5s - loss: 0.1137 - acc: 0.9565     \n",
      "Epoch 9/10\n",
      "7352/7352 [==============================] - 5s - loss: 0.1133 - acc: 0.9591     \n",
      "Epoch 10/10\n",
      "7352/7352 [==============================] - 5s - loss: 0.1200 - acc: 0.9542     \n"
     ]
    },
    {
     "data": {
      "text/plain": [
       "<keras.callbacks.History at 0x10c7cc588>"
      ]
     },
     "execution_count": 55,
     "metadata": {},
     "output_type": "execute_result"
    }
   ],
   "source": [
    "from keras.models import Sequential\n",
    "from keras.layers import Dense, Dropout\n",
    "\n",
    "model = Sequential()\n",
    "model.add(Dense(250, input_dim=561, activation='tanh'))\n",
    "model.add(Dropout(0.2))\n",
    "model.add(Dense(400, activation='tanh'))\n",
    "model.add(Dropout(0.2))\n",
    "model.add(Dense(200, activation='tanh'))\n",
    "model.add(Dropout(0.2))\n",
    "model.add(Dense(6, activation='softmax'))\n",
    "\n",
    "# Compile model\n",
    "model.compile(loss='categorical_crossentropy', optimizer='adam', metrics=['accuracy'])\n",
    "\n",
    "# Fit the model\n",
    "model.fit(X_train, y_train_t, epochs=10, batch_size=10)"
   ]
  },
  {
   "cell_type": "code",
   "execution_count": 57,
   "metadata": {
    "ExecuteTime": {
     "end_time": "2018-05-08T12:27:39.267630Z",
     "start_time": "2018-05-08T12:27:39.001171Z"
    }
   },
   "outputs": [
    {
     "name": "stdout",
     "output_type": "stream",
     "text": [
      "2240/2947 [=====================>........] - ETA: 0s"
     ]
    },
    {
     "data": {
      "text/plain": [
       "[0.44045007732083902, 0.89582626399728538]"
      ]
     },
     "execution_count": 57,
     "metadata": {},
     "output_type": "execute_result"
    }
   ],
   "source": [
    "model.evaluate(X_test, y_test_t)"
   ]
  },
  {
   "cell_type": "code",
   "execution_count": 60,
   "metadata": {
    "ExecuteTime": {
     "end_time": "2018-05-08T12:32:19.456129Z",
     "start_time": "2018-05-08T12:32:19.440585Z"
    }
   },
   "outputs": [
    {
     "name": "stdout",
     "output_type": "stream",
     "text": [
      "_________________________________________________________________\n",
      "Layer (type)                 Output Shape              Param #   \n",
      "=================================================================\n",
      "dense_13 (Dense)             (None, 250)               140500    \n",
      "_________________________________________________________________\n",
      "dropout_2 (Dropout)          (None, 250)               0         \n",
      "_________________________________________________________________\n",
      "dense_14 (Dense)             (None, 400)               100400    \n",
      "_________________________________________________________________\n",
      "dropout_3 (Dropout)          (None, 400)               0         \n",
      "_________________________________________________________________\n",
      "dense_15 (Dense)             (None, 200)               80200     \n",
      "_________________________________________________________________\n",
      "dropout_4 (Dropout)          (None, 200)               0         \n",
      "_________________________________________________________________\n",
      "dense_16 (Dense)             (None, 6)                 1206      \n",
      "=================================================================\n",
      "Total params: 322,306\n",
      "Trainable params: 322,306\n",
      "Non-trainable params: 0\n",
      "_________________________________________________________________\n"
     ]
    }
   ],
   "source": [
    "model.summary()"
   ]
  },
  {
   "cell_type": "code",
   "execution_count": null,
   "metadata": {
    "collapsed": true
   },
   "outputs": [],
   "source": []
  }
 ],
 "metadata": {
  "kernelspec": {
   "display_name": "Python [default]",
   "language": "python",
   "name": "python3"
  },
  "language_info": {
   "codemirror_mode": {
    "name": "ipython",
    "version": 3
   },
   "file_extension": ".py",
   "mimetype": "text/x-python",
   "name": "python",
   "nbconvert_exporter": "python",
   "pygments_lexer": "ipython3",
   "version": "3.6.6"
  },
  "toc": {
   "nav_menu": {},
   "number_sections": true,
   "sideBar": true,
   "skip_h1_title": false,
   "toc_cell": false,
   "toc_position": {},
   "toc_section_display": "block",
   "toc_window_display": false
  }
 },
 "nbformat": 4,
 "nbformat_minor": 2
}
