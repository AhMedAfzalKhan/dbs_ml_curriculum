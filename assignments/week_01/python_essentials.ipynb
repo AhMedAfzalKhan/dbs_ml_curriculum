{
 "cells": [
  {
   "cell_type": "markdown",
   "metadata": {},
   "source": [
    "Before you turn this problem in, make sure everything runs as expected. First, **restart the kernel** (in the menubar, select Kernel$\\rightarrow$Restart) and then **run all cells** (in the menubar, select Cell$\\rightarrow$Run All).\n",
    "\n",
    "Make sure you fill in any place that says `YOUR CODE HERE` or \"YOUR ANSWER HERE\", as well as your name and collaborators below:"
   ]
  },
  {
   "cell_type": "code",
   "execution_count": null,
   "metadata": {},
   "outputs": [],
   "source": [
    "NAME = \"\"\n",
    "COLLABORATORS = \"\""
   ]
  },
  {
   "cell_type": "markdown",
   "metadata": {},
   "source": [
    "---"
   ]
  },
  {
   "cell_type": "markdown",
   "metadata": {
    "deletable": false,
    "editable": false,
    "nbgrader": {
     "checksum": "559e25344fee5ec09ac4e84ae036a119",
     "grade": false,
     "grade_id": "jupyter",
     "locked": true,
     "schema_version": 1,
     "solution": false
    }
   },
   "source": [
    "This first assignment is meant to determine your mastery the python essentials. \n",
    "\n",
    "It is set up so that if you can complete the assignment successfully, you're ready to begin the coding component of the course.\n",
    "\n",
    "Don't worry if you get stuck! You can cover the essentials of coding in [python here](https://github.com/thisismetis/dbs_ml_curriculum/tree/master/curriculum/ml_intro/python-review)"
   ]
  },
  {
   "cell_type": "markdown",
   "metadata": {
    "deletable": false,
    "editable": false,
    "nbgrader": {
     "checksum": "be486a8b6b3a450940bc526343503efe",
     "grade": false,
     "grade_id": "cell-a1fa19a616219ade",
     "locked": true,
     "schema_version": 1,
     "solution": false
    }
   },
   "source": [
    "---\n",
    "## Part A (2 points)\n",
    "\n",
    "Write a function that takes in a list of a class roster like the one above and returns a list of the first names of each student in the list. \n",
    "\n",
    "\n",
    "Make sure that the function does the following:\n",
    "- If a first name appears twice in the roster, it should appear twice in what the function returns. \n",
    "- The output list should be sorted alphabetically.\n"
   ]
  },
  {
   "cell_type": "code",
   "execution_count": null,
   "metadata": {
    "ExecuteTime": {
     "end_time": "2019-01-22T01:24:49.713810Z",
     "start_time": "2019-01-22T01:24:49.695405Z"
    },
    "deletable": false,
    "nbgrader": {
     "checksum": "086b9379935a26bcf0916fe810ff1591",
     "grade": false,
     "grade_id": "first_names",
     "locked": false,
     "schema_version": 1,
     "solution": true
    }
   },
   "outputs": [],
   "source": [
    "def get_first_names(class_list):\n",
    "    \"\"\"This function takes in a list of a class roster like the one above\n",
    "        and returns a list of the first names of each \n",
    "        student in the list. If a first name appears twice in the roster, it \n",
    "        should  appear twice in what the function returns. \n",
    "    \n",
    "    \"\"\"\n",
    "    # YOUR CODE HERE\n",
    "    raise NotImplementedError()"
   ]
  },
  {
   "cell_type": "markdown",
   "metadata": {},
   "source": [
    "Write a test case for your function to make sure it works"
   ]
  },
  {
   "cell_type": "code",
   "execution_count": null,
   "metadata": {
    "ExecuteTime": {
     "end_time": "2019-01-22T01:24:51.267134Z",
     "start_time": "2019-01-22T01:24:51.262930Z"
    }
   },
   "outputs": [],
   "source": [
    "# test things out here"
   ]
  },
  {
   "cell_type": "code",
   "execution_count": null,
   "metadata": {
    "ExecuteTime": {
     "end_time": "2019-01-22T01:24:52.220479Z",
     "start_time": "2019-01-22T01:24:52.206815Z"
    },
    "deletable": false,
    "editable": false,
    "nbgrader": {
     "checksum": "e5a1dbd3cf30e27d39bdf13d5f6d95c9",
     "grade": true,
     "grade_id": "first_names_test",
     "locked": false,
     "points": 10,
     "schema_version": 1,
     "solution": false
    }
   },
   "outputs": [],
   "source": [
    "spring_class_list = [\n",
    "    'Timothy Butler', 'Heather Williams', 'Kimberly Harris', 'Lisa Miller',\n",
    "    'Carrie Gonzalez', 'Nicholas Fitzgerald', 'Jessica Bird', 'Maria Steele',\n",
    "    'Hannah Cruz', 'Heather Watkins'\n",
    "]\n",
    "spring_first_names = [\n",
    "    'Carrie', 'Hannah', 'Heather', 'Heather', 'Jessica', 'Kimberly', 'Lisa',\n",
    "    'Maria', 'Nicholas', 'Timothy'\n",
    "]\n",
    "\n",
    "assert get_first_names(spring_class_list) == spring_first_names"
   ]
  },
  {
   "cell_type": "code",
   "execution_count": null,
   "metadata": {
    "ExecuteTime": {
     "end_time": "2019-01-22T01:24:53.015393Z",
     "start_time": "2019-01-22T01:24:52.993372Z"
    },
    "deletable": false,
    "editable": false,
    "nbgrader": {
     "checksum": "168dec368c814a562d2887ee34e27d76",
     "grade": true,
     "grade_id": "first_names_edge",
     "locked": false,
     "points": 5,
     "schema_version": 1,
     "solution": false
    }
   },
   "outputs": [],
   "source": [
    "spring_class_list.append(\"heather billiams\")\n",
    "spring_first_names.insert(2, \"Heather\")\n",
    "\n",
    "assert get_first_names(spring_class_list) == spring_first_names\n",
    "\n",
    "spring_class_list.append(\"HEATHER Villiams\")\n",
    "spring_first_names.insert(2, \"Heather\")\n",
    "\n",
    "assert get_first_names(spring_class_list) == spring_first_names"
   ]
  },
  {
   "cell_type": "code",
   "execution_count": null,
   "metadata": {},
   "outputs": [],
   "source": []
  }
 ],
 "metadata": {
  "kernelspec": {
   "display_name": "Python 3",
   "language": "python",
   "name": "python3"
  },
  "language_info": {
   "codemirror_mode": {
    "name": "ipython",
    "version": 3
   },
   "file_extension": ".py",
   "mimetype": "text/x-python",
   "name": "python",
   "nbconvert_exporter": "python",
   "pygments_lexer": "ipython3",
   "version": "3.6.7"
  }
 },
 "nbformat": 4,
 "nbformat_minor": 1
}
