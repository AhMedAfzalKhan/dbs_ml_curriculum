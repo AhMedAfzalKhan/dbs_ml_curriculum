{
 "cells": [
  {
   "cell_type": "markdown",
   "metadata": {},
   "source": [
    "Before you turn this problem in, make sure everything runs as expected. First, **restart the kernel** (in the menubar, select Kernel$\\rightarrow$Restart) and then **run all cells** (in the menubar, select Cell$\\rightarrow$Run All).\n",
    "\n",
    "Make sure you fill in any place that says `YOUR CODE HERE` or \"YOUR ANSWER HERE\", as well as your name and collaborators below:"
   ]
  },
  {
   "cell_type": "code",
   "execution_count": null,
   "metadata": {},
   "outputs": [],
   "source": [
    "NAME = \"\"\n",
    "COLLABORATORS = \"\""
   ]
  },
  {
   "cell_type": "markdown",
   "metadata": {},
   "source": [
    "---"
   ]
  },
  {
   "cell_type": "code",
   "execution_count": null,
   "metadata": {
    "ExecuteTime": {
     "end_time": "2019-01-29T15:47:41.849159Z",
     "start_time": "2019-01-29T15:47:39.960597Z"
    },
    "deletable": false,
    "editable": false,
    "nbgrader": {
     "checksum": "14689bd1296b9062a22f713a50399e22",
     "grade": false,
     "grade_id": "cell-13c640a9d81c2277",
     "locked": true,
     "schema_version": 1,
     "solution": false
    }
   },
   "outputs": [],
   "source": [
    "#######################\n",
    "# standard code block #\n",
    "#######################\n",
    "\n",
    "# see https://ipython.readthedocs.io/en/stable/interactive/magics.html\n",
    "%pylab inline\n",
    "%config InlineBackend.figure_formats = ['retina']\n",
    "\n",
    "#######################\n",
    "#       imports       #\n",
    "#######################\n",
    "import pandas as pd\n",
    "import seaborn as sns\n",
    "# import sklearn\n",
    "\n",
    "sns.set_style(\"whitegrid\", {\"font.family\": [\"serif\"]})"
   ]
  },
  {
   "cell_type": "markdown",
   "metadata": {},
   "source": [
    "# Predicting House Prices - A case study with SciKit Learn and Pandas"
   ]
  },
  {
   "cell_type": "markdown",
   "metadata": {
    "run_control": {
     "frozen": false,
     "read_only": false
    }
   },
   "source": [
    "In this section, we will walk through how to build regression models in scikit-learn.\n",
    "\n",
    "We will load in a the Ames Housing Data, split into train and test sets, and build some models.\n",
    "\n",
    "Using the Ames Housing Data:\n",
    "\n",
    "Dean De Cock\n",
    "Truman State University\n",
    "Journal of Statistics Education Volume 19, Number 3(2011), www.amstat.org/publications/jse/v19n3/decock.pdf"
   ]
  },
  {
   "cell_type": "code",
   "execution_count": null,
   "metadata": {
    "ExecuteTime": {
     "end_time": "2019-01-29T15:47:42.946362Z",
     "start_time": "2019-01-29T15:47:42.500171Z"
    },
    "deletable": false,
    "editable": false,
    "nbgrader": {
     "checksum": "6ea39a63024994a927ea9e9dd1c7c0c5",
     "grade": false,
     "grade_id": "cell-37d6e1329232b5d8",
     "locked": true,
     "schema_version": 1,
     "solution": false
    }
   },
   "outputs": [],
   "source": [
    "df=pd.read_csv(\"http://www.amstat.org/publications/jse/v19n3/decock/AmesHousing.txt\", sep='\\t')"
   ]
  },
  {
   "cell_type": "code",
   "execution_count": null,
   "metadata": {
    "ExecuteTime": {
     "end_time": "2019-01-29T15:47:43.193530Z",
     "start_time": "2019-01-29T15:47:43.150056Z"
    },
    "deletable": false,
    "editable": false,
    "nbgrader": {
     "checksum": "e48c7db67bed4494ab9d82c07cfd50dc",
     "grade": false,
     "grade_id": "cell-898ff7205433eb4b",
     "locked": true,
     "schema_version": 1,
     "solution": false
    }
   },
   "outputs": [],
   "source": [
    "df.info()"
   ]
  },
  {
   "cell_type": "markdown",
   "metadata": {
    "run_control": {
     "frozen": false,
     "read_only": false
    }
   },
   "source": [
    "### Data Dictionary\n",
    "A description of the variables can be found here:\n",
    "\n",
    "https://ww2.amstat.org/publications/jse/v19n3/decock/DataDocumentation.txt\n",
    "\n"
   ]
  },
  {
   "cell_type": "markdown",
   "metadata": {
    "run_control": {
     "frozen": false,
     "read_only": false
    }
   },
   "source": [
    "### Data Cleaning\n",
    "From the above, and reading the documentation, here are a few things to note about this data set:\n",
    "- SalePrice is our target variable\n",
    "- The authors recommend removing the few houses that are >4000 SQFT (based on the 'Gr Liv Area' variable)\n",
    "- Many columns have missing data (based on the number of \"non-null\" entries in each column\n",
    "- We have many predictor variables"
   ]
  },
  {
   "cell_type": "markdown",
   "metadata": {},
   "source": [
    "### Challenge 1: Remove all houses that are greater than 4000 sqft with filtering (‘Gr Liv Area’)"
   ]
  },
  {
   "cell_type": "code",
   "execution_count": null,
   "metadata": {
    "ExecuteTime": {
     "end_time": "2019-01-29T15:47:45.495884Z",
     "start_time": "2019-01-29T15:47:45.484226Z"
    }
   },
   "outputs": [],
   "source": [
    "df.shape"
   ]
  },
  {
   "cell_type": "code",
   "execution_count": null,
   "metadata": {
    "ExecuteTime": {
     "end_time": "2019-01-29T15:47:46.158205Z",
     "start_time": "2019-01-29T15:47:46.146165Z"
    },
    "deletable": false,
    "nbgrader": {
     "checksum": "6ac1d58146a739dd8fe8a23bbdc378c1",
     "grade": false,
     "grade_id": "cell-5ff1d786592adee9",
     "locked": false,
     "schema_version": 1,
     "solution": true
    },
    "run_control": {
     "frozen": false,
     "read_only": false
    }
   },
   "outputs": [],
   "source": [
    "# Let's remove the large houses as suggested by the authors\n",
    "\n",
    "# YOUR CODE HERE\n",
    "raise NotImplementedError()\n"
   ]
  },
  {
   "cell_type": "code",
   "execution_count": null,
   "metadata": {
    "ExecuteTime": {
     "end_time": "2019-01-29T15:47:49.303647Z",
     "start_time": "2019-01-29T15:47:49.297156Z"
    },
    "deletable": false,
    "editable": false,
    "nbgrader": {
     "checksum": "462fe7ce4b07223627e23c4e329c47fb",
     "grade": true,
     "grade_id": "cell-4f0edd3518ed4526",
     "locked": true,
     "points": 10,
     "schema_version": 1,
     "solution": false
    }
   },
   "outputs": [],
   "source": [
    "assert df.shape == (2925, 82)"
   ]
  },
  {
   "cell_type": "markdown",
   "metadata": {
    "run_control": {
     "frozen": false,
     "read_only": false
    }
   },
   "source": [
    "- How many data points did we remove from the data set?"
   ]
  },
  {
   "cell_type": "markdown",
   "metadata": {
    "ExecuteTime": {
     "end_time": "2018-06-08T21:50:38.372133Z",
     "start_time": "2018-06-08T21:50:38.369651Z"
    },
    "collapsed": true,
    "run_control": {
     "frozen": false,
     "read_only": false
    }
   },
   "source": [
    "## Next, let's restrict ourselves to just a few variables to get started"
   ]
  },
  {
   "cell_type": "code",
   "execution_count": null,
   "metadata": {
    "ExecuteTime": {
     "end_time": "2019-01-29T15:47:55.331750Z",
     "start_time": "2019-01-29T15:47:55.323288Z"
    },
    "deletable": false,
    "editable": false,
    "nbgrader": {
     "checksum": "a2ca2f10965811deb06272999683bb3e",
     "grade": false,
     "grade_id": "cell-2bfedc59011a5cbf",
     "locked": true,
     "schema_version": 1,
     "solution": false
    },
    "run_control": {
     "frozen": false,
     "read_only": false
    }
   },
   "outputs": [],
   "source": [
    "smaller_df= df[['Lot Area','Overall Qual',\n",
    "       'Overall Cond', 'Year Built', 'Year Remod/Add',\n",
    "        'Gr Liv Area', \n",
    "        'Full Bath', 'Bedroom AbvGr',\n",
    "        'Fireplaces', 'Garage Cars','SalePrice']]"
   ]
  },
  {
   "cell_type": "code",
   "execution_count": null,
   "metadata": {
    "ExecuteTime": {
     "end_time": "2019-01-29T15:47:55.819161Z",
     "start_time": "2019-01-29T15:47:55.770648Z"
    },
    "deletable": false,
    "editable": false,
    "nbgrader": {
     "checksum": "aa4d155912bfdbaea7de3c8bd7b97792",
     "grade": false,
     "grade_id": "cell-d9c5ca3ba67260cf",
     "locked": true,
     "schema_version": 1,
     "solution": false
    }
   },
   "outputs": [],
   "source": [
    "smaller_df = df.select_dtypes(\"number\").dropna()"
   ]
  },
  {
   "cell_type": "code",
   "execution_count": null,
   "metadata": {
    "ExecuteTime": {
     "end_time": "2019-01-29T15:47:57.906087Z",
     "start_time": "2019-01-29T15:47:57.664697Z"
    },
    "run_control": {
     "frozen": false,
     "read_only": false
    }
   },
   "outputs": [],
   "source": [
    "## Let's have a look at these variables\n",
    "\n",
    "smaller_df.describe()"
   ]
  },
  {
   "cell_type": "code",
   "execution_count": null,
   "metadata": {
    "ExecuteTime": {
     "end_time": "2019-01-29T15:47:58.680953Z",
     "start_time": "2019-01-29T15:47:58.660283Z"
    },
    "run_control": {
     "frozen": false,
     "read_only": false
    }
   },
   "outputs": [],
   "source": [
    "smaller_df.info()"
   ]
  },
  {
   "cell_type": "code",
   "execution_count": null,
   "metadata": {
    "ExecuteTime": {
     "end_time": "2019-01-29T15:47:59.465994Z",
     "start_time": "2019-01-29T15:47:59.460024Z"
    },
    "run_control": {
     "frozen": false,
     "read_only": false
    }
   },
   "outputs": [],
   "source": [
    "# There appears to be one NA in Garage Cars - fill with 0\n",
    "smaller_df = smaller_df.fillna(0)"
   ]
  },
  {
   "cell_type": "code",
   "execution_count": null,
   "metadata": {
    "ExecuteTime": {
     "end_time": "2019-01-29T15:48:00.309694Z",
     "start_time": "2019-01-29T15:48:00.285289Z"
    },
    "run_control": {
     "frozen": false,
     "read_only": false
    }
   },
   "outputs": [],
   "source": [
    "smaller_df.info()"
   ]
  },
  {
   "cell_type": "code",
   "execution_count": null,
   "metadata": {
    "ExecuteTime": {
     "end_time": "2019-01-29T15:48:03.277327Z",
     "start_time": "2019-01-29T15:48:03.271037Z"
    },
    "run_control": {
     "frozen": false,
     "read_only": false
    }
   },
   "outputs": [],
   "source": [
    "import seaborn as sns"
   ]
  },
  {
   "cell_type": "code",
   "execution_count": null,
   "metadata": {
    "ExecuteTime": {
     "end_time": "2019-01-29T15:48:12.937015Z",
     "start_time": "2019-01-29T15:48:03.697986Z"
    },
    "run_control": {
     "frozen": false,
     "read_only": false
    }
   },
   "outputs": [],
   "source": [
    "## Let's do a pairplot with seaborn to get a sense of the variables in this data set\n",
    "sns.pairplot(smaller_df, y_vars=[\"SalePrice\"], x_vars=smaller_df.columns)"
   ]
  },
  {
   "cell_type": "markdown",
   "metadata": {
    "collapsed": true,
    "run_control": {
     "frozen": false,
     "read_only": false
    }
   },
   "source": [
    "### Comprehension question\n",
    "From the pairplot above:\n",
    "\n",
    "- Which variables seem to have the strongest correlations with SalePrice?"
   ]
  },
  {
   "cell_type": "code",
   "execution_count": null,
   "metadata": {
    "ExecuteTime": {
     "end_time": "2019-01-29T15:48:13.979472Z",
     "start_time": "2019-01-29T15:48:12.940109Z"
    }
   },
   "outputs": [],
   "source": [
    "sns.heatmap(smaller_df.corr())"
   ]
  },
  {
   "cell_type": "markdown",
   "metadata": {
    "run_control": {
     "frozen": false,
     "read_only": false
    }
   },
   "source": [
    "### Train - Test Splits"
   ]
  },
  {
   "cell_type": "markdown",
   "metadata": {
    "run_control": {
     "frozen": false,
     "read_only": false
    }
   },
   "source": [
    "Train-test splitting is a big part of the data science pipeline. The reason being, we're always trying to build models that perform well \"in the wild.\" This means that in order to evaluate our model's performance, we need to test it on data that we didn't use when building the model. This means we often want to cut out some section of our data before we do any model-building; to save for use as a \"evaluator\" of how our model performs on data it's never seen before. \n",
    "\n",
    "<img src=\"images/train_test_split.png\">\n",
    "\n",
    "In SkLearn, we use `train_test_split` to do this, which allows us to randomly sample the data instead of taking one big chunk. "
   ]
  },
  {
   "cell_type": "code",
   "execution_count": null,
   "metadata": {
    "ExecuteTime": {
     "end_time": "2019-01-29T15:48:14.275970Z",
     "start_time": "2019-01-29T15:48:13.982594Z"
    },
    "deletable": false,
    "editable": false,
    "nbgrader": {
     "checksum": "1d321d9bddfc620ef93143389bec7045",
     "grade": false,
     "grade_id": "cell-f0096d30c2de36fc",
     "locked": true,
     "schema_version": 1,
     "solution": false
    },
    "run_control": {
     "frozen": false,
     "read_only": false
    }
   },
   "outputs": [],
   "source": [
    "from sklearn.model_selection import train_test_split"
   ]
  },
  {
   "cell_type": "code",
   "execution_count": null,
   "metadata": {
    "ExecuteTime": {
     "end_time": "2019-01-29T15:48:14.757946Z",
     "start_time": "2019-01-29T15:48:14.745267Z"
    },
    "deletable": false,
    "editable": false,
    "nbgrader": {
     "checksum": "8eb33b6e50a27f6f14556cd850e6140d",
     "grade": false,
     "grade_id": "cell-757bbe0543efa318",
     "locked": true,
     "schema_version": 1,
     "solution": false
    },
    "run_control": {
     "frozen": false,
     "read_only": false
    }
   },
   "outputs": [],
   "source": [
    "#Split the data 70-30 train/test\n",
    "X = smaller_df.drop(['SalePrice'], axis=1)\n",
    "y = smaller_df['SalePrice']\n",
    "X_train, X_test, y_train, y_test = train_test_split(X, y, test_size=0.3,random_state=42)"
   ]
  },
  {
   "cell_type": "code",
   "execution_count": null,
   "metadata": {
    "ExecuteTime": {
     "end_time": "2019-01-29T15:12:57.820987Z",
     "start_time": "2019-01-29T15:12:57.809402Z"
    },
    "run_control": {
     "frozen": false,
     "read_only": false
    }
   },
   "outputs": [],
   "source": [
    "X_train.shape, X_test.shape"
   ]
  },
  {
   "cell_type": "code",
   "execution_count": null,
   "metadata": {
    "ExecuteTime": {
     "end_time": "2019-01-29T15:13:00.853243Z",
     "start_time": "2019-01-29T15:13:00.837832Z"
    },
    "run_control": {
     "frozen": false,
     "read_only": false
    }
   },
   "outputs": [],
   "source": [
    "X_train.columns"
   ]
  },
  {
   "cell_type": "markdown",
   "metadata": {
    "run_control": {
     "frozen": false,
     "read_only": false
    }
   },
   "source": [
    "## Linear Regression\n",
    "In the first part of this notebook we will use linear regression.  We will start with a simple one-variable linear regression and then proceed to more complicated models."
   ]
  },
  {
   "cell_type": "code",
   "execution_count": null,
   "metadata": {
    "ExecuteTime": {
     "end_time": "2019-01-29T15:13:04.834649Z",
     "start_time": "2019-01-29T15:13:04.678677Z"
    },
    "run_control": {
     "frozen": false,
     "read_only": false
    }
   },
   "outputs": [],
   "source": [
    "from sklearn.linear_model import LinearRegression"
   ]
  },
  {
   "cell_type": "code",
   "execution_count": null,
   "metadata": {
    "ExecuteTime": {
     "end_time": "2019-01-29T15:13:05.989570Z",
     "start_time": "2019-01-29T15:13:05.982363Z"
    },
    "run_control": {
     "frozen": false,
     "read_only": false
    }
   },
   "outputs": [],
   "source": [
    "# First let us fit only on Living Area (sqft)\n",
    "selected_columns_1 = ['Gr Liv Area']"
   ]
  },
  {
   "cell_type": "markdown",
   "metadata": {
    "run_control": {
     "frozen": false,
     "read_only": false
    }
   },
   "source": [
    "### Sklearn Modeling\n",
    "The package scikit-learn has a particular structure to their predictive modeling functionality.  Typically, a model is \"defined\" then it is \"fit\" (to a set of examples with their answers).  Then the trained model can be used to predict on a set of (unlabeled) data points.  We will walk through this process in the next few cells."
   ]
  },
  {
   "cell_type": "code",
   "execution_count": null,
   "metadata": {
    "ExecuteTime": {
     "end_time": "2019-01-29T15:13:08.147518Z",
     "start_time": "2019-01-29T15:13:08.100000Z"
    },
    "run_control": {
     "frozen": false,
     "read_only": false
    }
   },
   "outputs": [],
   "source": [
    "## First we define a `default` LinearRegression model and fit it to the data (with just `Gr Liv Area' as a predictor\n",
    "## and SalePrice as the targer.)\n",
    "\n",
    "lr_model1 = LinearRegression()\n",
    "lr_model1.fit(X_train[selected_columns_1],y_train)"
   ]
  },
  {
   "cell_type": "code",
   "execution_count": null,
   "metadata": {
    "ExecuteTime": {
     "end_time": "2019-01-29T15:13:08.871640Z",
     "start_time": "2019-01-29T15:13:08.862129Z"
    },
    "run_control": {
     "frozen": false,
     "read_only": false
    }
   },
   "outputs": [],
   "source": [
    "## Let us look at the (single) variable coefficient and the intercept\n",
    "lr_model1.coef_, lr_model1.intercept_"
   ]
  },
  {
   "cell_type": "markdown",
   "metadata": {
    "run_control": {
     "frozen": false,
     "read_only": false
    }
   },
   "source": [
    "### Comprehension Question\n",
    "- What would this simple model predict as the sales price of a 1000 sq ft home?\n",
    "- Does that seem reasonable? (Remember, these are house prices in Ames, Iowa between 2006 and 2010)\n",
    "- Write a function that takes the variables above and predicts the output"
   ]
  },
  {
   "cell_type": "code",
   "execution_count": null,
   "metadata": {
    "ExecuteTime": {
     "end_time": "2019-01-29T15:13:10.570740Z",
     "start_time": "2019-01-29T15:13:10.559863Z"
    }
   },
   "outputs": [],
   "source": [
    "def make_prediction(beta_0, beta_1, sqft):\n",
    "    return beta_0 + beta_1*sqft\n",
    "\n",
    "make_prediction(lr_model1.intercept_, lr_model1.coef_, 1000)"
   ]
  },
  {
   "cell_type": "markdown",
   "metadata": {
    "run_control": {
     "frozen": false,
     "read_only": false
    }
   },
   "source": [
    "## Plotting the Regression Line\n",
    "Let's use our knowledge of Matplotlib/Seaborn to make some plots of this data. Let's begin by plotting Price vs Square Footage. Let's also add a line for our model."
   ]
  },
  {
   "cell_type": "code",
   "execution_count": null,
   "metadata": {
    "ExecuteTime": {
     "end_time": "2019-01-29T15:13:16.644313Z",
     "start_time": "2019-01-29T15:13:15.535950Z"
    },
    "run_control": {
     "frozen": false,
     "read_only": false
    }
   },
   "outputs": [],
   "source": [
    "plt.figure(figsize=(10,8))\n",
    "plt.scatter(X_train['Gr Liv Area'],y_train,alpha=.1)\n",
    "vec1 = np.linspace(0,4000,1000)\n",
    "plt.plot(vec1, lr_model1.intercept_ + lr_model1.coef_[0]*vec1,'r')\n",
    "plt.title(\"Housing Prices in Ames Iowa by Sq Ft (Training Set)\")\n",
    "plt.xlabel(\"Sq ft of home\")\n",
    "plt.ylabel(\"Price of home\");"
   ]
  },
  {
   "cell_type": "code",
   "execution_count": null,
   "metadata": {
    "ExecuteTime": {
     "end_time": "2019-01-29T15:13:21.571722Z",
     "start_time": "2019-01-29T15:13:20.539291Z"
    },
    "run_control": {
     "frozen": false,
     "read_only": false
    }
   },
   "outputs": [],
   "source": [
    "# Let's make a similar plot for the test set\n",
    "\n",
    "plt.figure(figsize=(10,8))\n",
    "plt.scatter(X_test['Gr Liv Area'],y_test,alpha=.1)\n",
    "vec1 = np.linspace(0,4000,1000)\n",
    "plt.plot(vec1, lr_model1.intercept_ + lr_model1.coef_[0]*vec1,'r')\n",
    "plt.title(\"Housing Prices in Ames Iowa by Sq Ft (Test Set)\")\n",
    "plt.xlabel(\"Sq ft of home\")\n",
    "plt.ylabel(\"Price of home\");"
   ]
  },
  {
   "cell_type": "code",
   "execution_count": null,
   "metadata": {
    "ExecuteTime": {
     "end_time": "2019-01-29T15:13:25.282508Z",
     "start_time": "2019-01-29T15:13:25.273065Z"
    },
    "run_control": {
     "frozen": false,
     "read_only": false
    }
   },
   "outputs": [],
   "source": [
    "# Let's get predictions of the model on the test set\n",
    "# Note the use of the `model.predict(feature_matrix)` syntax\n",
    "\n",
    "test_set_pred1 = lr_model1.predict(X_test[selected_columns_1])"
   ]
  },
  {
   "cell_type": "markdown",
   "metadata": {},
   "source": [
    "A very useful plot for diagnosing problems is to plot the actual price vs the predicted price. If our model was perfect, every point would be on a perfect 45-degree line starting from (0,0) and extending up with a slope 1. Let's see how we did here."
   ]
  },
  {
   "cell_type": "code",
   "execution_count": null,
   "metadata": {
    "ExecuteTime": {
     "end_time": "2019-01-29T15:13:33.395635Z",
     "start_time": "2019-01-29T15:13:32.388657Z"
    },
    "run_control": {
     "frozen": false,
     "read_only": false
    }
   },
   "outputs": [],
   "source": [
    "## Let's plot the actual vs expected house price (along with the line x=y for reference)\n",
    "plt.figure(figsize=(10,8))\n",
    "plt.scatter(test_set_pred1,y_test,alpha=.1)\n",
    "plt.plot(np.linspace(0,600000,1000),np.linspace(0,600000,1000), 'r-')\n",
    "plt.xlabel(\"Predicted\")\n",
    "plt.ylabel(\"Actual\");"
   ]
  },
  {
   "cell_type": "markdown",
   "metadata": {},
   "source": [
    "Let's talk about some metrics and what they're used for."
   ]
  },
  {
   "cell_type": "code",
   "execution_count": null,
   "metadata": {
    "ExecuteTime": {
     "end_time": "2019-01-29T15:13:33.775933Z",
     "start_time": "2019-01-29T15:13:33.758730Z"
    },
    "run_control": {
     "frozen": false,
     "read_only": false
    }
   },
   "outputs": [],
   "source": [
    "# How good is our model on the test set?\n",
    "\n",
    "# Mean Squared Error\n",
    "def mean_square_error(true, pred):\n",
    "    return np.mean((pred - true)**2)\n",
    "\n",
    "mean_square_error(y_test,test_set_pred1)"
   ]
  },
  {
   "cell_type": "code",
   "execution_count": null,
   "metadata": {
    "ExecuteTime": {
     "end_time": "2019-01-29T15:13:34.437331Z",
     "start_time": "2019-01-29T15:13:34.424894Z"
    },
    "run_control": {
     "frozen": false,
     "read_only": false
    }
   },
   "outputs": [],
   "source": [
    "# Root Mean Square Error\n",
    "def root_mean_square_error(true,pred):\n",
    "    return np.sqrt(mean_square_error(true,pred))\n",
    "\n",
    "root_mean_square_error(y_test,test_set_pred1)"
   ]
  },
  {
   "cell_type": "code",
   "execution_count": null,
   "metadata": {
    "ExecuteTime": {
     "end_time": "2019-01-29T15:13:34.874165Z",
     "start_time": "2019-01-29T15:13:34.860506Z"
    },
    "run_control": {
     "frozen": false,
     "read_only": false
    }
   },
   "outputs": [],
   "source": [
    "# Mean Absolute Deviation\n",
    "def mean_absolute_deviation(true,pred):\n",
    "    return np.mean(np.abs(pred - true))\n",
    "\n",
    "mean_absolute_deviation(y_test, test_set_pred1)"
   ]
  },
  {
   "cell_type": "code",
   "execution_count": null,
   "metadata": {
    "ExecuteTime": {
     "end_time": "2019-01-29T15:13:35.415938Z",
     "start_time": "2019-01-29T15:13:35.392527Z"
    },
    "run_control": {
     "frozen": false,
     "read_only": false
    }
   },
   "outputs": [],
   "source": [
    "# R^2\n",
    "\n",
    "def R2_score(true,pred):\n",
    "    y_bar_test = np.mean(true)\n",
    "    SSE = np.sum((pred - true)**2)\n",
    "    SST = np.sum((true - y_bar_test)**2)\n",
    "    return 1.-SSE/SST\n",
    "\n",
    "R2_score(y_test, test_set_pred1)"
   ]
  },
  {
   "cell_type": "markdown",
   "metadata": {},
   "source": [
    "Let's put all of those into one nice function that prints out all of our stats:"
   ]
  },
  {
   "cell_type": "code",
   "execution_count": null,
   "metadata": {
    "ExecuteTime": {
     "end_time": "2019-01-29T15:23:35.183428Z",
     "start_time": "2019-01-29T15:23:35.159642Z"
    }
   },
   "outputs": [],
   "source": [
    "def model_stats(true, pred):\n",
    "    results = {\n",
    "        \"MSE\": mean_square_error(true, pred),\n",
    "        \"MAE\": mean_absolute_deviation(true, pred),\n",
    "        \"RMSE\": root_mean_square_error(true,pred),\n",
    "        \"R2\": R2_score(true,pred),\n",
    "    }\n",
    "    print(results)\n",
    "    return results\n",
    "    \n",
    "model_stats(y_test, test_set_pred1)"
   ]
  },
  {
   "cell_type": "markdown",
   "metadata": {},
   "source": [
    "That was all well-and-good, but we left a lot of information out when we switched to just the square footage. So let's add some information back in by allowing the \"Lot Size\" to inform our decisions as well the quality of the home."
   ]
  },
  {
   "cell_type": "code",
   "execution_count": null,
   "metadata": {
    "ExecuteTime": {
     "end_time": "2019-01-29T15:24:29.425541Z",
     "start_time": "2019-01-29T15:24:29.417293Z"
    },
    "run_control": {
     "frozen": false,
     "read_only": false
    }
   },
   "outputs": [],
   "source": [
    "selected_columns_2 = ['Lot Area', 'Gr Liv Area']"
   ]
  },
  {
   "cell_type": "code",
   "execution_count": null,
   "metadata": {
    "ExecuteTime": {
     "end_time": "2019-01-29T15:24:30.197251Z",
     "start_time": "2019-01-29T15:24:30.182734Z"
    },
    "run_control": {
     "frozen": false,
     "read_only": false
    }
   },
   "outputs": [],
   "source": [
    "lr_model2 = LinearRegression()\n",
    "lr_model2.fit(X_train[selected_columns_2],y_train)"
   ]
  },
  {
   "cell_type": "code",
   "execution_count": null,
   "metadata": {
    "ExecuteTime": {
     "end_time": "2019-01-29T15:24:30.826457Z",
     "start_time": "2019-01-29T15:24:30.817771Z"
    },
    "run_control": {
     "frozen": false,
     "read_only": false
    }
   },
   "outputs": [],
   "source": [
    "lr_model2.coef_"
   ]
  },
  {
   "cell_type": "code",
   "execution_count": null,
   "metadata": {
    "ExecuteTime": {
     "end_time": "2019-01-29T15:24:31.313823Z",
     "start_time": "2019-01-29T15:24:31.301045Z"
    },
    "run_control": {
     "frozen": false,
     "read_only": false
    }
   },
   "outputs": [],
   "source": [
    "## This is a hack to show the variables next to their values\n",
    "list(zip(selected_columns_2,lr_model2.coef_))"
   ]
  },
  {
   "cell_type": "code",
   "execution_count": null,
   "metadata": {
    "ExecuteTime": {
     "end_time": "2019-01-29T15:24:32.014522Z",
     "start_time": "2019-01-29T15:24:32.008268Z"
    },
    "run_control": {
     "frozen": false,
     "read_only": false
    }
   },
   "outputs": [],
   "source": [
    "test_set_pred2 = lr_model2.predict(X_test[selected_columns_2])"
   ]
  },
  {
   "cell_type": "code",
   "execution_count": null,
   "metadata": {
    "ExecuteTime": {
     "end_time": "2019-01-29T15:24:33.341054Z",
     "start_time": "2019-01-29T15:24:32.496520Z"
    },
    "run_control": {
     "frozen": false,
     "read_only": false
    }
   },
   "outputs": [],
   "source": [
    "plt.figure(figsize=(10,6))\n",
    "plt.scatter(test_set_pred2,y_test,alpha=.2)\n",
    "plt.plot(np.linspace(0,600000,1000),np.linspace(0,600000,1000),'r-');\n",
    "plt.xlabel(\"Predicted\")\n",
    "plt.ylabel(\"Actual\");"
   ]
  },
  {
   "cell_type": "code",
   "execution_count": null,
   "metadata": {
    "ExecuteTime": {
     "end_time": "2019-01-29T15:24:35.114389Z",
     "start_time": "2019-01-29T15:24:35.097664Z"
    },
    "run_control": {
     "frozen": false,
     "read_only": false
    }
   },
   "outputs": [],
   "source": [
    "model_stats(y_test,test_set_pred2)"
   ]
  },
  {
   "cell_type": "markdown",
   "metadata": {},
   "source": [
    "Excellent! That's an improvement. You can see that our errors went down and our R2 went up. That's lovely. "
   ]
  },
  {
   "cell_type": "markdown",
   "metadata": {},
   "source": [
    "### Challenge 2: Add the overall quality informaton into your process for prediction\n",
    "\n",
    "\n",
    "Modify the code below to create a model named `lr_model_cha` that adds the Overall Qual column\n"
   ]
  },
  {
   "cell_type": "code",
   "execution_count": null,
   "metadata": {
    "ExecuteTime": {
     "end_time": "2019-01-29T15:46:48.559887Z",
     "start_time": "2019-01-29T15:46:48.523867Z"
    },
    "deletable": false,
    "nbgrader": {
     "checksum": "b772b04c4fd672766454cef7465ddf4e",
     "grade": false,
     "grade_id": "cell-c8095aba68d5ba7d",
     "locked": false,
     "schema_version": 1,
     "solution": true
    }
   },
   "outputs": [],
   "source": [
    "\n",
    "#---------modify this code----------------------------------#\n",
    "selected_columns_challenge = ['Lot Area', 'Gr Liv Area']\n",
    "lr_model_cha = LinearRegression()\n",
    "lr_model_cha.fit(X_train[selected_columns_challenge],y_train)\n",
    "\n",
    "\n",
    "#---------modify this code----------------------------------#\n",
    "\n",
    "# YOUR CODE HERE\n",
    "raise NotImplementedError()"
   ]
  },
  {
   "cell_type": "code",
   "execution_count": null,
   "metadata": {
    "ExecuteTime": {
     "end_time": "2019-01-29T15:46:42.080063Z",
     "start_time": "2019-01-29T15:46:41.969796Z"
    },
    "deletable": false,
    "editable": false,
    "nbgrader": {
     "checksum": "0b78108fdadcada663ac2c5cf77f91d1",
     "grade": false,
     "grade_id": "cell-07b4b20edee1839a",
     "locked": true,
     "schema_version": 1,
     "solution": false
    }
   },
   "outputs": [],
   "source": [
    "test_set_pred_cha = lr_model_cha.predict(X_test[selected_columns_challenge])\n",
    "\n",
    "print(list(zip(selected_columns_challenge,lr_model_cha.coef_)))\n",
    "\n",
    "plt.figure(figsize=(10,6))\n",
    "plt.scatter(test_set_pred_cha,y_test,alpha=.2)\n",
    "plt.plot(np.linspace(0,600000,1000),np.linspace(0,600000,1000),'r-');\n",
    "plt.xlabel(\"Predicted\")\n",
    "plt.ylabel(\"Actual\");\n",
    "\n",
    "stats = model_stats(y_test, test_set_pred_cha);"
   ]
  },
  {
   "cell_type": "code",
   "execution_count": null,
   "metadata": {
    "ExecuteTime": {
     "end_time": "2019-01-29T15:29:21.427841Z",
     "start_time": "2019-01-29T15:29:21.406663Z"
    },
    "deletable": false,
    "editable": false,
    "nbgrader": {
     "checksum": "77615a81a97adfcd6719c9e462ddc240",
     "grade": true,
     "grade_id": "cell-b80be300669adff0",
     "locked": true,
     "points": 0,
     "schema_version": 1,
     "solution": false
    }
   },
   "outputs": [],
   "source": [
    "assert 'Gr Liv Area' in selected_columns_challenge\n",
    "assert 'SalePrice' not in selected_columns_challenge\n",
    "\n",
    "test_set_pred_cha = lr_model_cha.predict(X_test[selected_columns_challenge])\n",
    "r2  = model_stats(y_test, test_set_pred_cha)[\"R2\"]\n",
    "\n",
    "assert r2 > .6\n",
    "assert r2 < .95\n"
   ]
  },
  {
   "cell_type": "markdown",
   "metadata": {
    "run_control": {
     "frozen": false,
     "read_only": false
    }
   },
   "source": [
    "### Feature Engineering\n",
    "Since there seems to be some non-linearity, let's make a new variable that is \"Greater Living Area\"^2. This is called feature engineering since we're \"engineering (or making)\" a new feature out of our old features."
   ]
  },
  {
   "cell_type": "code",
   "execution_count": null,
   "metadata": {
    "ExecuteTime": {
     "end_time": "2019-01-29T15:29:31.549420Z",
     "start_time": "2019-01-29T15:29:31.535849Z"
    },
    "run_control": {
     "frozen": false,
     "read_only": false
    }
   },
   "outputs": [],
   "source": [
    "X['GLA2'] = X['Gr Liv Area']**2\n",
    "X.columns"
   ]
  },
  {
   "cell_type": "code",
   "execution_count": null,
   "metadata": {
    "ExecuteTime": {
     "end_time": "2019-01-29T15:29:32.178064Z",
     "start_time": "2019-01-29T15:29:32.163460Z"
    },
    "deletable": false,
    "editable": false,
    "nbgrader": {
     "checksum": "c33149fa0afd90a888cad4a19add6f8c",
     "grade": false,
     "grade_id": "cell-5c028ca4a304ffc2",
     "locked": true,
     "schema_version": 1,
     "solution": false
    },
    "run_control": {
     "frozen": false,
     "read_only": false
    }
   },
   "outputs": [],
   "source": [
    "## We need to recreate the train and test sets -- make sure you use the same random seed!\n",
    "#Split the data 70-30 train/test\n",
    "\n",
    "X_train, X_test, y_train, y_test = train_test_split(X, y, test_size=0.3,random_state=42)"
   ]
  },
  {
   "cell_type": "code",
   "execution_count": null,
   "metadata": {
    "ExecuteTime": {
     "end_time": "2019-01-29T15:29:33.039518Z",
     "start_time": "2019-01-29T15:29:33.035173Z"
    },
    "deletable": false,
    "editable": false,
    "nbgrader": {
     "checksum": "59f9b51f4122fc1f52422e6ba85f134e",
     "grade": false,
     "grade_id": "cell-0fad30c227d33a50",
     "locked": true,
     "schema_version": 1,
     "solution": false
    },
    "run_control": {
     "frozen": false,
     "read_only": false
    }
   },
   "outputs": [],
   "source": [
    "selected_columns_3 = ['Lot Area', 'Overall Qual', 'GLA2']"
   ]
  },
  {
   "cell_type": "code",
   "execution_count": null,
   "metadata": {
    "ExecuteTime": {
     "end_time": "2019-01-29T15:29:34.089260Z",
     "start_time": "2019-01-29T15:29:34.076200Z"
    },
    "deletable": false,
    "editable": false,
    "nbgrader": {
     "checksum": "cc86b3863d9511f0a1c5af6232d497e9",
     "grade": false,
     "grade_id": "cell-44c704445700199d",
     "locked": true,
     "schema_version": 1,
     "solution": false
    },
    "run_control": {
     "frozen": false,
     "read_only": false
    }
   },
   "outputs": [],
   "source": [
    "lr_model3 = LinearRegression()\n",
    "lr_model3.fit(X_train[selected_columns_3],y_train)"
   ]
  },
  {
   "cell_type": "code",
   "execution_count": null,
   "metadata": {
    "ExecuteTime": {
     "end_time": "2019-01-29T15:29:35.069739Z",
     "start_time": "2019-01-29T15:29:35.061214Z"
    },
    "deletable": false,
    "editable": false,
    "nbgrader": {
     "checksum": "cd76f394c2c1e90aedad3978ce3e0814",
     "grade": false,
     "grade_id": "cell-0676d96cc24fb456",
     "locked": true,
     "schema_version": 1,
     "solution": false
    },
    "run_control": {
     "frozen": false,
     "read_only": false
    }
   },
   "outputs": [],
   "source": [
    "list(zip(X_train[selected_columns_3].columns,lr_model3.coef_))"
   ]
  },
  {
   "cell_type": "code",
   "execution_count": null,
   "metadata": {
    "ExecuteTime": {
     "end_time": "2019-01-29T15:29:36.016885Z",
     "start_time": "2019-01-29T15:29:36.010376Z"
    },
    "run_control": {
     "frozen": false,
     "read_only": false
    }
   },
   "outputs": [],
   "source": [
    "test_set_pred3 = lr_model3.predict(X_test[selected_columns_3])"
   ]
  },
  {
   "cell_type": "code",
   "execution_count": null,
   "metadata": {
    "ExecuteTime": {
     "end_time": "2019-01-29T15:29:37.815336Z",
     "start_time": "2019-01-29T15:29:37.185592Z"
    },
    "run_control": {
     "frozen": false,
     "read_only": false
    }
   },
   "outputs": [],
   "source": [
    "plt.figure(figsize=(10,6))\n",
    "plt.scatter(test_set_pred3,y_test,alpha=.1)\n",
    "plt.plot(np.linspace(0,600000,1000),np.linspace(0,600000,1000));\n",
    "plt.xlabel(\"Predicted\")\n",
    "plt.ylabel(\"Actual\");"
   ]
  },
  {
   "cell_type": "code",
   "execution_count": null,
   "metadata": {
    "ExecuteTime": {
     "end_time": "2019-01-29T15:29:39.503903Z",
     "start_time": "2019-01-29T15:29:39.489063Z"
    },
    "deletable": false,
    "editable": false,
    "nbgrader": {
     "checksum": "2fc5afb11610837346bcdaa3b857d491",
     "grade": false,
     "grade_id": "cell-b2c24a281389671f",
     "locked": true,
     "schema_version": 1,
     "solution": false
    },
    "run_control": {
     "frozen": false,
     "read_only": false
    }
   },
   "outputs": [],
   "source": [
    "model_stats(y_test,test_set_pred3)"
   ]
  },
  {
   "cell_type": "code",
   "execution_count": null,
   "metadata": {
    "run_control": {
     "frozen": false,
     "read_only": false
    }
   },
   "outputs": [],
   "source": []
  },
  {
   "cell_type": "markdown",
   "metadata": {
    "run_control": {
     "frozen": false,
     "read_only": false
    }
   },
   "source": [
    "## Exercise\n",
    "\n",
    "Attempt to build the best model they can using the techniques shown above. Some recommendations:\n",
    "\n",
    "* Add some of the features we removed. But be careful, we haven't talked about how to handle categorical data, so your model won't work with categories.\n",
    "* Do some feature engineering. We played with GLA^2, but there are more variables you can try things with. You might also try multiplying some features together to see if there are \"interaction\" terms.\n",
    "\n",
    "Go wild. Next week, you will have a chance to describe what sort of work you tried and how their model performed!"
   ]
  },
  {
   "cell_type": "code",
   "execution_count": null,
   "metadata": {},
   "outputs": [],
   "source": []
  },
  {
   "cell_type": "code",
   "execution_count": null,
   "metadata": {
    "ExecuteTime": {
     "end_time": "2019-01-29T15:45:35.987299Z",
     "start_time": "2019-01-29T15:45:35.972782Z"
    },
    "deletable": false,
    "nbgrader": {
     "checksum": "e349ddcf0865ffeeb21271d7872f3d0e",
     "grade": false,
     "grade_id": "cell-8adf7837d4502ac7",
     "locked": false,
     "schema_version": 1,
     "solution": true
    },
    "run_control": {
     "frozen": false,
     "read_only": false
    }
   },
   "outputs": [],
   "source": [
    "challenge_columns = [\"Year Built\", 'Gr Liv Area']\n",
    "\n",
    "# YOUR CODE HERE\n",
    "raise NotImplementedError()"
   ]
  },
  {
   "cell_type": "code",
   "execution_count": null,
   "metadata": {
    "ExecuteTime": {
     "end_time": "2019-01-29T15:45:37.742261Z",
     "start_time": "2019-01-29T15:45:37.094844Z"
    },
    "deletable": false,
    "editable": false,
    "nbgrader": {
     "checksum": "d5819cb35a47621084857e436de5c101",
     "grade": false,
     "grade_id": "cell-afa06eec8665c35b",
     "locked": true,
     "schema_version": 1,
     "solution": false
    }
   },
   "outputs": [],
   "source": [
    "\n",
    "X_challenge = X.loc[:,challenge_columns]\n",
    "\n",
    "X_train, X_test, y_train, y_test = train_test_split(X_challenge, y, test_size=0.3,random_state=42)\n",
    "\n",
    "\n",
    "lr_model = LinearRegression()\n",
    "lr_model.fit(X_train,y_train)\n",
    "print(\"Coeffs: \")\n",
    "for col, coe in list(zip(X_train.columns,lr_model.coef_)):\n",
    "    print((col,coe))\n",
    "\n",
    "test_set_pred = lr_model.predict(X_test)\n",
    "\n",
    "plt.figure(figsize=(8,6))\n",
    "plt.scatter(test_set_pred,y_test,alpha=.1)\n",
    "plt.plot(np.linspace(0,600000,1000),np.linspace(0,600000,1000),'r-')\n",
    "plt.xlabel('Predicted Price')\n",
    "plt.ylabel('Actual Price')\n",
    "\n",
    "\n",
    "stats = model_stats(y_test,test_set_pred);"
   ]
  },
  {
   "cell_type": "code",
   "execution_count": null,
   "metadata": {
    "ExecuteTime": {
     "end_time": "2019-01-29T15:43:07.772477Z",
     "start_time": "2019-01-29T15:43:07.766379Z"
    },
    "deletable": false,
    "editable": false,
    "nbgrader": {
     "checksum": "d395097b36123072f8fef50071160506",
     "grade": true,
     "grade_id": "cell-6c5c110b6bfb9671",
     "locked": true,
     "points": 10,
     "schema_version": 1,
     "solution": false
    }
   },
   "outputs": [],
   "source": [
    "assert stats[\"R2\"] > .796\n",
    "assert stats[\"R2\"] < .999"
   ]
  },
  {
   "cell_type": "code",
   "execution_count": null,
   "metadata": {},
   "outputs": [],
   "source": []
  }
 ],
 "metadata": {
  "kernelspec": {
   "display_name": "Python 3",
   "language": "python",
   "name": "python3"
  },
  "language_info": {
   "codemirror_mode": {
    "name": "ipython",
    "version": 3
   },
   "file_extension": ".py",
   "mimetype": "text/x-python",
   "name": "python",
   "nbconvert_exporter": "python",
   "pygments_lexer": "ipython3",
   "version": "3.6.7"
  }
 },
 "nbformat": 4,
 "nbformat_minor": 2
}
